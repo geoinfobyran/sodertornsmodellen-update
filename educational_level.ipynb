{
 "cells": [
  {
   "cell_type": "code",
   "execution_count": 1,
   "metadata": {},
   "outputs": [],
   "source": [
    "import pandas as pd\n",
    "import numpy as np\n",
    "import os\n",
    "import glob\n",
    "\n",
    "import matplotlib.pyplot as plt\n",
    "plt.rcParams['figure.figsize'] = (15, 5)\n",
    "pd.set_option('display.max_columns', 500)\n",
    "pd.set_option('display.width', 1000)"
   ]
  },
  {
   "cell_type": "code",
   "execution_count": 2,
   "metadata": {},
   "outputs": [],
   "source": [
    "from helpers import *"
   ]
  },
  {
   "cell_type": "markdown",
   "metadata": {},
   "source": [
    "# Data prep"
   ]
  },
  {
   "cell_type": "markdown",
   "metadata": {},
   "source": [
    "Läs in fil"
   ]
  },
  {
   "cell_type": "code",
   "execution_count": 3,
   "metadata": {},
   "outputs": [],
   "source": [
    "df = pd.read_csv('../indata/ODB_TSV/ODB-utbildningsnivå, ålder, tid och kön 2015-2017.txt', sep='\\t', header=1)"
   ]
  },
  {
   "cell_type": "markdown",
   "metadata": {},
   "source": [
    "Specificera indexering"
   ]
  },
  {
   "cell_type": "code",
   "execution_count": 4,
   "metadata": {},
   "outputs": [],
   "source": [
    "df = df.set_index(['område', 'utbildningsnivå'])"
   ]
  },
  {
   "cell_type": "markdown",
   "metadata": {},
   "source": [
    "Vänd ner samtliga kolumner i en kolumn"
   ]
  },
  {
   "cell_type": "code",
   "execution_count": 5,
   "metadata": {},
   "outputs": [],
   "source": [
    "df = pd.DataFrame(df.stack())"
   ]
  },
  {
   "cell_type": "markdown",
   "metadata": {},
   "source": [
    "Lyft ut index till kolumner igen"
   ]
  },
  {
   "cell_type": "code",
   "execution_count": 6,
   "metadata": {},
   "outputs": [],
   "source": [
    "df = df.reset_index()"
   ]
  },
  {
   "cell_type": "markdown",
   "metadata": {},
   "source": [
    "Sätt beskrivande kolumnnamn"
   ]
  },
  {
   "cell_type": "code",
   "execution_count": 7,
   "metadata": {},
   "outputs": [],
   "source": [
    "df = df.rename(columns={'level_2': 'ageyeargender', 0: 'value'})"
   ]
  },
  {
   "cell_type": "markdown",
   "metadata": {},
   "source": [
    "Splitta områdesnamn till endast baskod"
   ]
  },
  {
   "cell_type": "code",
   "execution_count": 8,
   "metadata": {
    "scrolled": true
   },
   "outputs": [],
   "source": [
    "df['område'] = df['område'].str.split(' ', 1, expand = True)\n",
    "df = df.rename(columns={'område': 'BASKOD2010'})\n",
    "df['BASKOD2010'] = df['BASKOD2010'].astype(str).astype(int)"
   ]
  },
  {
   "cell_type": "markdown",
   "metadata": {},
   "source": [
    "Byt om `BASKOD2010` till entity-namnet"
   ]
  },
  {
   "cell_type": "code",
   "execution_count": 9,
   "metadata": {},
   "outputs": [],
   "source": [
    "df = baskod2010tobasomrade(df)"
   ]
  },
  {
   "cell_type": "markdown",
   "metadata": {},
   "source": [
    "Splitta ut `ageyeargender` till fyra separata kolumner"
   ]
  },
  {
   "cell_type": "code",
   "execution_count": 10,
   "metadata": {},
   "outputs": [],
   "source": [
    "df['agegroup'], df['kasta'], df['year'], df['gender'] = df['ageyeargender'].str.split(' ').str"
   ]
  },
  {
   "cell_type": "markdown",
   "metadata": {},
   "source": [
    "Kasta kolumner som inte längre är relevanta"
   ]
  },
  {
   "cell_type": "code",
   "execution_count": 11,
   "metadata": {},
   "outputs": [],
   "source": [
    "df = df.drop('kasta', 1)\n",
    "df = df.drop('ageyeargender', 1)"
   ]
  },
  {
   "cell_type": "markdown",
   "metadata": {},
   "source": [
    "Specificera ordningen på kolumnerna"
   ]
  },
  {
   "cell_type": "code",
   "execution_count": 12,
   "metadata": {},
   "outputs": [],
   "source": [
    "df = df[['basomrade','year','utbildningsnivå', 'gender', 'agegroup', 'value']]"
   ]
  },
  {
   "cell_type": "markdown",
   "metadata": {},
   "source": [
    "Specificera indexering"
   ]
  },
  {
   "cell_type": "code",
   "execution_count": 13,
   "metadata": {
    "scrolled": true
   },
   "outputs": [],
   "source": [
    "df = df.set_index(['basomrade'])"
   ]
  },
  {
   "cell_type": "markdown",
   "metadata": {},
   "source": [
    "Slå samman åldersgrupper till en `25-64` grupp."
   ]
  },
  {
   "cell_type": "code",
   "execution_count": 14,
   "metadata": {},
   "outputs": [],
   "source": [
    "df = df[df['agegroup'] != '20-24']"
   ]
  },
  {
   "cell_type": "code",
   "execution_count": 15,
   "metadata": {
    "scrolled": true
   },
   "outputs": [],
   "source": [
    "df = df.groupby(['basomrade', 'year', 'utbildningsnivå', 'gender']).sum().reset_index()"
   ]
  },
  {
   "cell_type": "markdown",
   "metadata": {},
   "source": [
    "Byt namn på `gender` kolumnen för att följa konventionen i övriga notebooks."
   ]
  },
  {
   "cell_type": "code",
   "execution_count": 16,
   "metadata": {},
   "outputs": [],
   "source": [
    "df = df.rename(columns={'gender':'Kön'})"
   ]
  },
  {
   "cell_type": "markdown",
   "metadata": {},
   "source": [
    "Sätt `Kön` till en pandas category"
   ]
  },
  {
   "cell_type": "code",
   "execution_count": 17,
   "metadata": {},
   "outputs": [],
   "source": [
    "df['Kön'] = df['Kön'].astype('category')\n",
    "df['Kön'].cat.categories = ['female', 'male']"
   ]
  },
  {
   "cell_type": "code",
   "execution_count": 18,
   "metadata": {},
   "outputs": [
    {
     "data": {
      "text/plain": [
       "['Eftergymnasial 3- år',\n",
       " 'Eftergymnasial < 3 år',\n",
       " 'Förgymnasial',\n",
       " 'Gymnasial',\n",
       " 'Uppgift saknas']"
      ]
     },
     "execution_count": 18,
     "metadata": {},
     "output_type": "execute_result"
    }
   ],
   "source": [
    "df['utbildningsnivå'].unique().tolist()\n",
    "\n",
    "# df['utbildningsnivå'].unique()"
   ]
  },
  {
   "cell_type": "markdown",
   "metadata": {},
   "source": [
    "# Antal"
   ]
  },
  {
   "cell_type": "markdown",
   "metadata": {},
   "source": [
    "Exportera"
   ]
  },
  {
   "cell_type": "code",
   "execution_count": 19,
   "metadata": {},
   "outputs": [],
   "source": [
    "concept_key = {\n",
    "    'Eftergymnasial 3- år': 'higher_education_min_3_years_aged_25_64',\n",
    "    'Eftergymnasial < 3 år': 'higher_education_max_3_years_aged_25_64',\n",
    "    'Förgymnasial': 'pre_secondary_school_aged_25_64',\n",
    "    'Gymnasial': 'secondary_school_aged_25_64',\n",
    "    'Uppgift saknas': 'missing_data'\n",
    "}"
   ]
  },
  {
   "cell_type": "code",
   "execution_count": 20,
   "metadata": {},
   "outputs": [
    {
     "name": "stdout",
     "output_type": "stream",
     "text": [
      "Saved educational_level_higher_education_min_3_years_aged_25_64_female to ../ddf--sodertornsmodellen-output/ddf--sodertornsmodellen--src/ddf--datapoints--educational_level_higher_education_min_3_years_aged_25_64_female--by--basomrade--year.csv\n",
      "\n",
      "Saved educational_level_higher_education_min_3_years_aged_25_64_male to ../ddf--sodertornsmodellen-output/ddf--sodertornsmodellen--src/ddf--datapoints--educational_level_higher_education_min_3_years_aged_25_64_male--by--basomrade--year.csv\n",
      "\n",
      "Saved educational_level_higher_education_min_3_years_aged_25_64 to ../ddf--sodertornsmodellen-output/ddf--sodertornsmodellen--src/ddf--datapoints--educational_level_higher_education_min_3_years_aged_25_64--by--basomrade--year.csv\n",
      "\n",
      "Saved educational_level_higher_education_max_3_years_aged_25_64_female to ../ddf--sodertornsmodellen-output/ddf--sodertornsmodellen--src/ddf--datapoints--educational_level_higher_education_max_3_years_aged_25_64_female--by--basomrade--year.csv\n",
      "\n",
      "Saved educational_level_higher_education_max_3_years_aged_25_64_male to ../ddf--sodertornsmodellen-output/ddf--sodertornsmodellen--src/ddf--datapoints--educational_level_higher_education_max_3_years_aged_25_64_male--by--basomrade--year.csv\n",
      "\n",
      "Saved educational_level_higher_education_max_3_years_aged_25_64 to ../ddf--sodertornsmodellen-output/ddf--sodertornsmodellen--src/ddf--datapoints--educational_level_higher_education_max_3_years_aged_25_64--by--basomrade--year.csv\n",
      "\n",
      "Saved educational_level_pre_secondary_school_aged_25_64_female to ../ddf--sodertornsmodellen-output/ddf--sodertornsmodellen--src/ddf--datapoints--educational_level_pre_secondary_school_aged_25_64_female--by--basomrade--year.csv\n",
      "\n",
      "Saved educational_level_pre_secondary_school_aged_25_64_male to ../ddf--sodertornsmodellen-output/ddf--sodertornsmodellen--src/ddf--datapoints--educational_level_pre_secondary_school_aged_25_64_male--by--basomrade--year.csv\n",
      "\n",
      "Saved educational_level_pre_secondary_school_aged_25_64 to ../ddf--sodertornsmodellen-output/ddf--sodertornsmodellen--src/ddf--datapoints--educational_level_pre_secondary_school_aged_25_64--by--basomrade--year.csv\n",
      "\n",
      "Saved educational_level_secondary_school_aged_25_64_female to ../ddf--sodertornsmodellen-output/ddf--sodertornsmodellen--src/ddf--datapoints--educational_level_secondary_school_aged_25_64_female--by--basomrade--year.csv\n",
      "\n",
      "Saved educational_level_secondary_school_aged_25_64_male to ../ddf--sodertornsmodellen-output/ddf--sodertornsmodellen--src/ddf--datapoints--educational_level_secondary_school_aged_25_64_male--by--basomrade--year.csv\n",
      "\n",
      "Saved educational_level_secondary_school_aged_25_64 to ../ddf--sodertornsmodellen-output/ddf--sodertornsmodellen--src/ddf--datapoints--educational_level_secondary_school_aged_25_64--by--basomrade--year.csv\n",
      "\n",
      "Saved missing_data_female to ../ddf--sodertornsmodellen-output/ddf--sodertornsmodellen--src/ddf--datapoints--missing_data_female--by--basomrade--year.csv\n",
      "\n",
      "Saved missing_data_male to ../ddf--sodertornsmodellen-output/ddf--sodertornsmodellen--src/ddf--datapoints--missing_data_male--by--basomrade--year.csv\n",
      "\n",
      "Saved missing_data to ../ddf--sodertornsmodellen-output/ddf--sodertornsmodellen--src/ddf--datapoints--missing_data--by--basomrade--year.csv\n",
      "\n"
     ]
    },
    {
     "data": {
      "image/png": "[encoded data removed]",
      "text/plain": [
       "<Figure size 432x288 with 1 Axes>"
      ]
     },
     "metadata": {},
     "output_type": "display_data"
    }
   ],
   "source": [
    "for i in concept_key:\n",
    "    concept = 'educational_level_{level}'.format(level=concept_key[i]) if i != 'Uppgift saknas' else concept_key[i]\n",
    "    level = df[df['utbildningsnivå'] == i]\n",
    "    byGender(concept, level)\n",
    "    level = level.groupby(['basomrade', 'year']).sum().reset_index()\n",
    "    combined = appendNewDatapoints(concept, level)\n",
    "    plotcombined(combined, i)"
   ]
  },
  {
   "cell_type": "markdown",
   "metadata": {},
   "source": [
    "# Andel högutbildade"
   ]
  },
  {
   "cell_type": "code",
   "execution_count": 21,
   "metadata": {},
   "outputs": [],
   "source": [
    "concept = 'post_secondary_education_min_3_years_aged_25_64'"
   ]
  },
  {
   "cell_type": "markdown",
   "metadata": {},
   "source": [
    "### Andel per kön"
   ]
  },
  {
   "cell_type": "code",
   "execution_count": 22,
   "metadata": {},
   "outputs": [],
   "source": [
    "bygender = df.copy()"
   ]
  },
  {
   "cell_type": "markdown",
   "metadata": {},
   "source": [
    "Vi är bara intresserade av andel högutbildade"
   ]
  },
  {
   "cell_type": "code",
   "execution_count": 24,
   "metadata": {},
   "outputs": [],
   "source": [
    "bygender = bygender[bygender['utbildningsnivå'].isin(['Eftergymnasial 3- år'])]"
   ]
  },
  {
   "cell_type": "code",
   "execution_count": 25,
   "metadata": {},
   "outputs": [],
   "source": [
    "bygender = bygender.groupby(['basomrade', 'year', 'Kön']).sum().reset_index()\n",
    "bygender = bygender[['basomrade', 'year', 'Kön', 'value']]"
   ]
  },
  {
   "cell_type": "code",
   "execution_count": 26,
   "metadata": {},
   "outputs": [],
   "source": [
    "total = df.groupby(['basomrade', 'year', 'Kön']).sum().add_prefix('total_').reset_index()\n",
    "\n",
    "bygender = pd.merge(bygender, total)"
   ]
  },
  {
   "cell_type": "code",
   "execution_count": 29,
   "metadata": {},
   "outputs": [],
   "source": [
    "bygender['rate'] = bygender['value'] / bygender['total_value']\n",
    "bygender = bygender[['basomrade', 'year', 'rate', 'Kön']]\n",
    "bygender = bygender.rename(columns={'rate': 'value'})"
   ]
  },
  {
   "cell_type": "markdown",
   "metadata": {},
   "source": [
    "Exportera"
   ]
  },
  {
   "cell_type": "code",
   "execution_count": 31,
   "metadata": {
    "scrolled": false
   },
   "outputs": [
    {
     "name": "stdout",
     "output_type": "stream",
     "text": [
      "Saved post_secondary_education_min_3_years_aged_25_64_female to ../ddf--sodertornsmodellen-output/ddf--sodertornsmodellen--src/ddf--datapoints--post_secondary_education_min_3_years_aged_25_64_female--by--basomrade--year.csv\n",
      "\n",
      "Saved post_secondary_education_min_3_years_aged_25_64_male to ../ddf--sodertornsmodellen-output/ddf--sodertornsmodellen--src/ddf--datapoints--post_secondary_education_min_3_years_aged_25_64_male--by--basomrade--year.csv\n",
      "\n"
     ]
    }
   ],
   "source": [
    "female, male = byGender(concept, bygender)"
   ]
  },
  {
   "cell_type": "code",
   "execution_count": 32,
   "metadata": {},
   "outputs": [
    {
     "data": {
      "image/png": "[encoded data removed]",
      "text/plain": [
       "<Figure size 432x288 with 1 Axes>"
      ]
     },
     "metadata": {},
     "output_type": "display_data"
    }
   ],
   "source": [
    "plotcombined(male, 'male')\n",
    "plotcombined(female, 'female')"
   ]
  },
  {
   "cell_type": "markdown",
   "metadata": {},
   "source": [
    "### Andel totalt"
   ]
  },
  {
   "cell_type": "code",
   "execution_count": 33,
   "metadata": {},
   "outputs": [],
   "source": [
    "total = df.groupby(['basomrade', 'year']).sum().add_prefix('total_').reset_index()\n",
    "rate = df"
   ]
  },
  {
   "cell_type": "code",
   "execution_count": 34,
   "metadata": {},
   "outputs": [],
   "source": [
    "rate = rate[rate['utbildningsnivå'].isin(['Eftergymnasial 3- år'])]"
   ]
  },
  {
   "cell_type": "code",
   "execution_count": 35,
   "metadata": {},
   "outputs": [],
   "source": [
    "rate = rate.groupby(['basomrade', 'year']).sum().reset_index()"
   ]
  },
  {
   "cell_type": "code",
   "execution_count": 36,
   "metadata": {},
   "outputs": [],
   "source": [
    "rate = pd.merge(total, rate)"
   ]
  },
  {
   "cell_type": "code",
   "execution_count": 37,
   "metadata": {},
   "outputs": [],
   "source": [
    "rate['rate'] = rate['value'] / rate['total_value']"
   ]
  },
  {
   "cell_type": "code",
   "execution_count": 39,
   "metadata": {},
   "outputs": [],
   "source": [
    "rate = rate[['basomrade', 'year', 'rate']]\n",
    "rate = rate.rename(columns={'rate': 'value'})"
   ]
  },
  {
   "cell_type": "code",
   "execution_count": 40,
   "metadata": {},
   "outputs": [
    {
     "name": "stdout",
     "output_type": "stream",
     "text": [
      "Saved post_secondary_education_min_3_years_aged_25_64 to ../ddf--sodertornsmodellen-output/ddf--sodertornsmodellen--src/ddf--datapoints--post_secondary_education_min_3_years_aged_25_64--by--basomrade--year.csv\n",
      "\n"
     ]
    }
   ],
   "source": [
    "combined = appendNewDatapoints(concept, rate)"
   ]
  },
  {
   "cell_type": "code",
   "execution_count": 41,
   "metadata": {},
   "outputs": [
    {
     "data": {
      "image/png": "[encoded data removed]",
      "text/plain": [
       "<Figure size 432x288 with 1 Axes>"
      ]
     },
     "metadata": {},
     "output_type": "display_data"
    }
   ],
   "source": [
    "plotcombined(combined)"
   ]
  }
 ],
 "metadata": {
  "kernelspec": {
   "display_name": "Python 3",
   "language": "python",
   "name": "python3"
  },
  "language_info": {
   "codemirror_mode": {
    "name": "ipython",
    "version": 3
   },
   "file_extension": ".py",
   "mimetype": "text/x-python",
   "name": "python",
   "nbconvert_exporter": "python",
   "pygments_lexer": "ipython3",
   "version": "3.6.5"
  }
 },
 "nbformat": 4,
 "nbformat_minor": 2
}
