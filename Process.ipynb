{
 "cells": [
  {
   "cell_type": "markdown",
   "metadata": {},
   "source": [
    "# Uppdatering av data\n",
    "*ddf--sodertornsmodellen*\n",
    "\n",
    "Uppdatering av Geografiska Informationsbyrån, januari 2019\n",
    "\n",
    "## Utgångsläge\n",
    "\n",
    "https://open-numbers.github.io/sodertornsmodellen/ ska uppdateras med nya data.\n",
    "\n",
    "De data som visas i verktyget idag (början av januari 2019) ligger i det här repot [ddf--sodertornsmodellen](https://github.com/open-numbers/ddf--sodertornsmodellen/)\n",
    "\n",
    "## Struktur\n",
    "\n",
    "Indata på basområdesnivå från SCB får inte distribueras fritt. Nedanstående filstruktur används därför för att hålla indata separat från script och utdata.\n",
    "\n",
    "```\n",
    ".\n",
    "├── ddf--sodertornsmodellen-output (git-repo)\n",
    "├── indata\n",
    "│   ├── ddf--sodertornsmodellen\n",
    "│   ├── MASTER_00-17.xlsx\n",
    "│   ├── ODB_TSV\n",
    "│   └── supermappen\n",
    "├── notebooks (git-repo)\n",
    "└── sodertornsmodellen (git-repo)\n",
    "\n",
    "```\n",
    "\n",
    "### ddf--sodertornsmodellen-output\n",
    "\n",
    "Git repot med uppdaterade ddf-csv filer. Hålls separat från originalrepot för att undvika problem med att läsa och skriva till samma fil. Det skapar problem när scripten körs mer än en gång.\n",
    "\n",
    "### indata\n",
    "\n",
    "Det finns fyra indatakällor.\n",
    "\n",
    "1. De data som redan ligger i verktyget [ddf--sodertornsmodellen](https://github.com/open-numbers/ddf--sodertornsmodellen/). Dels datapoints `*datapoints*.csv` filerna\n",
    "\n",
    "1. Excelfilen `MASTER_00-17.csv.xlsx`\n",
    "\n",
    "1. `.csv` filterna i `Supermappen`\n",
    "\n",
    "1. `.txt` tsv exporter från ODB\n",
    "\n",
    "### gib-update\n",
    "\n",
    "Jupyter notebooks och python-script för vår uppdatering.\n",
    "\n",
    "### sodertornsmodellen\n",
    "\n",
    "För att kunna testa att uppdateringarna fungerar allt eftersom har vi lagt upp en kopia av verktyget på https://geografiskainformationsbyran.se/sodertornsmodellen/\n",
    "\n",
    "\n",
    "\n",
    "\n"
   ]
  },
  {
   "cell_type": "markdown",
   "metadata": {},
   "source": [
    "----\n",
    "\n",
    "----\n",
    "\n",
    "----"
   ]
  },
  {
   "cell_type": "markdown",
   "metadata": {},
   "source": [
    "## Dependencies"
   ]
  },
  {
   "cell_type": "code",
   "execution_count": 1,
   "metadata": {},
   "outputs": [],
   "source": [
    "import pandas as pd\n",
    "import numpy as np\n",
    "import os\n",
    "import glob\n",
    "\n",
    "import matplotlib.pyplot as plt\n",
    "plt.rcParams['figure.figsize'] = (15, 5)\n",
    "pd.set_option('display.max_columns', 500)\n",
    "pd.set_option('display.width', 1000)\n"
   ]
  },
  {
   "cell_type": "code",
   "execution_count": 2,
   "metadata": {},
   "outputs": [],
   "source": [
    "indataPath = os.path.join(os.pardir, \"indata\")\n",
    "\n",
    "ddfRootPath = os.path.join(indataPath, \"ddf--sodertornsmodellen\")\n",
    "ddfSrcPath = os.path.join(ddfRootPath, \"ddf--sodertornsmodellen--src\")\n",
    "\n",
    "superPath = os.path.join(indataPath, \"supermappen\")\n",
    "\n",
    "ddfOutputPath = os.path.join(os.pardir, 'ddf--sodertornsmodellen-output', 'ddf--sodertornsmodellen--src')"
   ]
  },
  {
   "cell_type": "markdown",
   "metadata": {},
   "source": [
    "## Helpers"
   ]
  },
  {
   "cell_type": "code",
   "execution_count": 3,
   "metadata": {},
   "outputs": [],
   "source": [
    "from helpers import *"
   ]
  },
  {
   "cell_type": "markdown",
   "metadata": {},
   "source": [
    "----\n",
    "\n",
    "----\n",
    "\n",
    "----"
   ]
  },
  {
   "cell_type": "markdown",
   "metadata": {},
   "source": [
    "## Läs in MASTER excel filen"
   ]
  },
  {
   "cell_type": "code",
   "execution_count": 4,
   "metadata": {},
   "outputs": [],
   "source": [
    "master = pd.read_excel(os.path.join(indataPath, 'MASTER_00-17.xlsx'))"
   ]
  },
  {
   "cell_type": "code",
   "execution_count": 5,
   "metadata": {
    "scrolled": true
   },
   "outputs": [],
   "source": [
    "# byt namn på kolumner för att matcha namnen i ddf-filerna\n",
    "master = master.rename(columns={\n",
    "    'område': 'name',\n",
    "    'Basområde': 'BASKODER', # kolumnen Basområde blandar BK2010 och BK2000\n",
    "    'tid': 'year'\n",
    "})\n",
    "\n",
    "master['year'] = pd.to_datetime(master['year'].astype(str))"
   ]
  },
  {
   "cell_type": "markdown",
   "metadata": {},
   "source": [
    "----\n",
    "\n",
    "----\n",
    "\n",
    "----"
   ]
  },
  {
   "cell_type": "markdown",
   "metadata": {},
   "source": [
    "## Lookups"
   ]
  },
  {
   "cell_type": "markdown",
   "metadata": {},
   "source": [
    "### Baskod2010 => Baskod2000"
   ]
  },
  {
   "cell_type": "code",
   "execution_count": 6,
   "metadata": {},
   "outputs": [],
   "source": [
    "baskodkey = pd.read_excel(os.path.join(ddfRootPath, 'etl', 'source', '161115 A7 utan formler.xlsx'), skiprows=[0,1,2,3,4,5,6], converters={2010: lambda x: str(x)})\n",
    "baskodkey = baskodkey[[2010, 'BASKOD2000']]\n",
    "baskodkey = baskodkey.rename(columns={2010: 'BASKOD2010'})\n",
    "baskodkey['BASKOD2010'] = baskodkey['BASKOD2010'].astype(str).astype(int)"
   ]
  },
  {
   "cell_type": "code",
   "execution_count": 7,
   "metadata": {},
   "outputs": [
    {
     "data": {
      "text/html": [
       "<div>\n",
       "<style scoped>\n",
       "    .dataframe tbody tr th:only-of-type {\n",
       "        vertical-align: middle;\n",
       "    }\n",
       "\n",
       "    .dataframe tbody tr th {\n",
       "        vertical-align: top;\n",
       "    }\n",
       "\n",
       "    .dataframe thead th {\n",
       "        text-align: right;\n",
       "    }\n",
       "</style>\n",
       "<table border=\"1\" class=\"dataframe\">\n",
       "  <thead>\n",
       "    <tr style=\"text-align: right;\">\n",
       "      <th></th>\n",
       "      <th>BASKOD2010</th>\n",
       "      <th>BASKOD2000</th>\n",
       "    </tr>\n",
       "  </thead>\n",
       "  <tbody>\n",
       "    <tr>\n",
       "      <th>0</th>\n",
       "      <td>1010110</td>\n",
       "      <td>1010110</td>\n",
       "    </tr>\n",
       "    <tr>\n",
       "      <th>1</th>\n",
       "      <td>1010120</td>\n",
       "      <td>1010120</td>\n",
       "    </tr>\n",
       "    <tr>\n",
       "      <th>2</th>\n",
       "      <td>1010130</td>\n",
       "      <td>1010130</td>\n",
       "    </tr>\n",
       "    <tr>\n",
       "      <th>3</th>\n",
       "      <td>1010140</td>\n",
       "      <td>1010140</td>\n",
       "    </tr>\n",
       "    <tr>\n",
       "      <th>4</th>\n",
       "      <td>1010201</td>\n",
       "      <td>1010201</td>\n",
       "    </tr>\n",
       "  </tbody>\n",
       "</table>\n",
       "</div>"
      ],
      "text/plain": [
       "   BASKOD2010  BASKOD2000\n",
       "0     1010110     1010110\n",
       "1     1010120     1010120\n",
       "2     1010130     1010130\n",
       "3     1010140     1010140\n",
       "4     1010201     1010201"
      ]
     },
     "execution_count": 7,
     "metadata": {},
     "output_type": "execute_result"
    }
   ],
   "source": [
    "baskodkey.head(5)"
   ]
  },
  {
   "cell_type": "code",
   "execution_count": 8,
   "metadata": {},
   "outputs": [
    {
     "name": "stdout",
     "output_type": "stream",
     "text": [
      "1364\n",
      "1364\n",
      "1299\n"
     ]
    }
   ],
   "source": [
    "print(baskodkey.shape[0])\n",
    "print(baskodkey['BASKOD2010'].nunique())\n",
    "print(baskodkey['BASKOD2000'].nunique())"
   ]
  },
  {
   "cell_type": "markdown",
   "metadata": {},
   "source": [
    "### Baskod2000 => Basomr entity name "
   ]
  },
  {
   "cell_type": "code",
   "execution_count": 9,
   "metadata": {},
   "outputs": [],
   "source": [
    "entityKey = pd.read_csv(os.path.join(ddfOutputPath, 'ddf--entities--basomrade.csv'))\n",
    "entityKey = entityKey.rename(columns={'baskod2000': 'BASKOD2000'})\n",
    "entityKey['basomrade'] = entityKey['basomrade'].astype(str)\n",
    "\n",
    "entityKey = entityKey[['basomrade', 'BASKOD2000']]\n",
    "# entityKey"
   ]
  },
  {
   "cell_type": "code",
   "execution_count": 10,
   "metadata": {},
   "outputs": [
    {
     "data": {
      "text/plain": [
       "basomrade     1086\n",
       "BASKOD2000    1086\n",
       "dtype: int64"
      ]
     },
     "execution_count": 10,
     "metadata": {},
     "output_type": "execute_result"
    }
   ],
   "source": [
    "entityKey.nunique()"
   ]
  },
  {
   "cell_type": "markdown",
   "metadata": {},
   "source": [
    "----\n",
    "\n",
    "----\n",
    "\n",
    "----"
   ]
  },
  {
   "cell_type": "markdown",
   "metadata": {},
   "source": [
    "# Lista kolumner i masterfilen"
   ]
  },
  {
   "cell_type": "code",
   "execution_count": 11,
   "metadata": {},
   "outputs": [],
   "source": [
    "mas2014 = master[master['year'] >= pd.to_datetime('2014')]\n",
    "mas2014 = mas2014.rename(columns = {\n",
    "    'BASKODER': 'BASKOD2010'\n",
    "})"
   ]
  },
  {
   "cell_type": "code",
   "execution_count": 12,
   "metadata": {},
   "outputs": [
    {
     "data": {
      "text/plain": [
       "array(['Befolkning Män', 'Befolkning Kvinnor', 'Befolkning Total',\n",
       "       'Befolkning män18-64', 'Befolkning kvinnor 18-64',\n",
       "       'Befolkning totalt 18-64', 'Befolkning män 16-',\n",
       "       'Befolkning kvinnor 16-', 'Befolkning tot 16-', 'Lght_Hyresrätt',\n",
       "       'Lght_Bostadsrätt', 'Lght_Äganderätt', 'Lght_Uppgift saknas',\n",
       "       'Lght total', 'Lght_Andel_Hyresrätter', 'Lght_Andel_Bostadsrätter',\n",
       "       'Lght_Andel_Äganderätter', 'Lght_Andel_Uppgift Sanas',\n",
       "       'Fst_Lantbruksfastighet', 'Fst_Småhus inklusive Fritidshus',\n",
       "       'Fst_Hyreshus', 'Fst_Övriga', 'Fst_Totalt',\n",
       "       'Fst_Andel_Lantbruksfastighet',\n",
       "       'Fst_Andel_Småhus inklusive Fritidshus', 'Fst_Andel_Hyreshus',\n",
       "       'Fst_Andel_Övriga', 'Antal hushåll med barn',\n",
       "       'Antal hushåll utan barn', 'Hsh_Gifta/sambo med barn',\n",
       "       'Hsh_Gifta/sambo utan barn', 'Hsh_Ensamstående med barn',\n",
       "       'Hsh_Ensamstående utan barn', 'Hsh_Övriga', 'Hsh_Total',\n",
       "       'Hsh_Andel_Gifta/sambo med barn',\n",
       "       'Hsh_Andel_Gifta/sambo utan barn',\n",
       "       'Hsh_Andel_Ensamstående med barn',\n",
       "       'Hsh_Andel_Ensamstående utan barn', 'Hsh_Andel_Övriga',\n",
       "       'Ekbist 18-64 män', 'Ekbist 18-64 kvinnor', 'Ekbist 18-64 tot',\n",
       "       'Ekbist_Andel_18-64_män', 'Ekbist_Andel_18-64_kvinnor',\n",
       "       'Ekbist_Andel_18-64_tot', 'Dagbef män 16-', 'Dagbef kvinnor 16-',\n",
       "       'Dagbef tot 16-'], dtype=object)"
      ]
     },
     "execution_count": 12,
     "metadata": {},
     "output_type": "execute_result"
    }
   ],
   "source": [
    "masterCols = mas2014.columns.values[5:-2]#.tolist()\n",
    "len(masterCols)\n",
    "masterCols"
   ]
  },
  {
   "cell_type": "code",
   "execution_count": 13,
   "metadata": {},
   "outputs": [],
   "source": [
    "for col in  masterCols:\n",
    "    coldf = mas2014[['BASKOD2010', 'year', col]]\n",
    "    coldf = pd.merge(coldf, baskodkey, on='BASKOD2010', how='left')\n",
    "    coldf = pd.merge(coldf, entityKey[['BASKOD2000', 'basomrade']], on='BASKOD2000', how='left')\n",
    "    coldf = coldf.dropna(how='any')\n",
    "#     print(coldf)\n",
    "#     print(master[['BASKODER', col]])"
   ]
  },
  {
   "cell_type": "markdown",
   "metadata": {},
   "source": [
    "----\n",
    "\n",
    "----\n",
    "\n",
    "----"
   ]
  },
  {
   "cell_type": "markdown",
   "metadata": {},
   "source": [
    "# Utbildningsnivå"
   ]
  },
  {
   "cell_type": "markdown",
   "metadata": {},
   "source": [
    "Utbildningsnivå processas i en separat notebook: [educational_level](educational_level.ipynb)"
   ]
  },
  {
   "cell_type": "markdown",
   "metadata": {},
   "source": [
    "----\n",
    "\n",
    "----\n",
    "\n",
    "----"
   ]
  },
  {
   "cell_type": "markdown",
   "metadata": {},
   "source": [
    "# Befolkning 25-64"
   ]
  },
  {
   "cell_type": "markdown",
   "metadata": {},
   "source": [
    "Processas i en separat notebook: [population_25_64](population_25_64.ipynb)"
   ]
  },
  {
   "cell_type": "markdown",
   "metadata": {},
   "source": [
    "----\n",
    "\n",
    "----\n",
    "\n",
    "----"
   ]
  },
  {
   "cell_type": "markdown",
   "metadata": {},
   "source": [
    "# Medelinkomst"
   ]
  },
  {
   "cell_type": "markdown",
   "metadata": {},
   "source": [
    "### Per kön"
   ]
  },
  {
   "cell_type": "code",
   "execution_count": 47,
   "metadata": {},
   "outputs": [],
   "source": [
    "medelkon = glob.glob('../indata/supermappen/*MedelkonBas*.csv')"
   ]
  },
  {
   "cell_type": "code",
   "execution_count": 48,
   "metadata": {},
   "outputs": [],
   "source": [
    "def readMedelkonBas(file):\n",
    "    df = pd.read_csv(file, encoding='latin1' , sep=';', decimal=',', header=1)\n",
    "    df['year'] = pd.to_datetime(getYear(file))\n",
    "    df = df.rename(columns={\n",
    "        \"M=1 Kv = 2\":'Kön',\n",
    "        'Basområde': 'BASKOD2010',\n",
    "        'inkl 0': 'mean_income'\n",
    "    })\n",
    "    df['Kön'] = df['Kön'].astype('category')\n",
    "    df['Kön'].cat.categories = ['male', 'female']\n",
    "    df['year'] = df['year'].apply(lambda t: t.year)\n",
    "    return df"
   ]
  },
  {
   "cell_type": "code",
   "execution_count": 49,
   "metadata": {},
   "outputs": [],
   "source": [
    "medelkondf = pd.concat(list(map(readMedelkonBas, medelkon)))"
   ]
  },
  {
   "cell_type": "code",
   "execution_count": 50,
   "metadata": {},
   "outputs": [],
   "source": [
    "medelkondf = pd.merge(medelkondf, baskodkey, on='BASKOD2010', how='left')"
   ]
  },
  {
   "cell_type": "code",
   "execution_count": 51,
   "metadata": {},
   "outputs": [],
   "source": [
    "medelkondf = pd.merge(medelkondf, entityKey[['BASKOD2000', 'basomrade']], on='BASKOD2000', how='left')"
   ]
  },
  {
   "cell_type": "code",
   "execution_count": 52,
   "metadata": {},
   "outputs": [],
   "source": [
    "medelkondf = medelkondf.dropna(how='any')"
   ]
  },
  {
   "cell_type": "code",
   "execution_count": 53,
   "metadata": {},
   "outputs": [],
   "source": [
    "medelkondf = medelkondf[['basomrade', 'year', 'mean_income','Kön']]"
   ]
  },
  {
   "cell_type": "code",
   "execution_count": 54,
   "metadata": {},
   "outputs": [
    {
     "name": "stdout",
     "output_type": "stream",
     "text": [
      "Saved mean_income_aged_gt_20_male to ../ddf--sodertornsmodellen-output/ddf--sodertornsmodellen--src/ddf--datapoints--mean_income_aged_gt_20_male--by--basomrade--year.csv\n",
      "\n",
      "Saved mean_income_aged_gt_20_female to ../ddf--sodertornsmodellen-output/ddf--sodertornsmodellen--src/ddf--datapoints--mean_income_aged_gt_20_female--by--basomrade--year.csv\n",
      "\n"
     ]
    }
   ],
   "source": [
    "genders = medelkondf['Kön'].cat.categories.tolist()\n",
    "\n",
    "for gender in genders:\n",
    "    concept = 'mean_income_aged_gt_20_{gender}'.format(gender=gender)\n",
    "    medel = medelkondf[medelkondf['Kön'] == gender]\n",
    "    medel = medel[['basomrade', 'year', 'mean_income']]\n",
    "    medel = medel.rename(columns = {'mean_income': concept})\n",
    "    \n",
    "    appendNewDatapoints(concept, medel)\n",
    "    "
   ]
  },
  {
   "cell_type": "markdown",
   "metadata": {},
   "source": [
    "### Total"
   ]
  },
  {
   "cell_type": "code",
   "execution_count": 55,
   "metadata": {},
   "outputs": [],
   "source": [
    "medel = glob.glob('../indata/supermappen/*MedelBas*.csv')"
   ]
  },
  {
   "cell_type": "code",
   "execution_count": 56,
   "metadata": {},
   "outputs": [],
   "source": [
    "concept = 'mean_income_aged_gt_20'"
   ]
  },
  {
   "cell_type": "code",
   "execution_count": 57,
   "metadata": {},
   "outputs": [],
   "source": [
    "def readMedel(file):\n",
    "    df = pd.read_csv(file, encoding='latin1' , sep=';', decimal=',')\n",
    "    df['year'] = pd.to_datetime(getYear(file))\n",
    "    df = df.rename(columns={\n",
    "        'basomrade': 'BASKOD2010',\n",
    "        'Medel': concept\n",
    "    })\n",
    "    df['year'] = df['year'].apply(lambda t: t.year)\n",
    "    return df"
   ]
  },
  {
   "cell_type": "code",
   "execution_count": 58,
   "metadata": {},
   "outputs": [],
   "source": [
    "medeldf = pd.concat(list(map(readMedel, medel)))"
   ]
  },
  {
   "cell_type": "code",
   "execution_count": 59,
   "metadata": {},
   "outputs": [],
   "source": [
    "medeldf = pd.merge(medeldf, baskodkey, on='BASKOD2010', how='left')"
   ]
  },
  {
   "cell_type": "code",
   "execution_count": 60,
   "metadata": {},
   "outputs": [],
   "source": [
    "medeldf = pd.merge(medeldf, entityKey[['BASKOD2000', 'basomrade']], on='BASKOD2000', how='left')"
   ]
  },
  {
   "cell_type": "code",
   "execution_count": 61,
   "metadata": {},
   "outputs": [],
   "source": [
    "medeldf = medeldf.dropna(how='any')"
   ]
  },
  {
   "cell_type": "code",
   "execution_count": 62,
   "metadata": {},
   "outputs": [],
   "source": [
    "medeldf = medeldf[['basomrade', 'year', concept]]"
   ]
  },
  {
   "cell_type": "code",
   "execution_count": 63,
   "metadata": {},
   "outputs": [
    {
     "name": "stdout",
     "output_type": "stream",
     "text": [
      "Saved mean_income_aged_gt_20 to ../ddf--sodertornsmodellen-output/ddf--sodertornsmodellen--src/ddf--datapoints--mean_income_aged_gt_20--by--basomrade--year.csv\n",
      "\n"
     ]
    }
   ],
   "source": [
    "appendNewDatapoints(concept, medeldf)"
   ]
  },
  {
   "cell_type": "markdown",
   "metadata": {},
   "source": [
    "----\n",
    "\n",
    "----\n",
    "\n",
    "----"
   ]
  },
  {
   "cell_type": "markdown",
   "metadata": {},
   "source": [
    "# Upplåtelseform bostäder"
   ]
  },
  {
   "cell_type": "markdown",
   "metadata": {},
   "source": [
    "## Kombinera `.csv` med MASTER "
   ]
  },
  {
   "cell_type": "code",
   "execution_count": 64,
   "metadata": {},
   "outputs": [],
   "source": [
    "csv = pd.read_csv('../indata/supermappen/Tabell2A_FB7bas.csv', encoding='latin1' , sep=';', decimal=',')\n",
    "csv['year'] = pd.to_datetime('2017')\n",
    "csv = csv.rename(columns={\n",
    "    \"Basomrade\": \"BASKOD2010\",\n",
    "    \"Hyresrätt\": \"antal_hyres\",\n",
    "    \"Bostadsrätt\": \"antal_bostadsr\",\n",
    "    \"Äganderätt\": \"antal_aegender\",\n",
    "    \"Uppgift_saknas\": \"Lght_Uppgift saknas\",\n",
    "    \"TOTALT\": \"Lght total\"\n",
    "})\n",
    "\n",
    "subsetmas = master[['BASKODER','year', 'Lght_Hyresrätt', 'Lght_Bostadsrätt','Lght_Äganderätt','Lght_Uppgift saknas','Lght total']]\n",
    "subsetmas = subsetmas.rename(columns = {\n",
    "    \"Lght_Hyresrätt\": \"antal_hyres\",\n",
    "    \"Lght_Bostadsrätt\": \"antal_bostadsr\",\n",
    "    \"Lght_Äganderätt\": \"antal_aegender\"\n",
    "})"
   ]
  },
  {
   "cell_type": "code",
   "execution_count": 65,
   "metadata": {},
   "outputs": [],
   "source": [
    "mas2012 = subsetmas[subsetmas['year'] >= pd.to_datetime('2012')]\n",
    "mas2012 = mas2012.rename(columns = {\n",
    "    'BASKODER': 'BASKOD2010'\n",
    "})"
   ]
  },
  {
   "cell_type": "code",
   "execution_count": 66,
   "metadata": {
    "scrolled": true
   },
   "outputs": [],
   "source": [
    "concat = pd.concat([csv, mas2012], sort=False)"
   ]
  },
  {
   "cell_type": "markdown",
   "metadata": {},
   "source": [
    "## Summera efter år och Basområde2000 kod"
   ]
  },
  {
   "cell_type": "code",
   "execution_count": 67,
   "metadata": {},
   "outputs": [],
   "source": [
    "# join the dataframe with the baskod2010 => baskod2000 key dataframe\n",
    "merged = pd.merge(concat, baskodkey, on='BASKOD2010', how='left')"
   ]
  },
  {
   "cell_type": "code",
   "execution_count": 68,
   "metadata": {},
   "outputs": [],
   "source": [
    "merged = pd.merge(merged, entityKey[['BASKOD2000', 'basomrade']], on='BASKOD2000', how='left')"
   ]
  },
  {
   "cell_type": "code",
   "execution_count": 69,
   "metadata": {},
   "outputs": [],
   "source": [
    "# sidospår: de här basområdena saknas helt i entitiesfilen\n",
    "notinc = merged[merged['basomrade'].isnull()].groupby('BASKOD2000').sum().reset_index()[['BASKOD2000', 'BASKOD2010']]\n",
    "notinc['notinc'] = True\n",
    "# notinc.to_csv('notincluded.csv', index=False)"
   ]
  },
  {
   "cell_type": "code",
   "execution_count": 70,
   "metadata": {},
   "outputs": [],
   "source": [
    "# sum values by year and baskod2000\n",
    "subset = merged[['year','BASKOD2000', 'basomrade', 'antal_hyres', 'antal_bostadsr', 'antal_aegender', 'Lght total']]\n",
    "summed = pd.DataFrame(subset.groupby(['year','basomrade']).sum()).reset_index()"
   ]
  },
  {
   "cell_type": "code",
   "execution_count": 71,
   "metadata": {
    "scrolled": true
   },
   "outputs": [],
   "source": [
    "summed['year'] = summed['year'].apply(lambda t: t.year)"
   ]
  },
  {
   "cell_type": "code",
   "execution_count": 72,
   "metadata": {},
   "outputs": [],
   "source": [
    "# ta bort rader som saknar data\n",
    "summed = summed.dropna(how='any')"
   ]
  },
  {
   "cell_type": "code",
   "execution_count": 73,
   "metadata": {},
   "outputs": [
    {
     "data": {
      "text/html": [
       "<div>\n",
       "<style scoped>\n",
       "    .dataframe tbody tr th:only-of-type {\n",
       "        vertical-align: middle;\n",
       "    }\n",
       "\n",
       "    .dataframe tbody tr th {\n",
       "        vertical-align: top;\n",
       "    }\n",
       "\n",
       "    .dataframe thead th {\n",
       "        text-align: right;\n",
       "    }\n",
       "</style>\n",
       "<table border=\"1\" class=\"dataframe\">\n",
       "  <thead>\n",
       "    <tr style=\"text-align: right;\">\n",
       "      <th></th>\n",
       "      <th>Lght total</th>\n",
       "    </tr>\n",
       "    <tr>\n",
       "      <th>year</th>\n",
       "      <th></th>\n",
       "    </tr>\n",
       "  </thead>\n",
       "  <tbody>\n",
       "    <tr>\n",
       "      <th>2012</th>\n",
       "      <td>943331.0</td>\n",
       "    </tr>\n",
       "    <tr>\n",
       "      <th>2013</th>\n",
       "      <td>950892.0</td>\n",
       "    </tr>\n",
       "    <tr>\n",
       "      <th>2014</th>\n",
       "      <td>959773.0</td>\n",
       "    </tr>\n",
       "    <tr>\n",
       "      <th>2015</th>\n",
       "      <td>971836.0</td>\n",
       "    </tr>\n",
       "    <tr>\n",
       "      <th>2016</th>\n",
       "      <td>990371.0</td>\n",
       "    </tr>\n",
       "    <tr>\n",
       "      <th>2017</th>\n",
       "      <td>1028961.0</td>\n",
       "    </tr>\n",
       "  </tbody>\n",
       "</table>\n",
       "</div>"
      ],
      "text/plain": [
       "      Lght total\n",
       "year            \n",
       "2012    943331.0\n",
       "2013    950892.0\n",
       "2014    959773.0\n",
       "2015    971836.0\n",
       "2016    990371.0\n",
       "2017   1028961.0"
      ]
     },
     "execution_count": 73,
     "metadata": {},
     "output_type": "execute_result"
    }
   ],
   "source": [
    "summed[['year', 'Lght total']].groupby('year').sum()"
   ]
  },
  {
   "cell_type": "markdown",
   "metadata": {},
   "source": [
    "## Räkna andelar och exportera"
   ]
  },
  {
   "cell_type": "markdown",
   "metadata": {},
   "source": [
    "#### Andel hyresrätter"
   ]
  },
  {
   "cell_type": "code",
   "execution_count": 74,
   "metadata": {},
   "outputs": [],
   "source": [
    "summed['andel_hyres'] = summed['antal_hyres'] / summed['Lght total']\n",
    "summed['andel_hyres'] = summed['andel_hyres'].round(4)\n",
    "summed['andel_hyres'] = summed['andel_hyres'].astype(str).replace('0.0', '0')\n",
    "summed['andel_hyres'] = summed['andel_hyres'].astype(str).replace('1.0', '1')\n",
    "summed['andel_hyres'] = summed['andel_hyres'].astype(str).replace('nan', '')"
   ]
  },
  {
   "cell_type": "code",
   "execution_count": 75,
   "metadata": {
    "scrolled": true
   },
   "outputs": [],
   "source": [
    "summed[['basomrade', 'year', 'andel_hyres']].to_csv(os.path.join(ddfOutputPath, 'ddf--datapoints--andel_hyres--by--basomrade--year.csv'), index=False)"
   ]
  },
  {
   "cell_type": "markdown",
   "metadata": {},
   "source": [
    "#### Andel bostadsrätter"
   ]
  },
  {
   "cell_type": "code",
   "execution_count": 76,
   "metadata": {},
   "outputs": [],
   "source": [
    "summed['andel_bostadsr'] = summed['antal_bostadsr'] / summed['Lght total']\n",
    "summed['andel_bostadsr'] = summed['andel_bostadsr'].round(4)\n",
    "summed['andel_bostadsr'] = summed['andel_bostadsr'].astype(str).replace('0.0', '0')\n",
    "summed['andel_bostadsr'] = summed['andel_bostadsr'].astype(str).replace('1.0', '1')\n",
    "summed['andel_bostadsr'] = summed['andel_bostadsr'].astype(str).replace('nan', '')"
   ]
  },
  {
   "cell_type": "code",
   "execution_count": 77,
   "metadata": {
    "scrolled": true
   },
   "outputs": [],
   "source": [
    "summed[['basomrade', 'year', 'andel_bostadsr']].to_csv(os.path.join(ddfOutputPath, 'ddf--datapoints--andel_bostadsr--by--basomrade--year.csv'), index=False)"
   ]
  },
  {
   "cell_type": "markdown",
   "metadata": {},
   "source": [
    "#### Andel äganderätter"
   ]
  },
  {
   "cell_type": "code",
   "execution_count": 78,
   "metadata": {},
   "outputs": [],
   "source": [
    "summed['andel_aegender'] = summed['antal_aegender'] / summed['Lght total']\n",
    "summed['andel_aegender'] = summed['andel_aegender'].round(4)\n",
    "summed['andel_aegender'] = summed['andel_aegender'].astype(str).replace('0.0', '0')\n",
    "summed['andel_aegender'] = summed['andel_aegender'].astype(str).replace('1.0', '1')\n",
    "summed['andel_aegender'] = summed['andel_aegender'].astype(str).replace('nan', '')"
   ]
  },
  {
   "cell_type": "code",
   "execution_count": 79,
   "metadata": {
    "scrolled": true
   },
   "outputs": [],
   "source": [
    "summed[['basomrade', 'year', 'andel_aegender']].to_csv(os.path.join(ddfOutputPath, 'ddf--datapoints--andel_aegender--by--basomrade--year.csv'), index=False)"
   ]
  },
  {
   "cell_type": "code",
   "execution_count": null,
   "metadata": {},
   "outputs": [],
   "source": []
  },
  {
   "cell_type": "code",
   "execution_count": null,
   "metadata": {},
   "outputs": [],
   "source": []
  },
  {
   "cell_type": "markdown",
   "metadata": {},
   "source": [
    "----"
   ]
  }
 ],
 "metadata": {
  "kernelspec": {
   "display_name": "Python 3",
   "language": "python",
   "name": "python3"
  },
  "language_info": {
   "codemirror_mode": {
    "name": "ipython",
    "version": 3
   },
   "file_extension": ".py",
   "mimetype": "text/x-python",
   "name": "python",
   "nbconvert_exporter": "python",
   "pygments_lexer": "ipython3",
   "version": "3.6.5"
  }
 },
 "nbformat": 4,
 "nbformat_minor": 2
}
