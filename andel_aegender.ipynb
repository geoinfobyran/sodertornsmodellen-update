{
 "cells": [
  {
   "cell_type": "markdown",
   "metadata": {},
   "source": [
    "## Dependencies"
   ]
  },
  {
   "cell_type": "code",
   "execution_count": 1,
   "metadata": {},
   "outputs": [],
   "source": [
    "import pandas as pd\n",
    "import numpy as np\n",
    "import os\n",
    "import glob\n",
    "\n",
    "import matplotlib.pyplot as plt\n",
    "# plt.rcParams['figure.figsize'] = (15, 5)\n",
    "pd.set_option('display.max_columns', 500)\n",
    "pd.set_option('display.width', 1000)\n"
   ]
  },
  {
   "cell_type": "code",
   "execution_count": 2,
   "metadata": {},
   "outputs": [],
   "source": [
    "indataPath = os.path.join(os.pardir, \"indata\")\n",
    "\n",
    "ddfRootPath = os.path.join(indataPath, \"ddf--sodertornsmodellen\")\n",
    "ddfSrcPath = os.path.join(ddfRootPath, \"ddf--sodertornsmodellen--src\")\n",
    "\n",
    "superPath = os.path.join(indataPath, \"supermappen\")\n",
    "\n",
    "ddfOutputPath = os.path.join(os.pardir, 'ddf--sodertornsmodellen-new', 'ddf--sodertornsmodellen--src')"
   ]
  },
  {
   "cell_type": "markdown",
   "metadata": {},
   "source": [
    "## Helpers"
   ]
  },
  {
   "cell_type": "code",
   "execution_count": 3,
   "metadata": {},
   "outputs": [],
   "source": [
    "from helpers import (readMaster, appendNewDatapoints, byGender, baskod2010tobasomrade, plotcombined)"
   ]
  },
  {
   "cell_type": "markdown",
   "metadata": {},
   "source": [
    "## Läs in MASTER excel filen"
   ]
  },
  {
   "cell_type": "code",
   "execution_count": 4,
   "metadata": {},
   "outputs": [],
   "source": [
    "master = readMaster()"
   ]
  },
  {
   "cell_type": "markdown",
   "metadata": {},
   "source": [
    "## Kombinera `.csv` med MASTER "
   ]
  },
  {
   "cell_type": "code",
   "execution_count": 5,
   "metadata": {},
   "outputs": [],
   "source": [
    "csv = pd.read_csv('../indata/supermappen/Tabell2A_FB7bas.csv', encoding='latin1' , sep=';', decimal=',')\n",
    "csv['year'] = pd.to_datetime('2017')\n",
    "csv = csv.rename(columns={\n",
    "    \"Basomrade\": \"BASKOD2010\",\n",
    "    \"Hyresrätt\": \"antal_hyres\",\n",
    "    \"Bostadsrätt\": \"antal_bostadsr\",\n",
    "    \"Äganderätt\": \"antal_aegender\",\n",
    "    \"Uppgift_saknas\": \"Lght_Uppgift saknas\",\n",
    "    \"TOTALT\": \"Lght total\"\n",
    "})\n",
    "\n",
    "subsetmas = master[['BASKODER','year', 'Lght_Hyresrätt', 'Lght_Bostadsrätt','Lght_Äganderätt','Lght_Uppgift saknas','Lght total']]\n",
    "subsetmas = subsetmas.rename(columns = {\n",
    "    \"Lght_Hyresrätt\": \"antal_hyres\",\n",
    "    \"Lght_Bostadsrätt\": \"antal_bostadsr\",\n",
    "    \"Lght_Äganderätt\": \"antal_aegender\"\n",
    "})"
   ]
  },
  {
   "cell_type": "code",
   "execution_count": 6,
   "metadata": {},
   "outputs": [],
   "source": [
    "mas2012 = subsetmas[subsetmas['year'] >= pd.to_datetime('2012')]\n",
    "mas2012 = mas2012.rename(columns = {\n",
    "    'BASKODER': 'BASKOD2010'\n",
    "})"
   ]
  },
  {
   "cell_type": "code",
   "execution_count": 7,
   "metadata": {
    "scrolled": true
   },
   "outputs": [],
   "source": [
    "concat = pd.concat([csv, mas2012], sort=False)"
   ]
  },
  {
   "cell_type": "markdown",
   "metadata": {},
   "source": [
    "## Summera efter år och Basområde2000 kod"
   ]
  },
  {
   "cell_type": "code",
   "execution_count": 8,
   "metadata": {},
   "outputs": [],
   "source": [
    "concat = concat[['BASKOD2010', 'year', 'antal_hyres', 'antal_bostadsr', 'antal_aegender', 'Lght_Uppgift saknas', 'Lght total']]"
   ]
  },
  {
   "cell_type": "code",
   "execution_count": 9,
   "metadata": {},
   "outputs": [],
   "source": [
    "merged = baskod2010tobasomrade(concat, n_numeric=5)"
   ]
  },
  {
   "cell_type": "code",
   "execution_count": 10,
   "metadata": {},
   "outputs": [
    {
     "data": {
      "text/html": [
       "<div>\n",
       "<style scoped>\n",
       "    .dataframe tbody tr th:only-of-type {\n",
       "        vertical-align: middle;\n",
       "    }\n",
       "\n",
       "    .dataframe tbody tr th {\n",
       "        vertical-align: top;\n",
       "    }\n",
       "\n",
       "    .dataframe thead th {\n",
       "        text-align: right;\n",
       "    }\n",
       "</style>\n",
       "<table border=\"1\" class=\"dataframe\">\n",
       "  <thead>\n",
       "    <tr style=\"text-align: right;\">\n",
       "      <th></th>\n",
       "      <th>BASKOD2010</th>\n",
       "      <th>year</th>\n",
       "      <th>antal_hyres</th>\n",
       "      <th>antal_bostadsr</th>\n",
       "      <th>antal_aegender</th>\n",
       "      <th>Lght_Uppgift saknas</th>\n",
       "      <th>Lght total</th>\n",
       "    </tr>\n",
       "  </thead>\n",
       "  <tbody>\n",
       "    <tr>\n",
       "      <th>0</th>\n",
       "      <td>1010110</td>\n",
       "      <td>2017-01-01</td>\n",
       "      <td>13.0</td>\n",
       "      <td>0.0</td>\n",
       "      <td>0.0</td>\n",
       "      <td>0.0</td>\n",
       "      <td>13.0</td>\n",
       "    </tr>\n",
       "    <tr>\n",
       "      <th>1</th>\n",
       "      <td>1010120</td>\n",
       "      <td>2017-01-01</td>\n",
       "      <td>184.0</td>\n",
       "      <td>100.0</td>\n",
       "      <td>0.0</td>\n",
       "      <td>0.0</td>\n",
       "      <td>284.0</td>\n",
       "    </tr>\n",
       "    <tr>\n",
       "      <th>2</th>\n",
       "      <td>1010130</td>\n",
       "      <td>2017-01-01</td>\n",
       "      <td>372.0</td>\n",
       "      <td>294.0</td>\n",
       "      <td>0.0</td>\n",
       "      <td>0.0</td>\n",
       "      <td>666.0</td>\n",
       "    </tr>\n",
       "    <tr>\n",
       "      <th>3</th>\n",
       "      <td>1010140</td>\n",
       "      <td>2017-01-01</td>\n",
       "      <td>657.0</td>\n",
       "      <td>348.0</td>\n",
       "      <td>8.0</td>\n",
       "      <td>0.0</td>\n",
       "      <td>1013.0</td>\n",
       "    </tr>\n",
       "    <tr>\n",
       "      <th>4</th>\n",
       "      <td>1010201</td>\n",
       "      <td>2017-01-01</td>\n",
       "      <td>76.0</td>\n",
       "      <td>150.0</td>\n",
       "      <td>0.0</td>\n",
       "      <td>0.0</td>\n",
       "      <td>226.0</td>\n",
       "    </tr>\n",
       "  </tbody>\n",
       "</table>\n",
       "</div>"
      ],
      "text/plain": [
       "   BASKOD2010       year  antal_hyres  antal_bostadsr  antal_aegender  Lght_Uppgift saknas  Lght total\n",
       "0     1010110 2017-01-01         13.0             0.0             0.0                  0.0        13.0\n",
       "1     1010120 2017-01-01        184.0           100.0             0.0                  0.0       284.0\n",
       "2     1010130 2017-01-01        372.0           294.0             0.0                  0.0       666.0\n",
       "3     1010140 2017-01-01        657.0           348.0             8.0                  0.0      1013.0\n",
       "4     1010201 2017-01-01         76.0           150.0             0.0                  0.0       226.0"
      ]
     },
     "execution_count": 10,
     "metadata": {},
     "output_type": "execute_result"
    }
   ],
   "source": [
    "concat.head()"
   ]
  },
  {
   "cell_type": "code",
   "execution_count": 11,
   "metadata": {},
   "outputs": [
    {
     "data": {
      "text/html": [
       "<div>\n",
       "<style scoped>\n",
       "    .dataframe tbody tr th:only-of-type {\n",
       "        vertical-align: middle;\n",
       "    }\n",
       "\n",
       "    .dataframe tbody tr th {\n",
       "        vertical-align: top;\n",
       "    }\n",
       "\n",
       "    .dataframe thead th {\n",
       "        text-align: right;\n",
       "    }\n",
       "</style>\n",
       "<table border=\"1\" class=\"dataframe\">\n",
       "  <thead>\n",
       "    <tr style=\"text-align: right;\">\n",
       "      <th></th>\n",
       "      <th>year</th>\n",
       "      <th>basomrade</th>\n",
       "      <th>antal_hyres</th>\n",
       "      <th>antal_bostadsr</th>\n",
       "      <th>antal_aegender</th>\n",
       "      <th>Lght_Uppgift saknas</th>\n",
       "      <th>Lght total</th>\n",
       "    </tr>\n",
       "  </thead>\n",
       "  <tbody>\n",
       "    <tr>\n",
       "      <th>0</th>\n",
       "      <td>2012-01-01</td>\n",
       "      <td>1010120_skeppsbron</td>\n",
       "      <td>184.0</td>\n",
       "      <td>89.0</td>\n",
       "      <td>0.0</td>\n",
       "      <td>0.0</td>\n",
       "      <td>273.0</td>\n",
       "    </tr>\n",
       "    <tr>\n",
       "      <th>1</th>\n",
       "      <td>2012-01-01</td>\n",
       "      <td>1010130_munkbron</td>\n",
       "      <td>364.0</td>\n",
       "      <td>253.0</td>\n",
       "      <td>0.0</td>\n",
       "      <td>0.0</td>\n",
       "      <td>617.0</td>\n",
       "    </tr>\n",
       "    <tr>\n",
       "      <th>2</th>\n",
       "      <td>2012-01-01</td>\n",
       "      <td>1010140_stortorget</td>\n",
       "      <td>606.0</td>\n",
       "      <td>350.0</td>\n",
       "      <td>8.0</td>\n",
       "      <td>0.0</td>\n",
       "      <td>964.0</td>\n",
       "    </tr>\n",
       "    <tr>\n",
       "      <th>3</th>\n",
       "      <td>2012-01-01</td>\n",
       "      <td>1010201_centralstationen_n</td>\n",
       "      <td>76.0</td>\n",
       "      <td>145.0</td>\n",
       "      <td>0.0</td>\n",
       "      <td>0.0</td>\n",
       "      <td>221.0</td>\n",
       "    </tr>\n",
       "    <tr>\n",
       "      <th>4</th>\n",
       "      <td>2012-01-01</td>\n",
       "      <td>1010220_klara_kyrka</td>\n",
       "      <td>15.0</td>\n",
       "      <td>59.0</td>\n",
       "      <td>0.0</td>\n",
       "      <td>0.0</td>\n",
       "      <td>74.0</td>\n",
       "    </tr>\n",
       "  </tbody>\n",
       "</table>\n",
       "</div>"
      ],
      "text/plain": [
       "        year                   basomrade  antal_hyres  antal_bostadsr  antal_aegender  Lght_Uppgift saknas  Lght total\n",
       "0 2012-01-01          1010120_skeppsbron        184.0            89.0             0.0                  0.0       273.0\n",
       "1 2012-01-01            1010130_munkbron        364.0           253.0             0.0                  0.0       617.0\n",
       "2 2012-01-01          1010140_stortorget        606.0           350.0             8.0                  0.0       964.0\n",
       "3 2012-01-01  1010201_centralstationen_n         76.0           145.0             0.0                  0.0       221.0\n",
       "4 2012-01-01         1010220_klara_kyrka         15.0            59.0             0.0                  0.0        74.0"
      ]
     },
     "execution_count": 11,
     "metadata": {},
     "output_type": "execute_result"
    }
   ],
   "source": [
    "merged.head()"
   ]
  },
  {
   "cell_type": "code",
   "execution_count": 12,
   "metadata": {},
   "outputs": [],
   "source": [
    "# sum values by year and baskod2000\n",
    "subset = merged[['year', 'basomrade', 'antal_hyres', 'antal_bostadsr', 'antal_aegender', 'Lght total']]\n",
    "summed = pd.DataFrame(subset.groupby(['year','basomrade']).sum()).reset_index()"
   ]
  },
  {
   "cell_type": "code",
   "execution_count": 13,
   "metadata": {
    "scrolled": true
   },
   "outputs": [],
   "source": [
    "summed['year'] = summed['year'].apply(lambda t: t.year)"
   ]
  },
  {
   "cell_type": "code",
   "execution_count": 14,
   "metadata": {},
   "outputs": [],
   "source": [
    "# ta bort rader som saknar data\n",
    "# summed = summed.dropna(how='any')"
   ]
  },
  {
   "cell_type": "code",
   "execution_count": 15,
   "metadata": {},
   "outputs": [
    {
     "data": {
      "text/html": [
       "<div>\n",
       "<style scoped>\n",
       "    .dataframe tbody tr th:only-of-type {\n",
       "        vertical-align: middle;\n",
       "    }\n",
       "\n",
       "    .dataframe tbody tr th {\n",
       "        vertical-align: top;\n",
       "    }\n",
       "\n",
       "    .dataframe thead th {\n",
       "        text-align: right;\n",
       "    }\n",
       "</style>\n",
       "<table border=\"1\" class=\"dataframe\">\n",
       "  <thead>\n",
       "    <tr style=\"text-align: right;\">\n",
       "      <th></th>\n",
       "      <th>Lght total</th>\n",
       "    </tr>\n",
       "    <tr>\n",
       "      <th>year</th>\n",
       "      <th></th>\n",
       "    </tr>\n",
       "  </thead>\n",
       "  <tbody>\n",
       "    <tr>\n",
       "      <th>2012</th>\n",
       "      <td>943331.0</td>\n",
       "    </tr>\n",
       "    <tr>\n",
       "      <th>2013</th>\n",
       "      <td>950892.0</td>\n",
       "    </tr>\n",
       "    <tr>\n",
       "      <th>2014</th>\n",
       "      <td>959773.0</td>\n",
       "    </tr>\n",
       "    <tr>\n",
       "      <th>2015</th>\n",
       "      <td>971836.0</td>\n",
       "    </tr>\n",
       "    <tr>\n",
       "      <th>2016</th>\n",
       "      <td>990371.0</td>\n",
       "    </tr>\n",
       "    <tr>\n",
       "      <th>2017</th>\n",
       "      <td>1028961.0</td>\n",
       "    </tr>\n",
       "  </tbody>\n",
       "</table>\n",
       "</div>"
      ],
      "text/plain": [
       "      Lght total\n",
       "year            \n",
       "2012    943331.0\n",
       "2013    950892.0\n",
       "2014    959773.0\n",
       "2015    971836.0\n",
       "2016    990371.0\n",
       "2017   1028961.0"
      ]
     },
     "execution_count": 15,
     "metadata": {},
     "output_type": "execute_result"
    }
   ],
   "source": [
    "summed[['year', 'Lght total']].groupby('year').sum()"
   ]
  },
  {
   "cell_type": "code",
   "execution_count": 16,
   "metadata": {},
   "outputs": [],
   "source": [
    "df = summed"
   ]
  },
  {
   "cell_type": "markdown",
   "metadata": {},
   "source": [
    "## Andelar"
   ]
  },
  {
   "cell_type": "markdown",
   "metadata": {},
   "source": [
    "#### Andel hyresrätter"
   ]
  },
  {
   "cell_type": "code",
   "execution_count": 17,
   "metadata": {},
   "outputs": [],
   "source": [
    "concept = 'andel_hyres'"
   ]
  },
  {
   "cell_type": "code",
   "execution_count": 18,
   "metadata": {},
   "outputs": [],
   "source": [
    "summed['andel_hyres'] = summed['antal_hyres'] / summed['Lght total']\n",
    "summed['andel_hyres'] = summed['andel_hyres'].round(4)\n",
    "summed['andel_hyres'] = summed['andel_hyres'].astype(str).replace('0.0', '0')\n",
    "summed['andel_hyres'] = summed['andel_hyres'].astype(str).replace('1.0', '1')\n",
    "summed['andel_hyres'] = summed['andel_hyres'].astype(str).replace('nan', '')"
   ]
  },
  {
   "cell_type": "code",
   "execution_count": 19,
   "metadata": {},
   "outputs": [],
   "source": [
    "out = summed[['basomrade', 'year', 'andel_hyres']]\n",
    "out.to_csv(os.path.join(ddfOutputPath, 'ddf--datapoints--andel_hyres--by--basomrade--year.csv'), index=False)"
   ]
  },
  {
   "cell_type": "code",
   "execution_count": 20,
   "metadata": {
    "scrolled": true
   },
   "outputs": [
    {
     "data": {
      "text/plain": [
       "<matplotlib.axes._subplots.AxesSubplot at 0x7f02c4b81518>"
      ]
     },
     "execution_count": 20,
     "metadata": {},
     "output_type": "execute_result"
    },
    {
     "data": {
      "image/png": "[encoded data removed]",
      "text/plain": [
       "<Figure size 432x288 with 1 Axes>"
      ]
     },
     "metadata": {},
     "output_type": "display_data"
    }
   ],
   "source": [
    "out = out[out[concept] != '']\n",
    "out[concept] = out[concept].astype(float)\n",
    "out['year'] = pd.to_datetime(out['year'].astype('str'))\n",
    "(out.groupby('year').mean()[concept]).plot(title=concept)"
   ]
  },
  {
   "cell_type": "markdown",
   "metadata": {},
   "source": [
    "#### Andel bostadsrätter"
   ]
  },
  {
   "cell_type": "code",
   "execution_count": 21,
   "metadata": {},
   "outputs": [],
   "source": [
    "concept = 'andel_bostadsr'"
   ]
  },
  {
   "cell_type": "code",
   "execution_count": 22,
   "metadata": {},
   "outputs": [],
   "source": [
    "summed['andel_bostadsr'] = summed['antal_bostadsr'] / summed['Lght total']\n",
    "summed['andel_bostadsr'] = summed['andel_bostadsr'].round(4)\n",
    "summed['andel_bostadsr'] = summed['andel_bostadsr'].astype(str).replace('0.0', '0')\n",
    "summed['andel_bostadsr'] = summed['andel_bostadsr'].astype(str).replace('1.0', '1')\n",
    "summed['andel_bostadsr'] = summed['andel_bostadsr'].astype(str).replace('nan', '')"
   ]
  },
  {
   "cell_type": "code",
   "execution_count": 23,
   "metadata": {
    "scrolled": true
   },
   "outputs": [],
   "source": [
    "out = summed[['basomrade', 'year', 'andel_bostadsr']]\n",
    "out.to_csv(os.path.join(ddfOutputPath, 'ddf--datapoints--andel_bostadsr--by--basomrade--year.csv'), index=False)"
   ]
  },
  {
   "cell_type": "code",
   "execution_count": 24,
   "metadata": {},
   "outputs": [
    {
     "data": {
      "text/plain": [
       "<matplotlib.axes._subplots.AxesSubplot at 0x7f02c4be8da0>"
      ]
     },
     "execution_count": 24,
     "metadata": {},
     "output_type": "execute_result"
    },
    {
     "data": {
      "image/png": "[encoded data removed]",
      "text/plain": [
       "<Figure size 432x288 with 1 Axes>"
      ]
     },
     "metadata": {},
     "output_type": "display_data"
    }
   ],
   "source": [
    "out = out[out[concept] != '']\n",
    "out[concept] = out[concept].astype(float)\n",
    "out['year'] = pd.to_datetime(out['year'].astype('str'))\n",
    "(out.groupby('year').mean()[concept]).plot(title=concept)"
   ]
  },
  {
   "cell_type": "markdown",
   "metadata": {},
   "source": [
    "#### Andel äganderätter"
   ]
  },
  {
   "cell_type": "code",
   "execution_count": 25,
   "metadata": {},
   "outputs": [],
   "source": [
    "concept = 'andel_aegender'"
   ]
  },
  {
   "cell_type": "code",
   "execution_count": 26,
   "metadata": {},
   "outputs": [],
   "source": [
    "summed['andel_aegender'] = summed['antal_aegender'] / summed['Lght total']\n",
    "summed['andel_aegender'] = summed['andel_aegender'].round(4)\n",
    "summed['andel_aegender'] = summed['andel_aegender'].astype(str).replace('0.0', '0')\n",
    "summed['andel_aegender'] = summed['andel_aegender'].astype(str).replace('1.0', '1')\n",
    "summed['andel_aegender'] = summed['andel_aegender'].astype(str).replace('nan', '')"
   ]
  },
  {
   "cell_type": "code",
   "execution_count": 27,
   "metadata": {
    "scrolled": true
   },
   "outputs": [],
   "source": [
    "out = summed[['basomrade', 'year', 'andel_aegender']]\n",
    "out.to_csv(os.path.join(ddfOutputPath, 'ddf--datapoints--andel_aegender--by--basomrade--year.csv'), index=False)"
   ]
  },
  {
   "cell_type": "code",
   "execution_count": 28,
   "metadata": {
    "scrolled": true
   },
   "outputs": [
    {
     "data": {
      "text/plain": [
       "<matplotlib.axes._subplots.AxesSubplot at 0x7f02c67022e8>"
      ]
     },
     "execution_count": 28,
     "metadata": {},
     "output_type": "execute_result"
    },
    {
     "data": {
      "image/png": "[encoded data removed]",
      "text/plain": [
       "<Figure size 432x288 with 1 Axes>"
      ]
     },
     "metadata": {},
     "output_type": "display_data"
    }
   ],
   "source": [
    "out = out[out[concept] != '']\n",
    "out[concept] = out[concept].astype(float)\n",
    "out['year'] = pd.to_datetime(out['year'].astype('str'))\n",
    "(out.groupby('year').mean()[concept]).plot(title=concept)"
   ]
  },
  {
   "cell_type": "markdown",
   "metadata": {},
   "source": [
    "## Antal"
   ]
  },
  {
   "cell_type": "markdown",
   "metadata": {},
   "source": [
    "#### Andel hyresrätter"
   ]
  },
  {
   "cell_type": "code",
   "execution_count": 38,
   "metadata": {},
   "outputs": [],
   "source": [
    "concept = 'antal_hyres'"
   ]
  },
  {
   "cell_type": "code",
   "execution_count": 39,
   "metadata": {},
   "outputs": [],
   "source": [
    "out = df[['basomrade', 'year', 'antal_hyres']].copy()\n",
    "out.to_csv(os.path.join(ddfOutputPath, 'ddf--datapoints--antal_hyres--by--basomrade--year.csv'), index=False)"
   ]
  },
  {
   "cell_type": "code",
   "execution_count": 40,
   "metadata": {
    "scrolled": true
   },
   "outputs": [
    {
     "data": {
      "text/plain": [
       "<matplotlib.axes._subplots.AxesSubplot at 0x7f02c6792630>"
      ]
     },
     "execution_count": 40,
     "metadata": {},
     "output_type": "execute_result"
    },
    {
     "data": {
      "image/png": "[encoded data removed]",
      "text/plain": [
       "<Figure size 432x288 with 1 Axes>"
      ]
     },
     "metadata": {},
     "output_type": "display_data"
    }
   ],
   "source": [
    "out[concept] = out[concept].astype(float)\n",
    "out['year'] = pd.to_datetime(out['year'].astype('str'))\n",
    "(out.groupby('year').mean()[concept]).plot(title=concept)"
   ]
  },
  {
   "cell_type": "markdown",
   "metadata": {},
   "source": [
    "#### Andel bostadsrätter"
   ]
  },
  {
   "cell_type": "code",
   "execution_count": 41,
   "metadata": {},
   "outputs": [],
   "source": [
    "concept = 'antal_bostadsr'"
   ]
  },
  {
   "cell_type": "code",
   "execution_count": 42,
   "metadata": {
    "scrolled": true
   },
   "outputs": [],
   "source": [
    "out = df[['basomrade', 'year', 'antal_bostadsr']].copy()\n",
    "out.to_csv(os.path.join(ddfOutputPath, 'ddf--datapoints--antal_bostadsr--by--basomrade--year.csv'), index=False)"
   ]
  },
  {
   "cell_type": "code",
   "execution_count": 43,
   "metadata": {},
   "outputs": [
    {
     "data": {
      "text/plain": [
       "<matplotlib.axes._subplots.AxesSubplot at 0x7f02c67789e8>"
      ]
     },
     "execution_count": 43,
     "metadata": {},
     "output_type": "execute_result"
    },
    {
     "data": {
      "image/png": "[encoded data removed]",
      "text/plain": [
       "<Figure size 432x288 with 1 Axes>"
      ]
     },
     "metadata": {},
     "output_type": "display_data"
    }
   ],
   "source": [
    "out[concept] = out[concept].astype(float)\n",
    "out['year'] = pd.to_datetime(out['year'].astype('str'))\n",
    "(out.groupby('year').mean()[concept]).plot(title=concept)"
   ]
  },
  {
   "cell_type": "markdown",
   "metadata": {},
   "source": [
    "#### Andel äganderätter"
   ]
  },
  {
   "cell_type": "code",
   "execution_count": 44,
   "metadata": {},
   "outputs": [],
   "source": [
    "concept = 'antal_aegender'"
   ]
  },
  {
   "cell_type": "code",
   "execution_count": 45,
   "metadata": {
    "scrolled": true
   },
   "outputs": [],
   "source": [
    "out = df[['basomrade', 'year', 'antal_aegender']].copy()\n",
    "out.to_csv(os.path.join(ddfOutputPath, 'ddf--datapoints--antal_aegender--by--basomrade--year.csv'), index=False)"
   ]
  },
  {
   "cell_type": "code",
   "execution_count": 46,
   "metadata": {},
   "outputs": [
    {
     "data": {
      "text/plain": [
       "<matplotlib.axes._subplots.AxesSubplot at 0x7f02c66236a0>"
      ]
     },
     "execution_count": 46,
     "metadata": {},
     "output_type": "execute_result"
    },
    {
     "data": {
      "image/png": "[encoded data removed]",
      "text/plain": [
       "<Figure size 432x288 with 1 Axes>"
      ]
     },
     "metadata": {},
     "output_type": "display_data"
    }
   ],
   "source": [
    "out[concept] = out[concept].astype(float)\n",
    "out['year'] = pd.to_datetime(out['year'].astype('str'))\n",
    "(out.groupby('year').mean()[concept]).plot(title=concept)"
   ]
  }
 ],
 "metadata": {
  "kernelspec": {
   "display_name": "Python 3",
   "language": "python",
   "name": "python3"
  },
  "language_info": {
   "codemirror_mode": {
    "name": "ipython",
    "version": 3
   },
   "file_extension": ".py",
   "mimetype": "text/x-python",
   "name": "python",
   "nbconvert_exporter": "python",
   "pygments_lexer": "ipython3",
   "version": "3.6.5"
  }
 },
 "nbformat": 4,
 "nbformat_minor": 2
}
