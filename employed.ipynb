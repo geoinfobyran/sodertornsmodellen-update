{
 "cells": [
  {
   "cell_type": "code",
   "execution_count": null,
   "metadata": {},
   "outputs": [],
   "source": [
    "import pandas as pd\n",
    "import numpy as np\n",
    "import os\n",
    "import glob\n",
    "\n",
    "import matplotlib.pyplot as plt\n",
    "plt.rcParams['figure.figsize'] = (15, 5)\n",
    "pd.set_option('display.max_columns', 500)\n",
    "pd.set_option('display.width', 1000)"
   ]
  },
  {
   "cell_type": "code",
   "execution_count": 1,
   "metadata": {},
   "outputs": [],
   "source": [
    "from helpers import *"
   ]
  },
  {
   "cell_type": "code",
   "execution_count": 284,
   "metadata": {},
   "outputs": [
    {
     "data": {
      "text/html": [
       "<div>\n",
       "<style scoped>\n",
       "    .dataframe tbody tr th:only-of-type {\n",
       "        vertical-align: middle;\n",
       "    }\n",
       "\n",
       "    .dataframe tbody tr th {\n",
       "        vertical-align: top;\n",
       "    }\n",
       "\n",
       "    .dataframe thead th {\n",
       "        text-align: right;\n",
       "    }\n",
       "</style>\n",
       "<table border=\"1\" class=\"dataframe\">\n",
       "  <thead>\n",
       "    <tr style=\"text-align: right;\">\n",
       "      <th></th>\n",
       "      <th>basomrade</th>\n",
       "      <th>year</th>\n",
       "      <th>kategori</th>\n",
       "      <th>Kön</th>\n",
       "      <th>value</th>\n",
       "    </tr>\n",
       "  </thead>\n",
       "  <tbody>\n",
       "    <tr>\n",
       "      <th>0</th>\n",
       "      <td>1010120_skeppsbron</td>\n",
       "      <td>2011</td>\n",
       "      <td>Ej Förvärvsarbetande</td>\n",
       "      <td>female</td>\n",
       "      <td>34</td>\n",
       "    </tr>\n",
       "    <tr>\n",
       "      <th>1</th>\n",
       "      <td>1010120_skeppsbron</td>\n",
       "      <td>2011</td>\n",
       "      <td>Ej Förvärvsarbetande</td>\n",
       "      <td>male</td>\n",
       "      <td>46</td>\n",
       "    </tr>\n",
       "    <tr>\n",
       "      <th>2</th>\n",
       "      <td>1010120_skeppsbron</td>\n",
       "      <td>2011</td>\n",
       "      <td>Förvärvsarbetande ej län 01</td>\n",
       "      <td>female</td>\n",
       "      <td>5</td>\n",
       "    </tr>\n",
       "    <tr>\n",
       "      <th>3</th>\n",
       "      <td>1010120_skeppsbron</td>\n",
       "      <td>2011</td>\n",
       "      <td>Förvärvsarbetande ej län 01</td>\n",
       "      <td>male</td>\n",
       "      <td>0</td>\n",
       "    </tr>\n",
       "    <tr>\n",
       "      <th>4</th>\n",
       "      <td>1010120_skeppsbron</td>\n",
       "      <td>2011</td>\n",
       "      <td>Förvärvsarbetande län 01</td>\n",
       "      <td>female</td>\n",
       "      <td>112</td>\n",
       "    </tr>\n",
       "    <tr>\n",
       "      <th>5</th>\n",
       "      <td>1010120_skeppsbron</td>\n",
       "      <td>2011</td>\n",
       "      <td>Förvärvsarbetande län 01</td>\n",
       "      <td>male</td>\n",
       "      <td>112</td>\n",
       "    </tr>\n",
       "    <tr>\n",
       "      <th>6</th>\n",
       "      <td>1010120_skeppsbron</td>\n",
       "      <td>2012</td>\n",
       "      <td>Ej Förvärvsarbetande</td>\n",
       "      <td>female</td>\n",
       "      <td>39</td>\n",
       "    </tr>\n",
       "    <tr>\n",
       "      <th>7</th>\n",
       "      <td>1010120_skeppsbron</td>\n",
       "      <td>2012</td>\n",
       "      <td>Ej Förvärvsarbetande</td>\n",
       "      <td>male</td>\n",
       "      <td>43</td>\n",
       "    </tr>\n",
       "    <tr>\n",
       "      <th>8</th>\n",
       "      <td>1010120_skeppsbron</td>\n",
       "      <td>2012</td>\n",
       "      <td>Förvärvsarbetande ej län 01</td>\n",
       "      <td>female</td>\n",
       "      <td>0</td>\n",
       "    </tr>\n",
       "    <tr>\n",
       "      <th>9</th>\n",
       "      <td>1010120_skeppsbron</td>\n",
       "      <td>2012</td>\n",
       "      <td>Förvärvsarbetande ej län 01</td>\n",
       "      <td>male</td>\n",
       "      <td>0</td>\n",
       "    </tr>\n",
       "    <tr>\n",
       "      <th>10</th>\n",
       "      <td>1010120_skeppsbron</td>\n",
       "      <td>2012</td>\n",
       "      <td>Förvärvsarbetande län 01</td>\n",
       "      <td>female</td>\n",
       "      <td>111</td>\n",
       "    </tr>\n",
       "    <tr>\n",
       "      <th>11</th>\n",
       "      <td>1010120_skeppsbron</td>\n",
       "      <td>2012</td>\n",
       "      <td>Förvärvsarbetande län 01</td>\n",
       "      <td>male</td>\n",
       "      <td>114</td>\n",
       "    </tr>\n",
       "    <tr>\n",
       "      <th>12</th>\n",
       "      <td>1010120_skeppsbron</td>\n",
       "      <td>2013</td>\n",
       "      <td>Ej Förvärvsarbetande</td>\n",
       "      <td>female</td>\n",
       "      <td>33</td>\n",
       "    </tr>\n",
       "    <tr>\n",
       "      <th>13</th>\n",
       "      <td>1010120_skeppsbron</td>\n",
       "      <td>2013</td>\n",
       "      <td>Ej Förvärvsarbetande</td>\n",
       "      <td>male</td>\n",
       "      <td>48</td>\n",
       "    </tr>\n",
       "    <tr>\n",
       "      <th>14</th>\n",
       "      <td>1010120_skeppsbron</td>\n",
       "      <td>2013</td>\n",
       "      <td>Förvärvsarbetande ej län 01</td>\n",
       "      <td>female</td>\n",
       "      <td>0</td>\n",
       "    </tr>\n",
       "    <tr>\n",
       "      <th>15</th>\n",
       "      <td>1010120_skeppsbron</td>\n",
       "      <td>2013</td>\n",
       "      <td>Förvärvsarbetande ej län 01</td>\n",
       "      <td>male</td>\n",
       "      <td>8</td>\n",
       "    </tr>\n",
       "    <tr>\n",
       "      <th>16</th>\n",
       "      <td>1010120_skeppsbron</td>\n",
       "      <td>2013</td>\n",
       "      <td>Förvärvsarbetande län 01</td>\n",
       "      <td>female</td>\n",
       "      <td>117</td>\n",
       "    </tr>\n",
       "    <tr>\n",
       "      <th>17</th>\n",
       "      <td>1010120_skeppsbron</td>\n",
       "      <td>2013</td>\n",
       "      <td>Förvärvsarbetande län 01</td>\n",
       "      <td>male</td>\n",
       "      <td>106</td>\n",
       "    </tr>\n",
       "    <tr>\n",
       "      <th>18</th>\n",
       "      <td>1010120_skeppsbron</td>\n",
       "      <td>2014</td>\n",
       "      <td>Ej Förvärvsarbetande</td>\n",
       "      <td>female</td>\n",
       "      <td>46</td>\n",
       "    </tr>\n",
       "    <tr>\n",
       "      <th>19</th>\n",
       "      <td>1010120_skeppsbron</td>\n",
       "      <td>2014</td>\n",
       "      <td>Ej Förvärvsarbetande</td>\n",
       "      <td>male</td>\n",
       "      <td>51</td>\n",
       "    </tr>\n",
       "    <tr>\n",
       "      <th>20</th>\n",
       "      <td>1010120_skeppsbron</td>\n",
       "      <td>2014</td>\n",
       "      <td>Förvärvsarbetande ej län 01</td>\n",
       "      <td>female</td>\n",
       "      <td>5</td>\n",
       "    </tr>\n",
       "    <tr>\n",
       "      <th>21</th>\n",
       "      <td>1010120_skeppsbron</td>\n",
       "      <td>2014</td>\n",
       "      <td>Förvärvsarbetande ej län 01</td>\n",
       "      <td>male</td>\n",
       "      <td>0</td>\n",
       "    </tr>\n",
       "    <tr>\n",
       "      <th>22</th>\n",
       "      <td>1010120_skeppsbron</td>\n",
       "      <td>2014</td>\n",
       "      <td>Förvärvsarbetande län 01</td>\n",
       "      <td>female</td>\n",
       "      <td>116</td>\n",
       "    </tr>\n",
       "    <tr>\n",
       "      <th>23</th>\n",
       "      <td>1010120_skeppsbron</td>\n",
       "      <td>2014</td>\n",
       "      <td>Förvärvsarbetande län 01</td>\n",
       "      <td>male</td>\n",
       "      <td>115</td>\n",
       "    </tr>\n",
       "    <tr>\n",
       "      <th>24</th>\n",
       "      <td>1010120_skeppsbron</td>\n",
       "      <td>2015</td>\n",
       "      <td>Ej Förvärvsarbetande</td>\n",
       "      <td>female</td>\n",
       "      <td>33</td>\n",
       "    </tr>\n",
       "    <tr>\n",
       "      <th>25</th>\n",
       "      <td>1010120_skeppsbron</td>\n",
       "      <td>2015</td>\n",
       "      <td>Ej Förvärvsarbetande</td>\n",
       "      <td>male</td>\n",
       "      <td>40</td>\n",
       "    </tr>\n",
       "    <tr>\n",
       "      <th>26</th>\n",
       "      <td>1010120_skeppsbron</td>\n",
       "      <td>2015</td>\n",
       "      <td>Förvärvsarbetande ej län 01</td>\n",
       "      <td>female</td>\n",
       "      <td>0</td>\n",
       "    </tr>\n",
       "    <tr>\n",
       "      <th>27</th>\n",
       "      <td>1010120_skeppsbron</td>\n",
       "      <td>2015</td>\n",
       "      <td>Förvärvsarbetande ej län 01</td>\n",
       "      <td>male</td>\n",
       "      <td>8</td>\n",
       "    </tr>\n",
       "    <tr>\n",
       "      <th>28</th>\n",
       "      <td>1010120_skeppsbron</td>\n",
       "      <td>2015</td>\n",
       "      <td>Förvärvsarbetande län 01</td>\n",
       "      <td>female</td>\n",
       "      <td>118</td>\n",
       "    </tr>\n",
       "    <tr>\n",
       "      <th>29</th>\n",
       "      <td>1010120_skeppsbron</td>\n",
       "      <td>2015</td>\n",
       "      <td>Förvärvsarbetande län 01</td>\n",
       "      <td>male</td>\n",
       "      <td>113</td>\n",
       "    </tr>\n",
       "    <tr>\n",
       "      <th>...</th>\n",
       "      <td>...</td>\n",
       "      <td>...</td>\n",
       "      <td>...</td>\n",
       "      <td>...</td>\n",
       "      <td>...</td>\n",
       "    </tr>\n",
       "    <tr>\n",
       "      <th>32550</th>\n",
       "      <td>6420000_taxinge_forsamling</td>\n",
       "      <td>2011</td>\n",
       "      <td>Ej Förvärvsarbetande</td>\n",
       "      <td>female</td>\n",
       "      <td>43</td>\n",
       "    </tr>\n",
       "    <tr>\n",
       "      <th>32551</th>\n",
       "      <td>6420000_taxinge_forsamling</td>\n",
       "      <td>2011</td>\n",
       "      <td>Ej Förvärvsarbetande</td>\n",
       "      <td>male</td>\n",
       "      <td>34</td>\n",
       "    </tr>\n",
       "    <tr>\n",
       "      <th>32552</th>\n",
       "      <td>6420000_taxinge_forsamling</td>\n",
       "      <td>2011</td>\n",
       "      <td>Förvärvsarbetande ej län 01</td>\n",
       "      <td>female</td>\n",
       "      <td>8</td>\n",
       "    </tr>\n",
       "    <tr>\n",
       "      <th>32553</th>\n",
       "      <td>6420000_taxinge_forsamling</td>\n",
       "      <td>2011</td>\n",
       "      <td>Förvärvsarbetande ej län 01</td>\n",
       "      <td>male</td>\n",
       "      <td>13</td>\n",
       "    </tr>\n",
       "    <tr>\n",
       "      <th>32554</th>\n",
       "      <td>6420000_taxinge_forsamling</td>\n",
       "      <td>2011</td>\n",
       "      <td>Förvärvsarbetande län 01</td>\n",
       "      <td>female</td>\n",
       "      <td>258</td>\n",
       "    </tr>\n",
       "    <tr>\n",
       "      <th>32555</th>\n",
       "      <td>6420000_taxinge_forsamling</td>\n",
       "      <td>2011</td>\n",
       "      <td>Förvärvsarbetande län 01</td>\n",
       "      <td>male</td>\n",
       "      <td>276</td>\n",
       "    </tr>\n",
       "    <tr>\n",
       "      <th>32556</th>\n",
       "      <td>6420000_taxinge_forsamling</td>\n",
       "      <td>2012</td>\n",
       "      <td>Ej Förvärvsarbetande</td>\n",
       "      <td>female</td>\n",
       "      <td>39</td>\n",
       "    </tr>\n",
       "    <tr>\n",
       "      <th>32557</th>\n",
       "      <td>6420000_taxinge_forsamling</td>\n",
       "      <td>2012</td>\n",
       "      <td>Ej Förvärvsarbetande</td>\n",
       "      <td>male</td>\n",
       "      <td>34</td>\n",
       "    </tr>\n",
       "    <tr>\n",
       "      <th>32558</th>\n",
       "      <td>6420000_taxinge_forsamling</td>\n",
       "      <td>2012</td>\n",
       "      <td>Förvärvsarbetande ej län 01</td>\n",
       "      <td>female</td>\n",
       "      <td>13</td>\n",
       "    </tr>\n",
       "    <tr>\n",
       "      <th>32559</th>\n",
       "      <td>6420000_taxinge_forsamling</td>\n",
       "      <td>2012</td>\n",
       "      <td>Förvärvsarbetande ej län 01</td>\n",
       "      <td>male</td>\n",
       "      <td>19</td>\n",
       "    </tr>\n",
       "    <tr>\n",
       "      <th>32560</th>\n",
       "      <td>6420000_taxinge_forsamling</td>\n",
       "      <td>2012</td>\n",
       "      <td>Förvärvsarbetande län 01</td>\n",
       "      <td>female</td>\n",
       "      <td>255</td>\n",
       "    </tr>\n",
       "    <tr>\n",
       "      <th>32561</th>\n",
       "      <td>6420000_taxinge_forsamling</td>\n",
       "      <td>2012</td>\n",
       "      <td>Förvärvsarbetande län 01</td>\n",
       "      <td>male</td>\n",
       "      <td>268</td>\n",
       "    </tr>\n",
       "    <tr>\n",
       "      <th>32562</th>\n",
       "      <td>6420000_taxinge_forsamling</td>\n",
       "      <td>2013</td>\n",
       "      <td>Ej Förvärvsarbetande</td>\n",
       "      <td>female</td>\n",
       "      <td>40</td>\n",
       "    </tr>\n",
       "    <tr>\n",
       "      <th>32563</th>\n",
       "      <td>6420000_taxinge_forsamling</td>\n",
       "      <td>2013</td>\n",
       "      <td>Ej Förvärvsarbetande</td>\n",
       "      <td>male</td>\n",
       "      <td>33</td>\n",
       "    </tr>\n",
       "    <tr>\n",
       "      <th>32564</th>\n",
       "      <td>6420000_taxinge_forsamling</td>\n",
       "      <td>2013</td>\n",
       "      <td>Förvärvsarbetande ej län 01</td>\n",
       "      <td>female</td>\n",
       "      <td>10</td>\n",
       "    </tr>\n",
       "    <tr>\n",
       "      <th>32565</th>\n",
       "      <td>6420000_taxinge_forsamling</td>\n",
       "      <td>2013</td>\n",
       "      <td>Förvärvsarbetande ej län 01</td>\n",
       "      <td>male</td>\n",
       "      <td>14</td>\n",
       "    </tr>\n",
       "    <tr>\n",
       "      <th>32566</th>\n",
       "      <td>6420000_taxinge_forsamling</td>\n",
       "      <td>2013</td>\n",
       "      <td>Förvärvsarbetande län 01</td>\n",
       "      <td>female</td>\n",
       "      <td>260</td>\n",
       "    </tr>\n",
       "    <tr>\n",
       "      <th>32567</th>\n",
       "      <td>6420000_taxinge_forsamling</td>\n",
       "      <td>2013</td>\n",
       "      <td>Förvärvsarbetande län 01</td>\n",
       "      <td>male</td>\n",
       "      <td>278</td>\n",
       "    </tr>\n",
       "    <tr>\n",
       "      <th>32568</th>\n",
       "      <td>6420000_taxinge_forsamling</td>\n",
       "      <td>2014</td>\n",
       "      <td>Ej Förvärvsarbetande</td>\n",
       "      <td>female</td>\n",
       "      <td>41</td>\n",
       "    </tr>\n",
       "    <tr>\n",
       "      <th>32569</th>\n",
       "      <td>6420000_taxinge_forsamling</td>\n",
       "      <td>2014</td>\n",
       "      <td>Ej Förvärvsarbetande</td>\n",
       "      <td>male</td>\n",
       "      <td>38</td>\n",
       "    </tr>\n",
       "    <tr>\n",
       "      <th>32570</th>\n",
       "      <td>6420000_taxinge_forsamling</td>\n",
       "      <td>2014</td>\n",
       "      <td>Förvärvsarbetande ej län 01</td>\n",
       "      <td>female</td>\n",
       "      <td>9</td>\n",
       "    </tr>\n",
       "    <tr>\n",
       "      <th>32571</th>\n",
       "      <td>6420000_taxinge_forsamling</td>\n",
       "      <td>2014</td>\n",
       "      <td>Förvärvsarbetande ej län 01</td>\n",
       "      <td>male</td>\n",
       "      <td>13</td>\n",
       "    </tr>\n",
       "    <tr>\n",
       "      <th>32572</th>\n",
       "      <td>6420000_taxinge_forsamling</td>\n",
       "      <td>2014</td>\n",
       "      <td>Förvärvsarbetande län 01</td>\n",
       "      <td>female</td>\n",
       "      <td>260</td>\n",
       "    </tr>\n",
       "    <tr>\n",
       "      <th>32573</th>\n",
       "      <td>6420000_taxinge_forsamling</td>\n",
       "      <td>2014</td>\n",
       "      <td>Förvärvsarbetande län 01</td>\n",
       "      <td>male</td>\n",
       "      <td>278</td>\n",
       "    </tr>\n",
       "    <tr>\n",
       "      <th>32574</th>\n",
       "      <td>6420000_taxinge_forsamling</td>\n",
       "      <td>2015</td>\n",
       "      <td>Ej Förvärvsarbetande</td>\n",
       "      <td>female</td>\n",
       "      <td>40</td>\n",
       "    </tr>\n",
       "    <tr>\n",
       "      <th>32575</th>\n",
       "      <td>6420000_taxinge_forsamling</td>\n",
       "      <td>2015</td>\n",
       "      <td>Ej Förvärvsarbetande</td>\n",
       "      <td>male</td>\n",
       "      <td>41</td>\n",
       "    </tr>\n",
       "    <tr>\n",
       "      <th>32576</th>\n",
       "      <td>6420000_taxinge_forsamling</td>\n",
       "      <td>2015</td>\n",
       "      <td>Förvärvsarbetande ej län 01</td>\n",
       "      <td>female</td>\n",
       "      <td>7</td>\n",
       "    </tr>\n",
       "    <tr>\n",
       "      <th>32577</th>\n",
       "      <td>6420000_taxinge_forsamling</td>\n",
       "      <td>2015</td>\n",
       "      <td>Förvärvsarbetande ej län 01</td>\n",
       "      <td>male</td>\n",
       "      <td>17</td>\n",
       "    </tr>\n",
       "    <tr>\n",
       "      <th>32578</th>\n",
       "      <td>6420000_taxinge_forsamling</td>\n",
       "      <td>2015</td>\n",
       "      <td>Förvärvsarbetande län 01</td>\n",
       "      <td>female</td>\n",
       "      <td>264</td>\n",
       "    </tr>\n",
       "    <tr>\n",
       "      <th>32579</th>\n",
       "      <td>6420000_taxinge_forsamling</td>\n",
       "      <td>2015</td>\n",
       "      <td>Förvärvsarbetande län 01</td>\n",
       "      <td>male</td>\n",
       "      <td>286</td>\n",
       "    </tr>\n",
       "  </tbody>\n",
       "</table>\n",
       "<p>32580 rows × 5 columns</p>\n",
       "</div>"
      ],
      "text/plain": [
       "                        basomrade  year                     kategori     Kön  \\\n",
       "0              1010120_skeppsbron  2011         Ej Förvärvsarbetande  female   \n",
       "1              1010120_skeppsbron  2011         Ej Förvärvsarbetande    male   \n",
       "2              1010120_skeppsbron  2011  Förvärvsarbetande ej län 01  female   \n",
       "3              1010120_skeppsbron  2011  Förvärvsarbetande ej län 01    male   \n",
       "4              1010120_skeppsbron  2011     Förvärvsarbetande län 01  female   \n",
       "5              1010120_skeppsbron  2011     Förvärvsarbetande län 01    male   \n",
       "6              1010120_skeppsbron  2012         Ej Förvärvsarbetande  female   \n",
       "7              1010120_skeppsbron  2012         Ej Förvärvsarbetande    male   \n",
       "8              1010120_skeppsbron  2012  Förvärvsarbetande ej län 01  female   \n",
       "9              1010120_skeppsbron  2012  Förvärvsarbetande ej län 01    male   \n",
       "10             1010120_skeppsbron  2012     Förvärvsarbetande län 01  female   \n",
       "11             1010120_skeppsbron  2012     Förvärvsarbetande län 01    male   \n",
       "12             1010120_skeppsbron  2013         Ej Förvärvsarbetande  female   \n",
       "13             1010120_skeppsbron  2013         Ej Förvärvsarbetande    male   \n",
       "14             1010120_skeppsbron  2013  Förvärvsarbetande ej län 01  female   \n",
       "15             1010120_skeppsbron  2013  Förvärvsarbetande ej län 01    male   \n",
       "16             1010120_skeppsbron  2013     Förvärvsarbetande län 01  female   \n",
       "17             1010120_skeppsbron  2013     Förvärvsarbetande län 01    male   \n",
       "18             1010120_skeppsbron  2014         Ej Förvärvsarbetande  female   \n",
       "19             1010120_skeppsbron  2014         Ej Förvärvsarbetande    male   \n",
       "20             1010120_skeppsbron  2014  Förvärvsarbetande ej län 01  female   \n",
       "21             1010120_skeppsbron  2014  Förvärvsarbetande ej län 01    male   \n",
       "22             1010120_skeppsbron  2014     Förvärvsarbetande län 01  female   \n",
       "23             1010120_skeppsbron  2014     Förvärvsarbetande län 01    male   \n",
       "24             1010120_skeppsbron  2015         Ej Förvärvsarbetande  female   \n",
       "25             1010120_skeppsbron  2015         Ej Förvärvsarbetande    male   \n",
       "26             1010120_skeppsbron  2015  Förvärvsarbetande ej län 01  female   \n",
       "27             1010120_skeppsbron  2015  Förvärvsarbetande ej län 01    male   \n",
       "28             1010120_skeppsbron  2015     Förvärvsarbetande län 01  female   \n",
       "29             1010120_skeppsbron  2015     Förvärvsarbetande län 01    male   \n",
       "...                           ...   ...                          ...     ...   \n",
       "32550  6420000_taxinge_forsamling  2011         Ej Förvärvsarbetande  female   \n",
       "32551  6420000_taxinge_forsamling  2011         Ej Förvärvsarbetande    male   \n",
       "32552  6420000_taxinge_forsamling  2011  Förvärvsarbetande ej län 01  female   \n",
       "32553  6420000_taxinge_forsamling  2011  Förvärvsarbetande ej län 01    male   \n",
       "32554  6420000_taxinge_forsamling  2011     Förvärvsarbetande län 01  female   \n",
       "32555  6420000_taxinge_forsamling  2011     Förvärvsarbetande län 01    male   \n",
       "32556  6420000_taxinge_forsamling  2012         Ej Förvärvsarbetande  female   \n",
       "32557  6420000_taxinge_forsamling  2012         Ej Förvärvsarbetande    male   \n",
       "32558  6420000_taxinge_forsamling  2012  Förvärvsarbetande ej län 01  female   \n",
       "32559  6420000_taxinge_forsamling  2012  Förvärvsarbetande ej län 01    male   \n",
       "32560  6420000_taxinge_forsamling  2012     Förvärvsarbetande län 01  female   \n",
       "32561  6420000_taxinge_forsamling  2012     Förvärvsarbetande län 01    male   \n",
       "32562  6420000_taxinge_forsamling  2013         Ej Förvärvsarbetande  female   \n",
       "32563  6420000_taxinge_forsamling  2013         Ej Förvärvsarbetande    male   \n",
       "32564  6420000_taxinge_forsamling  2013  Förvärvsarbetande ej län 01  female   \n",
       "32565  6420000_taxinge_forsamling  2013  Förvärvsarbetande ej län 01    male   \n",
       "32566  6420000_taxinge_forsamling  2013     Förvärvsarbetande län 01  female   \n",
       "32567  6420000_taxinge_forsamling  2013     Förvärvsarbetande län 01    male   \n",
       "32568  6420000_taxinge_forsamling  2014         Ej Förvärvsarbetande  female   \n",
       "32569  6420000_taxinge_forsamling  2014         Ej Förvärvsarbetande    male   \n",
       "32570  6420000_taxinge_forsamling  2014  Förvärvsarbetande ej län 01  female   \n",
       "32571  6420000_taxinge_forsamling  2014  Förvärvsarbetande ej län 01    male   \n",
       "32572  6420000_taxinge_forsamling  2014     Förvärvsarbetande län 01  female   \n",
       "32573  6420000_taxinge_forsamling  2014     Förvärvsarbetande län 01    male   \n",
       "32574  6420000_taxinge_forsamling  2015         Ej Förvärvsarbetande  female   \n",
       "32575  6420000_taxinge_forsamling  2015         Ej Förvärvsarbetande    male   \n",
       "32576  6420000_taxinge_forsamling  2015  Förvärvsarbetande ej län 01  female   \n",
       "32577  6420000_taxinge_forsamling  2015  Förvärvsarbetande ej län 01    male   \n",
       "32578  6420000_taxinge_forsamling  2015     Förvärvsarbetande län 01  female   \n",
       "32579  6420000_taxinge_forsamling  2015     Förvärvsarbetande län 01    male   \n",
       "\n",
       "       value  \n",
       "0         34  \n",
       "1         46  \n",
       "2          5  \n",
       "3          0  \n",
       "4        112  \n",
       "5        112  \n",
       "6         39  \n",
       "7         43  \n",
       "8          0  \n",
       "9          0  \n",
       "10       111  \n",
       "11       114  \n",
       "12        33  \n",
       "13        48  \n",
       "14         0  \n",
       "15         8  \n",
       "16       117  \n",
       "17       106  \n",
       "18        46  \n",
       "19        51  \n",
       "20         5  \n",
       "21         0  \n",
       "22       116  \n",
       "23       115  \n",
       "24        33  \n",
       "25        40  \n",
       "26         0  \n",
       "27         8  \n",
       "28       118  \n",
       "29       113  \n",
       "...      ...  \n",
       "32550     43  \n",
       "32551     34  \n",
       "32552      8  \n",
       "32553     13  \n",
       "32554    258  \n",
       "32555    276  \n",
       "32556     39  \n",
       "32557     34  \n",
       "32558     13  \n",
       "32559     19  \n",
       "32560    255  \n",
       "32561    268  \n",
       "32562     40  \n",
       "32563     33  \n",
       "32564     10  \n",
       "32565     14  \n",
       "32566    260  \n",
       "32567    278  \n",
       "32568     41  \n",
       "32569     38  \n",
       "32570      9  \n",
       "32571     13  \n",
       "32572    260  \n",
       "32573    278  \n",
       "32574     40  \n",
       "32575     41  \n",
       "32576      7  \n",
       "32577     17  \n",
       "32578    264  \n",
       "32579    286  \n",
       "\n",
       "[32580 rows x 5 columns]"
      ]
     },
     "execution_count": 284,
     "metadata": {},
     "output_type": "execute_result"
    }
   ],
   "source": [
    "df"
   ]
  },
  {
   "cell_type": "markdown",
   "metadata": {},
   "source": [
    "# Data prep"
   ]
  },
  {
   "cell_type": "markdown",
   "metadata": {},
   "source": [
    "Läs in fil"
   ]
  },
  {
   "cell_type": "code",
   "execution_count": 285,
   "metadata": {},
   "outputs": [],
   "source": [
    "df = pd.read_csv('../indata/ODB_TSV/ODB-Sysselsättning efter område, tid, ålder, sysselsättning och kön.txt', sep='\\t', header=1)"
   ]
  },
  {
   "cell_type": "markdown",
   "metadata": {},
   "source": [
    "Specificera indexering"
   ]
  },
  {
   "cell_type": "code",
   "execution_count": 286,
   "metadata": {},
   "outputs": [],
   "source": [
    "df = df.set_index(['område', 'tid'])"
   ]
  },
  {
   "cell_type": "markdown",
   "metadata": {},
   "source": [
    "Vänd ner samtliga kolumner i en kolumn"
   ]
  },
  {
   "cell_type": "code",
   "execution_count": 287,
   "metadata": {},
   "outputs": [],
   "source": [
    "df = pd.DataFrame(df.stack())"
   ]
  },
  {
   "cell_type": "markdown",
   "metadata": {},
   "source": [
    "Lyft ut index till kolumner igen"
   ]
  },
  {
   "cell_type": "code",
   "execution_count": 288,
   "metadata": {},
   "outputs": [],
   "source": [
    "df = df.reset_index()"
   ]
  },
  {
   "cell_type": "markdown",
   "metadata": {},
   "source": [
    "Sätt beskrivande kolumnnamn"
   ]
  },
  {
   "cell_type": "code",
   "execution_count": 289,
   "metadata": {},
   "outputs": [],
   "source": [
    "df = df.rename(columns={'level_2': 'age_group_gender', 0: 'value', 'tid':'year'})"
   ]
  },
  {
   "cell_type": "markdown",
   "metadata": {},
   "source": [
    "Splitta områdesnamn till endast baskod"
   ]
  },
  {
   "cell_type": "code",
   "execution_count": 290,
   "metadata": {
    "scrolled": true
   },
   "outputs": [],
   "source": [
    "df['område'] = df['område'].str.split(' ', 1, expand = True)\n",
    "df = df.rename(columns={'område': 'BASKOD2010'})\n",
    "df['BASKOD2010'] = df['BASKOD2010'].astype(str).astype(int)"
   ]
  },
  {
   "cell_type": "markdown",
   "metadata": {},
   "source": [
    "Byt om `BASKOD2010` till entity-namnet"
   ]
  },
  {
   "cell_type": "code",
   "execution_count": 291,
   "metadata": {},
   "outputs": [],
   "source": [
    "df = baskod2010tobasomrade(df)"
   ]
  },
  {
   "cell_type": "markdown",
   "metadata": {},
   "source": [
    "Splitta ut `ageyeargender` till fyra separata kolumner"
   ]
  },
  {
   "cell_type": "code",
   "execution_count": 292,
   "metadata": {},
   "outputs": [],
   "source": [
    "df['Kön'] = df['age_group_gender'].str.split().str[-1]"
   ]
  },
  {
   "cell_type": "code",
   "execution_count": 293,
   "metadata": {},
   "outputs": [],
   "source": [
    "df['agegroup'] = df['age_group_gender'].str.split().str[0]"
   ]
  },
  {
   "cell_type": "code",
   "execution_count": 294,
   "metadata": {},
   "outputs": [],
   "source": [
    "df['kategori'] = df['age_group_gender'].str.split().str[2:-1].str.join(' ')"
   ]
  },
  {
   "cell_type": "markdown",
   "metadata": {},
   "source": [
    "Specificera ordningen på kolumnerna"
   ]
  },
  {
   "cell_type": "code",
   "execution_count": 295,
   "metadata": {},
   "outputs": [],
   "source": [
    "df = df[['basomrade','year','kategori', 'Kön', 'agegroup', 'value']]"
   ]
  },
  {
   "cell_type": "markdown",
   "metadata": {},
   "source": [
    "Specificera indexering"
   ]
  },
  {
   "cell_type": "code",
   "execution_count": 296,
   "metadata": {
    "scrolled": true
   },
   "outputs": [],
   "source": [
    "df = df.set_index(['basomrade'])"
   ]
  },
  {
   "cell_type": "markdown",
   "metadata": {},
   "source": [
    "    #"
   ]
  },
  {
   "cell_type": "code",
   "execution_count": 297,
   "metadata": {
    "scrolled": true
   },
   "outputs": [],
   "source": [
    "df = df.groupby(['basomrade', 'year', 'kategori', 'Kön']).sum().reset_index()"
   ]
  },
  {
   "cell_type": "markdown",
   "metadata": {},
   "source": [
    "Sätt `Kön` till en pandas category"
   ]
  },
  {
   "cell_type": "code",
   "execution_count": 298,
   "metadata": {},
   "outputs": [],
   "source": [
    "df['Kön'] = df['Kön'].astype('category')\n",
    "df['Kön'].cat.categories = ['female', 'male']"
   ]
  },
  {
   "cell_type": "markdown",
   "metadata": {},
   "source": [
    "# Antal förvärvsarbetande"
   ]
  },
  {
   "cell_type": "code",
   "execution_count": 299,
   "metadata": {},
   "outputs": [],
   "source": [
    "concept = 'employed_aged_20_64'"
   ]
  },
  {
   "cell_type": "code",
   "execution_count": 300,
   "metadata": {},
   "outputs": [],
   "source": [
    "nSys = df[df['kategori'].isin(['Förvärvsarbetande ej län 01', 'Förvärvsarbetande län 01'])]"
   ]
  },
  {
   "cell_type": "code",
   "execution_count": 301,
   "metadata": {},
   "outputs": [],
   "source": [
    "nSys = nSys.groupby(['basomrade', 'year', 'Kön']).sum().reset_index()"
   ]
  },
  {
   "cell_type": "code",
   "execution_count": 218,
   "metadata": {},
   "outputs": [
    {
     "name": "stdout",
     "output_type": "stream",
     "text": [
      "Saved employed_aged_20_64_female to ../ddf--sodertornsmodellen-output/ddf--sodertornsmodellen--src/ddf--datapoints--employed_aged_20_64_female--by--basomrade--year.csv\n",
      "\n",
      "Saved employed_aged_20_64_male to ../ddf--sodertornsmodellen-output/ddf--sodertornsmodellen--src/ddf--datapoints--employed_aged_20_64_male--by--basomrade--year.csv\n",
      "\n"
     ]
    }
   ],
   "source": [
    "byGender(concept, nSys)"
   ]
  },
  {
   "cell_type": "code",
   "execution_count": 303,
   "metadata": {},
   "outputs": [],
   "source": [
    "nSys = nSys.groupby(['basomrade', 'year']).sum().reset_index()"
   ]
  },
  {
   "cell_type": "code",
   "execution_count": 220,
   "metadata": {},
   "outputs": [
    {
     "name": "stdout",
     "output_type": "stream",
     "text": [
      "Saved employed_aged_20_64 to ../ddf--sodertornsmodellen-output/ddf--sodertornsmodellen--src/ddf--datapoints--employed_aged_20_64--by--basomrade--year.csv\n",
      "\n"
     ]
    }
   ],
   "source": [
    "appendNewDatapoints(concept, nSys)"
   ]
  },
  {
   "cell_type": "markdown",
   "metadata": {},
   "source": [
    "# Antal ej förvärvsarbetande"
   ]
  },
  {
   "cell_type": "code",
   "execution_count": 209,
   "metadata": {},
   "outputs": [],
   "source": [
    "concept = 'unemployed_aged_20_64'"
   ]
  },
  {
   "cell_type": "code",
   "execution_count": 210,
   "metadata": {},
   "outputs": [],
   "source": [
    "nNonSys = df[df['kategori'] == 'Ej Förvärvsarbetande']"
   ]
  },
  {
   "cell_type": "code",
   "execution_count": 211,
   "metadata": {},
   "outputs": [],
   "source": [
    "nNonSys = nNonSys.groupby(['basomrade', 'year', 'Kön']).sum().reset_index()"
   ]
  },
  {
   "cell_type": "code",
   "execution_count": 212,
   "metadata": {},
   "outputs": [
    {
     "name": "stdout",
     "output_type": "stream",
     "text": [
      "Saved unemployed_aged_20_64_female to ../ddf--sodertornsmodellen-output/ddf--sodertornsmodellen--src/ddf--datapoints--unemployed_aged_20_64_female--by--basomrade--year.csv\n",
      "\n",
      "Saved unemployed_aged_20_64_male to ../ddf--sodertornsmodellen-output/ddf--sodertornsmodellen--src/ddf--datapoints--unemployed_aged_20_64_male--by--basomrade--year.csv\n",
      "\n"
     ]
    }
   ],
   "source": [
    "byGender(concept, nNonSys)"
   ]
  },
  {
   "cell_type": "code",
   "execution_count": 213,
   "metadata": {},
   "outputs": [],
   "source": [
    "nNonSys = nNonSys.groupby(['basomrade', 'year']).sum().reset_index()"
   ]
  },
  {
   "cell_type": "code",
   "execution_count": 214,
   "metadata": {},
   "outputs": [
    {
     "name": "stdout",
     "output_type": "stream",
     "text": [
      "Saved unemployed_aged_20_64 to ../ddf--sodertornsmodellen-output/ddf--sodertornsmodellen--src/ddf--datapoints--unemployed_aged_20_64--by--basomrade--year.csv\n",
      "\n"
     ]
    }
   ],
   "source": [
    "appendNewDatapoints(concept, nNonSys)"
   ]
  },
  {
   "cell_type": "markdown",
   "metadata": {},
   "source": [
    "# Andel förvärvsarbetande"
   ]
  },
  {
   "cell_type": "code",
   "execution_count": 221,
   "metadata": {},
   "outputs": [],
   "source": [
    "concept = 'employment_rate_20_64'förvärvsarbetande"
   ]
  },
  {
   "cell_type": "markdown",
   "metadata": {},
   "source": [
    "### Andel per kön"
   ]
  },
  {
   "cell_type": "code",
   "execution_count": 271,
   "metadata": {},
   "outputs": [],
   "source": [
    "total = df.groupby(['basomrade', 'year', 'Kön']).sum().add_prefix('total_').reset_index()\n",
    "# total = pd.merge(bygender, df)"
   ]
  },
  {
   "cell_type": "code",
   "execution_count": 272,
   "metadata": {},
   "outputs": [],
   "source": [
    "bygender = df[df['kategori'].isin(['Förvärvsarbetande ej län 01', 'Förvärvsarbetande län 01'])]\n",
    "bygender = bygender.groupby(['basomrade', 'year', 'Kön']).sum().reset_index()"
   ]
  },
  {
   "cell_type": "code",
   "execution_count": 273,
   "metadata": {},
   "outputs": [],
   "source": [
    "bygender = pd.merge(total, bygender)"
   ]
  },
  {
   "cell_type": "code",
   "execution_count": 274,
   "metadata": {},
   "outputs": [],
   "source": [
    "bygender['rate'] = bygender['value'] / bygender['total_value']"
   ]
  },
  {
   "cell_type": "code",
   "execution_count": 275,
   "metadata": {},
   "outputs": [],
   "source": [
    "bygender = bygender[['basomrade', 'year', 'Kön', 'rate']]\n",
    "bygender = bygender.rename(columns={'rate': 'value'})"
   ]
  },
  {
   "cell_type": "code",
   "execution_count": 276,
   "metadata": {},
   "outputs": [
    {
     "name": "stdout",
     "output_type": "stream",
     "text": [
      "Saved employment_rate_20_64_female to ../ddf--sodertornsmodellen-output/ddf--sodertornsmodellen--src/ddf--datapoints--employment_rate_20_64_female--by--basomrade--year.csv\n",
      "\n",
      "Saved employment_rate_20_64_male to ../ddf--sodertornsmodellen-output/ddf--sodertornsmodellen--src/ddf--datapoints--employment_rate_20_64_male--by--basomrade--year.csv\n",
      "\n"
     ]
    }
   ],
   "source": [
    "byGender(concept, bygender)"
   ]
  },
  {
   "cell_type": "markdown",
   "metadata": {},
   "source": [
    "### Andel totalt"
   ]
  },
  {
   "cell_type": "code",
   "execution_count": 277,
   "metadata": {},
   "outputs": [],
   "source": [
    "total = df.groupby(['basomrade', 'year']).sum().add_prefix('total_').reset_index()"
   ]
  },
  {
   "cell_type": "code",
   "execution_count": 278,
   "metadata": {},
   "outputs": [],
   "source": [
    "rate = df[df['kategori'].isin(['Förvärvsarbetande ej län 01', 'Förvärvsarbetande län 01'])]\n",
    "rate = rate.groupby(['basomrade', 'year']).sum().reset_index()"
   ]
  },
  {
   "cell_type": "code",
   "execution_count": 279,
   "metadata": {},
   "outputs": [],
   "source": [
    "rate = pd.merge(total, rate)"
   ]
  },
  {
   "cell_type": "code",
   "execution_count": 280,
   "metadata": {},
   "outputs": [],
   "source": [
    "rate['rate'] = rate['value'] / rate['total_value']"
   ]
  },
  {
   "cell_type": "code",
   "execution_count": 281,
   "metadata": {},
   "outputs": [],
   "source": [
    "rate = rate[['basomrade', 'year', 'rate']]\n",
    "rate = rate.rename(columns={'rate': 'value'})"
   ]
  },
  {
   "cell_type": "code",
   "execution_count": 282,
   "metadata": {},
   "outputs": [
    {
     "name": "stdout",
     "output_type": "stream",
     "text": [
      "Saved employment_rate_20_64 to ../ddf--sodertornsmodellen-output/ddf--sodertornsmodellen--src/ddf--datapoints--employment_rate_20_64--by--basomrade--year.csv\n",
      "\n"
     ]
    }
   ],
   "source": [
    "appendNewDatapoints(concept, rate)"
   ]
  }
 ],
 "metadata": {
  "kernelspec": {
   "display_name": "Python 3",
   "language": "python",
   "name": "python3"
  },
  "language_info": {
   "codemirror_mode": {
    "name": "ipython",
    "version": 3
   },
   "file_extension": ".py",
   "mimetype": "text/x-python",
   "name": "python",
   "nbconvert_exporter": "python",
   "pygments_lexer": "ipython3",
   "version": "3.6.5"
  }
 },
 "nbformat": 4,
 "nbformat_minor": 2
}
