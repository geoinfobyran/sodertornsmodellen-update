{
 "cells": [
  {
   "cell_type": "markdown",
   "metadata": {},
   "source": [
    "# Antal rum"
   ]
  },
  {
   "cell_type": "code",
   "execution_count": 1,
   "metadata": {},
   "outputs": [],
   "source": [
    "import os\n",
    "import glob\n",
    "\n",
    "import numpy as np\n",
    "import pandas as pd\n",
    "\n",
    "%matplotlib inline"
   ]
  },
  {
   "cell_type": "code",
   "execution_count": 2,
   "metadata": {},
   "outputs": [],
   "source": [
    "from helpers import *"
   ]
  },
  {
   "cell_type": "markdown",
   "metadata": {},
   "source": [
    "# Data prep"
   ]
  },
  {
   "cell_type": "code",
   "execution_count": 3,
   "metadata": {},
   "outputs": [],
   "source": [
    "files = glob.glob('../indata/supermappen/*Antrumbas*.csv')"
   ]
  },
  {
   "cell_type": "code",
   "execution_count": 4,
   "metadata": {},
   "outputs": [
    {
     "data": {
      "text/plain": [
       "['../indata/supermappen/Tabell14G_Antrumbas2014.csv',\n",
       " '../indata/supermappen/Tabell14C_Antrumbas2016.csv',\n",
       " '../indata/supermappen/Tabell14I_Antrumbas2013.csv',\n",
       " '../indata/supermappen/Tabell14K_Antrumbas2012.csv',\n",
       " '../indata/supermappen/Tabell14E_Antrumbas2015.csv',\n",
       " '../indata/supermappen/Tabell14A_Antrumbas2017.csv']"
      ]
     },
     "execution_count": 4,
     "metadata": {},
     "output_type": "execute_result"
    }
   ],
   "source": [
    "files"
   ]
  },
  {
   "cell_type": "code",
   "execution_count": 5,
   "metadata": {},
   "outputs": [],
   "source": [
    "def readAntrum(file):\n",
    "    df = pd.read_csv(file, encoding='latin1' , sep=';', decimal=',', header=[0,1])\n",
    "    df['year'] = pd.to_datetime(getYear(file))\n",
    "    df['year'] = df['year'].apply(lambda t: t.year)\n",
    "    return df"
   ]
  },
  {
   "cell_type": "code",
   "execution_count": 6,
   "metadata": {},
   "outputs": [],
   "source": [
    "df = pd.concat(list(map(readAntrum, files)))"
   ]
  },
  {
   "cell_type": "code",
   "execution_count": 7,
   "metadata": {},
   "outputs": [
    {
     "data": {
      "text/html": [
       "<div>\n",
       "<style scoped>\n",
       "    .dataframe tbody tr th:only-of-type {\n",
       "        vertical-align: middle;\n",
       "    }\n",
       "\n",
       "    .dataframe tbody tr th {\n",
       "        vertical-align: top;\n",
       "    }\n",
       "\n",
       "    .dataframe thead tr th {\n",
       "        text-align: left;\n",
       "    }\n",
       "</style>\n",
       "<table border=\"1\" class=\"dataframe\">\n",
       "  <thead>\n",
       "    <tr>\n",
       "      <th></th>\n",
       "      <th>Unnamed: 0_level_0</th>\n",
       "      <th colspan=\"3\" halign=\"left\">Småhus</th>\n",
       "      <th colspan=\"3\" halign=\"left\">Flerbostadshus</th>\n",
       "      <th>Specialbostad</th>\n",
       "      <th>Övriga</th>\n",
       "      <th>Uppgift saknas</th>\n",
       "      <th>year</th>\n",
       "    </tr>\n",
       "    <tr>\n",
       "      <th></th>\n",
       "      <th>Basområde</th>\n",
       "      <th>hyresrätt</th>\n",
       "      <th>bostadsrätt</th>\n",
       "      <th>äganderätt</th>\n",
       "      <th>hyresrätt</th>\n",
       "      <th>bostadsrätt</th>\n",
       "      <th>äganderätt</th>\n",
       "      <th></th>\n",
       "      <th></th>\n",
       "      <th>om upplåtelseform</th>\n",
       "      <th></th>\n",
       "    </tr>\n",
       "  </thead>\n",
       "  <tbody>\n",
       "    <tr>\n",
       "      <th>0</th>\n",
       "      <td>1010110</td>\n",
       "      <td>0.0</td>\n",
       "      <td>0.0</td>\n",
       "      <td>0.0</td>\n",
       "      <td>1.8</td>\n",
       "      <td>0.0</td>\n",
       "      <td>0.0</td>\n",
       "      <td>0.0</td>\n",
       "      <td>3.6</td>\n",
       "      <td>0.0</td>\n",
       "      <td>2014</td>\n",
       "    </tr>\n",
       "    <tr>\n",
       "      <th>1</th>\n",
       "      <td>1010120</td>\n",
       "      <td>0.0</td>\n",
       "      <td>0.0</td>\n",
       "      <td>0.0</td>\n",
       "      <td>2.5</td>\n",
       "      <td>2.6</td>\n",
       "      <td>0.0</td>\n",
       "      <td>0.0</td>\n",
       "      <td>2.5</td>\n",
       "      <td>0.0</td>\n",
       "      <td>2014</td>\n",
       "    </tr>\n",
       "    <tr>\n",
       "      <th>2</th>\n",
       "      <td>1010130</td>\n",
       "      <td>2.8</td>\n",
       "      <td>3.0</td>\n",
       "      <td>0.0</td>\n",
       "      <td>2.5</td>\n",
       "      <td>2.6</td>\n",
       "      <td>0.0</td>\n",
       "      <td>0.0</td>\n",
       "      <td>2.6</td>\n",
       "      <td>0.0</td>\n",
       "      <td>2014</td>\n",
       "    </tr>\n",
       "    <tr>\n",
       "      <th>3</th>\n",
       "      <td>1010140</td>\n",
       "      <td>2.7</td>\n",
       "      <td>3.8</td>\n",
       "      <td>3.4</td>\n",
       "      <td>2.6</td>\n",
       "      <td>2.3</td>\n",
       "      <td>0.0</td>\n",
       "      <td>1.4</td>\n",
       "      <td>2.9</td>\n",
       "      <td>0.0</td>\n",
       "      <td>2014</td>\n",
       "    </tr>\n",
       "    <tr>\n",
       "      <th>4</th>\n",
       "      <td>1010201</td>\n",
       "      <td>0.0</td>\n",
       "      <td>0.0</td>\n",
       "      <td>0.0</td>\n",
       "      <td>0.0</td>\n",
       "      <td>2.8</td>\n",
       "      <td>0.0</td>\n",
       "      <td>0.0</td>\n",
       "      <td>1.9</td>\n",
       "      <td>0.0</td>\n",
       "      <td>2014</td>\n",
       "    </tr>\n",
       "  </tbody>\n",
       "</table>\n",
       "</div>"
      ],
      "text/plain": [
       "  Unnamed: 0_level_0    Småhus                        Flerbostadshus  \\\n",
       "           Basområde hyresrätt bostadsrätt äganderätt      hyresrätt   \n",
       "0            1010110       0.0         0.0        0.0            1.8   \n",
       "1            1010120       0.0         0.0        0.0            2.5   \n",
       "2            1010130       2.8         3.0        0.0            2.5   \n",
       "3            1010140       2.7         3.8        3.4            2.6   \n",
       "4            1010201       0.0         0.0        0.0            0.0   \n",
       "\n",
       "                         Specialbostad Övriga    Uppgift saknas  year  \n",
       "  bostadsrätt äganderätt                      om upplåtelseform        \n",
       "0         0.0        0.0           0.0    3.6               0.0  2014  \n",
       "1         2.6        0.0           0.0    2.5               0.0  2014  \n",
       "2         2.6        0.0           0.0    2.6               0.0  2014  \n",
       "3         2.3        0.0           1.4    2.9               0.0  2014  \n",
       "4         2.8        0.0           0.0    1.9               0.0  2014  "
      ]
     },
     "execution_count": 7,
     "metadata": {},
     "output_type": "execute_result"
    }
   ],
   "source": [
    "df.head()"
   ]
  },
  {
   "cell_type": "code",
   "execution_count": 8,
   "metadata": {},
   "outputs": [],
   "source": [
    "df.columns = [' '.join(col).strip() for col in df.columns.values]"
   ]
  },
  {
   "cell_type": "code",
   "execution_count": 9,
   "metadata": {},
   "outputs": [
    {
     "data": {
      "text/html": [
       "<div>\n",
       "<style scoped>\n",
       "    .dataframe tbody tr th:only-of-type {\n",
       "        vertical-align: middle;\n",
       "    }\n",
       "\n",
       "    .dataframe tbody tr th {\n",
       "        vertical-align: top;\n",
       "    }\n",
       "\n",
       "    .dataframe thead th {\n",
       "        text-align: right;\n",
       "    }\n",
       "</style>\n",
       "<table border=\"1\" class=\"dataframe\">\n",
       "  <thead>\n",
       "    <tr style=\"text-align: right;\">\n",
       "      <th></th>\n",
       "      <th>Unnamed: 0_level_0 Basområde</th>\n",
       "      <th>Småhus hyresrätt</th>\n",
       "      <th>Småhus bostadsrätt</th>\n",
       "      <th>Småhus äganderätt</th>\n",
       "      <th>Flerbostadshus hyresrätt</th>\n",
       "      <th>Flerbostadshus bostadsrätt</th>\n",
       "      <th>Flerbostadshus äganderätt</th>\n",
       "      <th>Specialbostad</th>\n",
       "      <th>Övriga</th>\n",
       "      <th>Uppgift saknas om upplåtelseform</th>\n",
       "      <th>year</th>\n",
       "    </tr>\n",
       "  </thead>\n",
       "  <tbody>\n",
       "    <tr>\n",
       "      <th>0</th>\n",
       "      <td>1010110</td>\n",
       "      <td>0.0</td>\n",
       "      <td>0.0</td>\n",
       "      <td>0.0</td>\n",
       "      <td>1.8</td>\n",
       "      <td>0.0</td>\n",
       "      <td>0.0</td>\n",
       "      <td>0.0</td>\n",
       "      <td>3.6</td>\n",
       "      <td>0.0</td>\n",
       "      <td>2014</td>\n",
       "    </tr>\n",
       "    <tr>\n",
       "      <th>1</th>\n",
       "      <td>1010120</td>\n",
       "      <td>0.0</td>\n",
       "      <td>0.0</td>\n",
       "      <td>0.0</td>\n",
       "      <td>2.5</td>\n",
       "      <td>2.6</td>\n",
       "      <td>0.0</td>\n",
       "      <td>0.0</td>\n",
       "      <td>2.5</td>\n",
       "      <td>0.0</td>\n",
       "      <td>2014</td>\n",
       "    </tr>\n",
       "    <tr>\n",
       "      <th>2</th>\n",
       "      <td>1010130</td>\n",
       "      <td>2.8</td>\n",
       "      <td>3.0</td>\n",
       "      <td>0.0</td>\n",
       "      <td>2.5</td>\n",
       "      <td>2.6</td>\n",
       "      <td>0.0</td>\n",
       "      <td>0.0</td>\n",
       "      <td>2.6</td>\n",
       "      <td>0.0</td>\n",
       "      <td>2014</td>\n",
       "    </tr>\n",
       "    <tr>\n",
       "      <th>3</th>\n",
       "      <td>1010140</td>\n",
       "      <td>2.7</td>\n",
       "      <td>3.8</td>\n",
       "      <td>3.4</td>\n",
       "      <td>2.6</td>\n",
       "      <td>2.3</td>\n",
       "      <td>0.0</td>\n",
       "      <td>1.4</td>\n",
       "      <td>2.9</td>\n",
       "      <td>0.0</td>\n",
       "      <td>2014</td>\n",
       "    </tr>\n",
       "    <tr>\n",
       "      <th>4</th>\n",
       "      <td>1010201</td>\n",
       "      <td>0.0</td>\n",
       "      <td>0.0</td>\n",
       "      <td>0.0</td>\n",
       "      <td>0.0</td>\n",
       "      <td>2.8</td>\n",
       "      <td>0.0</td>\n",
       "      <td>0.0</td>\n",
       "      <td>1.9</td>\n",
       "      <td>0.0</td>\n",
       "      <td>2014</td>\n",
       "    </tr>\n",
       "  </tbody>\n",
       "</table>\n",
       "</div>"
      ],
      "text/plain": [
       "   Unnamed: 0_level_0 Basområde  Småhus hyresrätt  Småhus bostadsrätt  \\\n",
       "0                       1010110               0.0                 0.0   \n",
       "1                       1010120               0.0                 0.0   \n",
       "2                       1010130               2.8                 3.0   \n",
       "3                       1010140               2.7                 3.8   \n",
       "4                       1010201               0.0                 0.0   \n",
       "\n",
       "   Småhus äganderätt  Flerbostadshus hyresrätt  Flerbostadshus bostadsrätt  \\\n",
       "0                0.0                       1.8                         0.0   \n",
       "1                0.0                       2.5                         2.6   \n",
       "2                0.0                       2.5                         2.6   \n",
       "3                3.4                       2.6                         2.3   \n",
       "4                0.0                       0.0                         2.8   \n",
       "\n",
       "   Flerbostadshus äganderätt  Specialbostad  Övriga  \\\n",
       "0                        0.0            0.0     3.6   \n",
       "1                        0.0            0.0     2.5   \n",
       "2                        0.0            0.0     2.6   \n",
       "3                        0.0            1.4     2.9   \n",
       "4                        0.0            0.0     1.9   \n",
       "\n",
       "   Uppgift saknas om upplåtelseform  year  \n",
       "0                               0.0  2014  \n",
       "1                               0.0  2014  \n",
       "2                               0.0  2014  \n",
       "3                               0.0  2014  \n",
       "4                               0.0  2014  "
      ]
     },
     "execution_count": 9,
     "metadata": {},
     "output_type": "execute_result"
    }
   ],
   "source": [
    "df.head()"
   ]
  },
  {
   "cell_type": "code",
   "execution_count": 10,
   "metadata": {},
   "outputs": [],
   "source": [
    "df = df.rename(columns={\n",
    "    'Unnamed: 0_level_0 Basområde': 'BASKOD2010'\n",
    "})"
   ]
  },
  {
   "cell_type": "code",
   "execution_count": 11,
   "metadata": {},
   "outputs": [
    {
     "data": {
      "text/html": [
       "<div>\n",
       "<style scoped>\n",
       "    .dataframe tbody tr th:only-of-type {\n",
       "        vertical-align: middle;\n",
       "    }\n",
       "\n",
       "    .dataframe tbody tr th {\n",
       "        vertical-align: top;\n",
       "    }\n",
       "\n",
       "    .dataframe thead th {\n",
       "        text-align: right;\n",
       "    }\n",
       "</style>\n",
       "<table border=\"1\" class=\"dataframe\">\n",
       "  <thead>\n",
       "    <tr style=\"text-align: right;\">\n",
       "      <th></th>\n",
       "      <th>BASKOD2010</th>\n",
       "      <th>Småhus hyresrätt</th>\n",
       "      <th>Småhus bostadsrätt</th>\n",
       "      <th>Småhus äganderätt</th>\n",
       "      <th>Flerbostadshus hyresrätt</th>\n",
       "      <th>Flerbostadshus bostadsrätt</th>\n",
       "      <th>Flerbostadshus äganderätt</th>\n",
       "      <th>Specialbostad</th>\n",
       "      <th>Övriga</th>\n",
       "      <th>Uppgift saknas om upplåtelseform</th>\n",
       "      <th>year</th>\n",
       "    </tr>\n",
       "  </thead>\n",
       "  <tbody>\n",
       "    <tr>\n",
       "      <th>0</th>\n",
       "      <td>1010110</td>\n",
       "      <td>0.0</td>\n",
       "      <td>0.0</td>\n",
       "      <td>0.0</td>\n",
       "      <td>1.8</td>\n",
       "      <td>0.0</td>\n",
       "      <td>0.0</td>\n",
       "      <td>0.0</td>\n",
       "      <td>3.6</td>\n",
       "      <td>0.0</td>\n",
       "      <td>2014</td>\n",
       "    </tr>\n",
       "    <tr>\n",
       "      <th>1</th>\n",
       "      <td>1010120</td>\n",
       "      <td>0.0</td>\n",
       "      <td>0.0</td>\n",
       "      <td>0.0</td>\n",
       "      <td>2.5</td>\n",
       "      <td>2.6</td>\n",
       "      <td>0.0</td>\n",
       "      <td>0.0</td>\n",
       "      <td>2.5</td>\n",
       "      <td>0.0</td>\n",
       "      <td>2014</td>\n",
       "    </tr>\n",
       "    <tr>\n",
       "      <th>2</th>\n",
       "      <td>1010130</td>\n",
       "      <td>2.8</td>\n",
       "      <td>3.0</td>\n",
       "      <td>0.0</td>\n",
       "      <td>2.5</td>\n",
       "      <td>2.6</td>\n",
       "      <td>0.0</td>\n",
       "      <td>0.0</td>\n",
       "      <td>2.6</td>\n",
       "      <td>0.0</td>\n",
       "      <td>2014</td>\n",
       "    </tr>\n",
       "    <tr>\n",
       "      <th>3</th>\n",
       "      <td>1010140</td>\n",
       "      <td>2.7</td>\n",
       "      <td>3.8</td>\n",
       "      <td>3.4</td>\n",
       "      <td>2.6</td>\n",
       "      <td>2.3</td>\n",
       "      <td>0.0</td>\n",
       "      <td>1.4</td>\n",
       "      <td>2.9</td>\n",
       "      <td>0.0</td>\n",
       "      <td>2014</td>\n",
       "    </tr>\n",
       "    <tr>\n",
       "      <th>4</th>\n",
       "      <td>1010201</td>\n",
       "      <td>0.0</td>\n",
       "      <td>0.0</td>\n",
       "      <td>0.0</td>\n",
       "      <td>0.0</td>\n",
       "      <td>2.8</td>\n",
       "      <td>0.0</td>\n",
       "      <td>0.0</td>\n",
       "      <td>1.9</td>\n",
       "      <td>0.0</td>\n",
       "      <td>2014</td>\n",
       "    </tr>\n",
       "  </tbody>\n",
       "</table>\n",
       "</div>"
      ],
      "text/plain": [
       "   BASKOD2010  Småhus hyresrätt  Småhus bostadsrätt  Småhus äganderätt  \\\n",
       "0     1010110               0.0                 0.0                0.0   \n",
       "1     1010120               0.0                 0.0                0.0   \n",
       "2     1010130               2.8                 3.0                0.0   \n",
       "3     1010140               2.7                 3.8                3.4   \n",
       "4     1010201               0.0                 0.0                0.0   \n",
       "\n",
       "   Flerbostadshus hyresrätt  Flerbostadshus bostadsrätt  \\\n",
       "0                       1.8                         0.0   \n",
       "1                       2.5                         2.6   \n",
       "2                       2.5                         2.6   \n",
       "3                       2.6                         2.3   \n",
       "4                       0.0                         2.8   \n",
       "\n",
       "   Flerbostadshus äganderätt  Specialbostad  Övriga  \\\n",
       "0                        0.0            0.0     3.6   \n",
       "1                        0.0            0.0     2.5   \n",
       "2                        0.0            0.0     2.6   \n",
       "3                        0.0            1.4     2.9   \n",
       "4                        0.0            0.0     1.9   \n",
       "\n",
       "   Uppgift saknas om upplåtelseform  year  \n",
       "0                               0.0  2014  \n",
       "1                               0.0  2014  \n",
       "2                               0.0  2014  \n",
       "3                               0.0  2014  \n",
       "4                               0.0  2014  "
      ]
     },
     "execution_count": 11,
     "metadata": {},
     "output_type": "execute_result"
    }
   ],
   "source": [
    "df.head()"
   ]
  },
  {
   "cell_type": "code",
   "execution_count": 12,
   "metadata": {},
   "outputs": [],
   "source": [
    "# list(df.columns)\n",
    "df = df[['BASKOD2010', 'year', 'Småhus hyresrätt', 'Småhus bostadsrätt', 'Småhus äganderätt', 'Flerbostadshus hyresrätt', 'Flerbostadshus bostadsrätt', 'Flerbostadshus äganderätt', 'Specialbostad', 'Övriga', 'Uppgift saknas om upplåtelseform']]"
   ]
  },
  {
   "cell_type": "code",
   "execution_count": 13,
   "metadata": {},
   "outputs": [],
   "source": [
    "# df.head()"
   ]
  },
  {
   "cell_type": "code",
   "execution_count": 15,
   "metadata": {},
   "outputs": [],
   "source": [
    "df = baskod2010tobasomrade(df, n_numeric=9)#.drop(columns=['BASKOD2010', 'BASKOD2000'])"
   ]
  },
  {
   "cell_type": "code",
   "execution_count": 16,
   "metadata": {},
   "outputs": [],
   "source": [
    "cols = ['Småhus hyresrätt','Småhus bostadsrätt','Småhus äganderätt','Flerbostadshus hyresrätt','Flerbostadshus bostadsrätt','Flerbostadshus äganderätt','Specialbostad','Övriga','Uppgift saknas om upplåtelseform']\n",
    "\n",
    "df[cols] = df[cols].replace({0.0:np.nan})"
   ]
  },
  {
   "cell_type": "code",
   "execution_count": 17,
   "metadata": {},
   "outputs": [
    {
     "data": {
      "text/html": [
       "<div>\n",
       "<style scoped>\n",
       "    .dataframe tbody tr th:only-of-type {\n",
       "        vertical-align: middle;\n",
       "    }\n",
       "\n",
       "    .dataframe tbody tr th {\n",
       "        vertical-align: top;\n",
       "    }\n",
       "\n",
       "    .dataframe thead th {\n",
       "        text-align: right;\n",
       "    }\n",
       "</style>\n",
       "<table border=\"1\" class=\"dataframe\">\n",
       "  <thead>\n",
       "    <tr style=\"text-align: right;\">\n",
       "      <th></th>\n",
       "      <th>year</th>\n",
       "      <th>basomrade</th>\n",
       "      <th>Småhus hyresrätt</th>\n",
       "      <th>Småhus bostadsrätt</th>\n",
       "      <th>Småhus äganderätt</th>\n",
       "      <th>Flerbostadshus hyresrätt</th>\n",
       "      <th>Flerbostadshus bostadsrätt</th>\n",
       "      <th>Flerbostadshus äganderätt</th>\n",
       "      <th>Specialbostad</th>\n",
       "      <th>Övriga</th>\n",
       "      <th>Uppgift saknas om upplåtelseform</th>\n",
       "    </tr>\n",
       "  </thead>\n",
       "  <tbody>\n",
       "    <tr>\n",
       "      <th>0</th>\n",
       "      <td>2012</td>\n",
       "      <td>1010120_skeppsbron</td>\n",
       "      <td>NaN</td>\n",
       "      <td>NaN</td>\n",
       "      <td>NaN</td>\n",
       "      <td>2.5</td>\n",
       "      <td>2.6</td>\n",
       "      <td>NaN</td>\n",
       "      <td>NaN</td>\n",
       "      <td>2.5</td>\n",
       "      <td>NaN</td>\n",
       "    </tr>\n",
       "    <tr>\n",
       "      <th>1</th>\n",
       "      <td>2012</td>\n",
       "      <td>1010130_munkbron</td>\n",
       "      <td>2.8</td>\n",
       "      <td>3.0</td>\n",
       "      <td>NaN</td>\n",
       "      <td>2.6</td>\n",
       "      <td>2.6</td>\n",
       "      <td>NaN</td>\n",
       "      <td>NaN</td>\n",
       "      <td>2.6</td>\n",
       "      <td>NaN</td>\n",
       "    </tr>\n",
       "    <tr>\n",
       "      <th>2</th>\n",
       "      <td>2012</td>\n",
       "      <td>1010140_stortorget</td>\n",
       "      <td>2.7</td>\n",
       "      <td>3.8</td>\n",
       "      <td>3.4</td>\n",
       "      <td>2.6</td>\n",
       "      <td>2.3</td>\n",
       "      <td>NaN</td>\n",
       "      <td>1.4</td>\n",
       "      <td>2.9</td>\n",
       "      <td>NaN</td>\n",
       "    </tr>\n",
       "    <tr>\n",
       "      <th>3</th>\n",
       "      <td>2012</td>\n",
       "      <td>1010201_centralstationen_n</td>\n",
       "      <td>NaN</td>\n",
       "      <td>NaN</td>\n",
       "      <td>NaN</td>\n",
       "      <td>NaN</td>\n",
       "      <td>2.8</td>\n",
       "      <td>NaN</td>\n",
       "      <td>NaN</td>\n",
       "      <td>1.9</td>\n",
       "      <td>NaN</td>\n",
       "    </tr>\n",
       "    <tr>\n",
       "      <th>4</th>\n",
       "      <td>2012</td>\n",
       "      <td>1010220_klara_kyrka</td>\n",
       "      <td>NaN</td>\n",
       "      <td>NaN</td>\n",
       "      <td>NaN</td>\n",
       "      <td>2.5</td>\n",
       "      <td>3.5</td>\n",
       "      <td>NaN</td>\n",
       "      <td>NaN</td>\n",
       "      <td>NaN</td>\n",
       "      <td>NaN</td>\n",
       "    </tr>\n",
       "  </tbody>\n",
       "</table>\n",
       "</div>"
      ],
      "text/plain": [
       "   year                   basomrade  Småhus hyresrätt  Småhus bostadsrätt  \\\n",
       "0  2012          1010120_skeppsbron               NaN                 NaN   \n",
       "1  2012            1010130_munkbron               2.8                 3.0   \n",
       "2  2012          1010140_stortorget               2.7                 3.8   \n",
       "3  2012  1010201_centralstationen_n               NaN                 NaN   \n",
       "4  2012         1010220_klara_kyrka               NaN                 NaN   \n",
       "\n",
       "   Småhus äganderätt  Flerbostadshus hyresrätt  Flerbostadshus bostadsrätt  \\\n",
       "0                NaN                       2.5                         2.6   \n",
       "1                NaN                       2.6                         2.6   \n",
       "2                3.4                       2.6                         2.3   \n",
       "3                NaN                       NaN                         2.8   \n",
       "4                NaN                       2.5                         3.5   \n",
       "\n",
       "   Flerbostadshus äganderätt  Specialbostad  Övriga  \\\n",
       "0                        NaN            NaN     2.5   \n",
       "1                        NaN            NaN     2.6   \n",
       "2                        NaN            1.4     2.9   \n",
       "3                        NaN            NaN     1.9   \n",
       "4                        NaN            NaN     NaN   \n",
       "\n",
       "   Uppgift saknas om upplåtelseform  \n",
       "0                               NaN  \n",
       "1                               NaN  \n",
       "2                               NaN  \n",
       "3                               NaN  \n",
       "4                               NaN  "
      ]
     },
     "execution_count": 17,
     "metadata": {},
     "output_type": "execute_result"
    }
   ],
   "source": [
    "df.head()"
   ]
  },
  {
   "cell_type": "markdown",
   "metadata": {},
   "source": [
    "# Antal rum per flerbostadshus, bostadsrätt"
   ]
  },
  {
   "cell_type": "code",
   "execution_count": 18,
   "metadata": {},
   "outputs": [],
   "source": [
    "concept = 'n_rooms_multhab_owned'"
   ]
  },
  {
   "cell_type": "code",
   "execution_count": 19,
   "metadata": {},
   "outputs": [],
   "source": [
    "subset = df[['Flerbostadshus bostadsrätt', 'year', 'basomrade']]\n",
    "subset = subset.rename(columns={\n",
    "    'Flerbostadshus bostadsrätt': 'value'\n",
    "})"
   ]
  },
  {
   "cell_type": "code",
   "execution_count": 20,
   "metadata": {},
   "outputs": [],
   "source": [
    "output = appendNewDatapoints(concept, subset, new=True)"
   ]
  },
  {
   "cell_type": "code",
   "execution_count": 21,
   "metadata": {},
   "outputs": [
    {
     "data": {
      "image/png": "[encoded data removed]",
      "text/plain": [
       "<Figure size 432x288 with 1 Axes>"
      ]
     },
     "metadata": {},
     "output_type": "display_data"
    }
   ],
   "source": [
    "plotcombined(output, concept)"
   ]
  },
  {
   "cell_type": "markdown",
   "metadata": {},
   "source": [
    "# Antal rum per småhus,  äganderätt"
   ]
  },
  {
   "cell_type": "code",
   "execution_count": 22,
   "metadata": {},
   "outputs": [],
   "source": [
    "concept = 'n_rooms_small_house_owned'"
   ]
  },
  {
   "cell_type": "code",
   "execution_count": 23,
   "metadata": {},
   "outputs": [],
   "source": [
    "subset = df[['Småhus äganderätt', 'year', 'basomrade']]\n",
    "subset = subset.rename(columns={\n",
    "    'Småhus äganderätt': 'value'\n",
    "})"
   ]
  },
  {
   "cell_type": "code",
   "execution_count": 24,
   "metadata": {},
   "outputs": [],
   "source": [
    "output = appendNewDatapoints(concept, subset, new=True)"
   ]
  },
  {
   "cell_type": "code",
   "execution_count": 25,
   "metadata": {},
   "outputs": [
    {
     "data": {
      "image/png": "[encoded data removed]",
      "text/plain": [
       "<Figure size 432x288 with 1 Axes>"
      ]
     },
     "metadata": {},
     "output_type": "display_data"
    }
   ],
   "source": [
    "plotcombined(output, concept)"
   ]
  },
  {
   "cell_type": "markdown",
   "metadata": {},
   "source": [
    "# Antal rum per flerbostadshus, hyresrätt"
   ]
  },
  {
   "cell_type": "code",
   "execution_count": 26,
   "metadata": {},
   "outputs": [],
   "source": [
    "concept = 'n_rooms_multhab_rented'"
   ]
  },
  {
   "cell_type": "code",
   "execution_count": 27,
   "metadata": {},
   "outputs": [],
   "source": [
    "subset = df[['Flerbostadshus hyresrätt', 'year', 'basomrade']]\n",
    "subset = subset.rename(columns={\n",
    "    'Flerbostadshus hyresrätt': 'value'\n",
    "})"
   ]
  },
  {
   "cell_type": "code",
   "execution_count": 28,
   "metadata": {},
   "outputs": [],
   "source": [
    "output = appendNewDatapoints(concept, subset, new=True)"
   ]
  },
  {
   "cell_type": "code",
   "execution_count": 29,
   "metadata": {},
   "outputs": [
    {
     "data": {
      "image/png": "[encoded data removed]",
      "text/plain": [
       "<Figure size 432x288 with 1 Axes>"
      ]
     },
     "metadata": {},
     "output_type": "display_data"
    }
   ],
   "source": [
    "plotcombined(output, concept)"
   ]
  }
 ],
 "metadata": {
  "kernelspec": {
   "display_name": "Python 3",
   "language": "python",
   "name": "python3"
  },
  "language_info": {
   "codemirror_mode": {
    "name": "ipython",
    "version": 3
   },
   "file_extension": ".py",
   "mimetype": "text/x-python",
   "name": "python",
   "nbconvert_exporter": "python",
   "pygments_lexer": "ipython3",
   "version": "3.6.5"
  }
 },
 "nbformat": 4,
 "nbformat_minor": 2
}
