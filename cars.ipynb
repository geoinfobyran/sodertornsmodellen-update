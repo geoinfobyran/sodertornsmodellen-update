{
 "cells": [
  {
   "cell_type": "markdown",
   "metadata": {},
   "source": [
    "# Bilar"
   ]
  },
  {
   "cell_type": "code",
   "execution_count": 30,
   "metadata": {},
   "outputs": [],
   "source": [
    "import os\n",
    "import glob\n",
    "\n",
    "import numpy as np\n",
    "import pandas as pd\n",
    "\n",
    "%matplotlib inline"
   ]
  },
  {
   "cell_type": "code",
   "execution_count": 31,
   "metadata": {},
   "outputs": [],
   "source": [
    "from helpers import *"
   ]
  },
  {
   "cell_type": "markdown",
   "metadata": {},
   "source": [
    "# Data prep"
   ]
  },
  {
   "cell_type": "markdown",
   "metadata": {},
   "source": [
    "Input CSV filerna har headers som sträcker sig över flera rader. Läser här in en av dem för att konkatenera dem till en lista. När filerna läses in skippas kolumnerna och ersätts med den här listan."
   ]
  },
  {
   "cell_type": "code",
   "execution_count": 32,
   "metadata": {},
   "outputs": [
    {
     "name": "stdout",
     "output_type": "stream",
     "text": [
      "14\n",
      "['Basområde', 'Antalpersoner', 'Antal personer med bil', 'Därav leasing', 'Antal bilar i trafik', 'Därav leasing', 'Antal avställda bilar', 'Därav leasing', 'Antal personersom skattatför förmånsbil', 'Antal personersom skattatmen ej skattatför förmånsbil', 'Antalhushåll', 'Antalhushållmed bil', 'Antal hushållmed fler änen bil', 'year']\n"
     ]
    }
   ],
   "source": [
    "col_df = pd.read_csv('../indata/supermappen/Tabell17AHH_Bilbas2016.csv', encoding='latin1' , sep=';', decimal=',', header=None, nrows=4)\n",
    "catcols = [col_df[col_df.columns[column]].str.strip().str.cat() for column in col_df.columns ]\n",
    "catcols.append('year')\n",
    "print(len(catcols))\n",
    "print(catcols)"
   ]
  },
  {
   "cell_type": "code",
   "execution_count": 33,
   "metadata": {},
   "outputs": [],
   "source": [
    "files = glob.glob('../indata/supermappen/*Bilbas*.csv')"
   ]
  },
  {
   "cell_type": "code",
   "execution_count": 34,
   "metadata": {},
   "outputs": [
    {
     "data": {
      "text/plain": [
       "['../indata/supermappen/Tabell17AHH_Bilbas2016.csv',\n",
       " '../indata/supermappen/Tabell17AHH_Bilbas2015.csv',\n",
       " '../indata/supermappen/Tabell17AHH_Bilbas2017.csv']"
      ]
     },
     "execution_count": 34,
     "metadata": {},
     "output_type": "execute_result"
    }
   ],
   "source": [
    "files"
   ]
  },
  {
   "cell_type": "code",
   "execution_count": 35,
   "metadata": {},
   "outputs": [],
   "source": [
    "def readBil(file):\n",
    "    df = pd.read_csv(file, encoding='latin1' , sep=';', decimal=',', header=None, skiprows=4)\n",
    "    df['year'] = pd.to_datetime(getYear(file))\n",
    "    df['year'] = df['year'].apply(lambda t: t.year)\n",
    "    df.columns = catcols\n",
    "    df = df.rename(columns={'Basområde': 'BASKOD2010'})\n",
    "\n",
    "    \n",
    "    return df"
   ]
  },
  {
   "cell_type": "markdown",
   "metadata": {},
   "source": [
    "Läs in alla filer och slå ihop till en DataFrame"
   ]
  },
  {
   "cell_type": "code",
   "execution_count": 36,
   "metadata": {},
   "outputs": [],
   "source": [
    "df = pd.concat(list(map(readBil, files)))"
   ]
  },
  {
   "cell_type": "markdown",
   "metadata": {},
   "source": [
    "Plocka ut relevanta kolumner"
   ]
  },
  {
   "cell_type": "code",
   "execution_count": 37,
   "metadata": {},
   "outputs": [],
   "source": [
    "df = df[['BASKOD2010', 'year', 'Antalpersoner', 'Antal personer med bil', 'Antal bilar i trafik', 'Antal avställda bilar', 'Antalhushåll', 'Antalhushållmed bil', 'Antal hushållmed fler änen bil']]"
   ]
  },
  {
   "cell_type": "code",
   "execution_count": 38,
   "metadata": {},
   "outputs": [
    {
     "data": {
      "text/html": [
       "<div>\n",
       "<style scoped>\n",
       "    .dataframe tbody tr th:only-of-type {\n",
       "        vertical-align: middle;\n",
       "    }\n",
       "\n",
       "    .dataframe tbody tr th {\n",
       "        vertical-align: top;\n",
       "    }\n",
       "\n",
       "    .dataframe thead th {\n",
       "        text-align: right;\n",
       "    }\n",
       "</style>\n",
       "<table border=\"1\" class=\"dataframe\">\n",
       "  <thead>\n",
       "    <tr style=\"text-align: right;\">\n",
       "      <th></th>\n",
       "      <th>BASKOD2010</th>\n",
       "      <th>year</th>\n",
       "      <th>Antalpersoner</th>\n",
       "      <th>Antal personer med bil</th>\n",
       "      <th>Antal bilar i trafik</th>\n",
       "      <th>Antal avställda bilar</th>\n",
       "      <th>Antalhushåll</th>\n",
       "      <th>Antalhushållmed bil</th>\n",
       "      <th>Antal hushållmed fler änen bil</th>\n",
       "    </tr>\n",
       "  </thead>\n",
       "  <tbody>\n",
       "    <tr>\n",
       "      <th>0</th>\n",
       "      <td>1010110</td>\n",
       "      <td>2016</td>\n",
       "      <td>24</td>\n",
       "      <td>3</td>\n",
       "      <td>3</td>\n",
       "      <td>0</td>\n",
       "      <td>14.0</td>\n",
       "      <td>0.0</td>\n",
       "      <td>3.0</td>\n",
       "    </tr>\n",
       "    <tr>\n",
       "      <th>1</th>\n",
       "      <td>1010120</td>\n",
       "      <td>2016</td>\n",
       "      <td>491</td>\n",
       "      <td>86</td>\n",
       "      <td>84</td>\n",
       "      <td>23</td>\n",
       "      <td>252.0</td>\n",
       "      <td>78.0</td>\n",
       "      <td>17.0</td>\n",
       "    </tr>\n",
       "    <tr>\n",
       "      <th>2</th>\n",
       "      <td>1010130</td>\n",
       "      <td>2016</td>\n",
       "      <td>1197</td>\n",
       "      <td>176</td>\n",
       "      <td>163</td>\n",
       "      <td>46</td>\n",
       "      <td>588.0</td>\n",
       "      <td>170.0</td>\n",
       "      <td>24.0</td>\n",
       "    </tr>\n",
       "    <tr>\n",
       "      <th>3</th>\n",
       "      <td>1010140</td>\n",
       "      <td>2016</td>\n",
       "      <td>1537</td>\n",
       "      <td>276</td>\n",
       "      <td>261</td>\n",
       "      <td>67</td>\n",
       "      <td>851.0</td>\n",
       "      <td>244.0</td>\n",
       "      <td>34.0</td>\n",
       "    </tr>\n",
       "    <tr>\n",
       "      <th>4</th>\n",
       "      <td>1010201</td>\n",
       "      <td>2016</td>\n",
       "      <td>243</td>\n",
       "      <td>52</td>\n",
       "      <td>47</td>\n",
       "      <td>12</td>\n",
       "      <td>145.0</td>\n",
       "      <td>45.0</td>\n",
       "      <td>5.0</td>\n",
       "    </tr>\n",
       "  </tbody>\n",
       "</table>\n",
       "</div>"
      ],
      "text/plain": [
       "   BASKOD2010  year  Antalpersoner  Antal personer med bil  \\\n",
       "0     1010110  2016             24                       3   \n",
       "1     1010120  2016            491                      86   \n",
       "2     1010130  2016           1197                     176   \n",
       "3     1010140  2016           1537                     276   \n",
       "4     1010201  2016            243                      52   \n",
       "\n",
       "   Antal bilar i trafik  Antal avställda bilar  Antalhushåll  \\\n",
       "0                     3                      0          14.0   \n",
       "1                    84                     23         252.0   \n",
       "2                   163                     46         588.0   \n",
       "3                   261                     67         851.0   \n",
       "4                    47                     12         145.0   \n",
       "\n",
       "   Antalhushållmed bil  Antal hushållmed fler änen bil  \n",
       "0                  0.0                             3.0  \n",
       "1                 78.0                            17.0  \n",
       "2                170.0                            24.0  \n",
       "3                244.0                            34.0  \n",
       "4                 45.0                             5.0  "
      ]
     },
     "execution_count": 38,
     "metadata": {},
     "output_type": "execute_result"
    }
   ],
   "source": [
    "df.head()"
   ]
  },
  {
   "cell_type": "code",
   "execution_count": 39,
   "metadata": {},
   "outputs": [],
   "source": [
    "df = baskod2010tobasomrade(df, n_numeric=7)#.drop(columns=['BASKOD2010', 'BASKOD2000'])"
   ]
  },
  {
   "cell_type": "code",
   "execution_count": 40,
   "metadata": {},
   "outputs": [
    {
     "data": {
      "text/html": [
       "<div>\n",
       "<style scoped>\n",
       "    .dataframe tbody tr th:only-of-type {\n",
       "        vertical-align: middle;\n",
       "    }\n",
       "\n",
       "    .dataframe tbody tr th {\n",
       "        vertical-align: top;\n",
       "    }\n",
       "\n",
       "    .dataframe thead th {\n",
       "        text-align: right;\n",
       "    }\n",
       "</style>\n",
       "<table border=\"1\" class=\"dataframe\">\n",
       "  <thead>\n",
       "    <tr style=\"text-align: right;\">\n",
       "      <th></th>\n",
       "      <th>year</th>\n",
       "      <th>basomrade</th>\n",
       "      <th>Antalpersoner</th>\n",
       "      <th>Antal personer med bil</th>\n",
       "      <th>Antal bilar i trafik</th>\n",
       "      <th>Antal avställda bilar</th>\n",
       "      <th>Antalhushåll</th>\n",
       "      <th>Antalhushållmed bil</th>\n",
       "      <th>Antal hushållmed fler änen bil</th>\n",
       "    </tr>\n",
       "  </thead>\n",
       "  <tbody>\n",
       "    <tr>\n",
       "      <th>0</th>\n",
       "      <td>2015</td>\n",
       "      <td>1010120_skeppsbron</td>\n",
       "      <td>475</td>\n",
       "      <td>81</td>\n",
       "      <td>76</td>\n",
       "      <td>21</td>\n",
       "      <td>246.0</td>\n",
       "      <td>76.0</td>\n",
       "      <td>14.0</td>\n",
       "    </tr>\n",
       "    <tr>\n",
       "      <th>1</th>\n",
       "      <td>2015</td>\n",
       "      <td>1010130_munkbron</td>\n",
       "      <td>1179</td>\n",
       "      <td>165</td>\n",
       "      <td>145</td>\n",
       "      <td>44</td>\n",
       "      <td>595.0</td>\n",
       "      <td>163.0</td>\n",
       "      <td>21.0</td>\n",
       "    </tr>\n",
       "    <tr>\n",
       "      <th>2</th>\n",
       "      <td>2015</td>\n",
       "      <td>1010140_stortorget</td>\n",
       "      <td>1581</td>\n",
       "      <td>276</td>\n",
       "      <td>267</td>\n",
       "      <td>60</td>\n",
       "      <td>853.0</td>\n",
       "      <td>247.0</td>\n",
       "      <td>37.0</td>\n",
       "    </tr>\n",
       "    <tr>\n",
       "      <th>3</th>\n",
       "      <td>2015</td>\n",
       "      <td>1010201_centralstationen_n</td>\n",
       "      <td>238</td>\n",
       "      <td>55</td>\n",
       "      <td>51</td>\n",
       "      <td>17</td>\n",
       "      <td>151.0</td>\n",
       "      <td>48.0</td>\n",
       "      <td>4.0</td>\n",
       "    </tr>\n",
       "    <tr>\n",
       "      <th>4</th>\n",
       "      <td>2015</td>\n",
       "      <td>1010220_klara_kyrka</td>\n",
       "      <td>138</td>\n",
       "      <td>31</td>\n",
       "      <td>29</td>\n",
       "      <td>9</td>\n",
       "      <td>78.0</td>\n",
       "      <td>29.0</td>\n",
       "      <td>3.0</td>\n",
       "    </tr>\n",
       "  </tbody>\n",
       "</table>\n",
       "</div>"
      ],
      "text/plain": [
       "   year                   basomrade  Antalpersoner  Antal personer med bil  \\\n",
       "0  2015          1010120_skeppsbron            475                      81   \n",
       "1  2015            1010130_munkbron           1179                     165   \n",
       "2  2015          1010140_stortorget           1581                     276   \n",
       "3  2015  1010201_centralstationen_n            238                      55   \n",
       "4  2015         1010220_klara_kyrka            138                      31   \n",
       "\n",
       "   Antal bilar i trafik  Antal avställda bilar  Antalhushåll  \\\n",
       "0                    76                     21         246.0   \n",
       "1                   145                     44         595.0   \n",
       "2                   267                     60         853.0   \n",
       "3                    51                     17         151.0   \n",
       "4                    29                      9          78.0   \n",
       "\n",
       "   Antalhushållmed bil  Antal hushållmed fler änen bil  \n",
       "0                 76.0                            14.0  \n",
       "1                163.0                            21.0  \n",
       "2                247.0                            37.0  \n",
       "3                 48.0                             4.0  \n",
       "4                 29.0                             3.0  "
      ]
     },
     "execution_count": 40,
     "metadata": {},
     "output_type": "execute_result"
    }
   ],
   "source": [
    "df.head()"
   ]
  },
  {
   "cell_type": "code",
   "execution_count": 41,
   "metadata": {},
   "outputs": [
    {
     "data": {
      "text/html": [
       "<div>\n",
       "<style scoped>\n",
       "    .dataframe tbody tr th:only-of-type {\n",
       "        vertical-align: middle;\n",
       "    }\n",
       "\n",
       "    .dataframe tbody tr th {\n",
       "        vertical-align: top;\n",
       "    }\n",
       "\n",
       "    .dataframe thead th {\n",
       "        text-align: right;\n",
       "    }\n",
       "</style>\n",
       "<table border=\"1\" class=\"dataframe\">\n",
       "  <thead>\n",
       "    <tr style=\"text-align: right;\">\n",
       "      <th></th>\n",
       "      <th>year</th>\n",
       "      <th>Antalpersoner</th>\n",
       "      <th>Antal personer med bil</th>\n",
       "      <th>Antal bilar i trafik</th>\n",
       "      <th>Antal avställda bilar</th>\n",
       "      <th>Antalhushåll</th>\n",
       "      <th>Antalhushållmed bil</th>\n",
       "      <th>Antal hushållmed fler änen bil</th>\n",
       "    </tr>\n",
       "  </thead>\n",
       "  <tbody>\n",
       "    <tr>\n",
       "      <th>count</th>\n",
       "      <td>1085.0</td>\n",
       "      <td>1085.000000</td>\n",
       "      <td>1085.000000</td>\n",
       "      <td>1085.000000</td>\n",
       "      <td>1085.000000</td>\n",
       "      <td>1085.000000</td>\n",
       "      <td>1085.000000</td>\n",
       "      <td>1085.000000</td>\n",
       "    </tr>\n",
       "    <tr>\n",
       "      <th>mean</th>\n",
       "      <td>2017.0</td>\n",
       "      <td>2052.117051</td>\n",
       "      <td>514.623963</td>\n",
       "      <td>552.588018</td>\n",
       "      <td>99.134562</td>\n",
       "      <td>895.339171</td>\n",
       "      <td>456.220276</td>\n",
       "      <td>113.713364</td>\n",
       "    </tr>\n",
       "    <tr>\n",
       "      <th>std</th>\n",
       "      <td>0.0</td>\n",
       "      <td>1695.333916</td>\n",
       "      <td>374.486407</td>\n",
       "      <td>403.855819</td>\n",
       "      <td>86.451031</td>\n",
       "      <td>792.655051</td>\n",
       "      <td>335.185660</td>\n",
       "      <td>101.243395</td>\n",
       "    </tr>\n",
       "    <tr>\n",
       "      <th>min</th>\n",
       "      <td>2017.0</td>\n",
       "      <td>52.000000</td>\n",
       "      <td>10.000000</td>\n",
       "      <td>9.000000</td>\n",
       "      <td>0.000000</td>\n",
       "      <td>23.000000</td>\n",
       "      <td>8.000000</td>\n",
       "      <td>0.000000</td>\n",
       "    </tr>\n",
       "    <tr>\n",
       "      <th>25%</th>\n",
       "      <td>2017.0</td>\n",
       "      <td>832.000000</td>\n",
       "      <td>236.000000</td>\n",
       "      <td>251.000000</td>\n",
       "      <td>40.000000</td>\n",
       "      <td>338.000000</td>\n",
       "      <td>201.000000</td>\n",
       "      <td>41.000000</td>\n",
       "    </tr>\n",
       "    <tr>\n",
       "      <th>50%</th>\n",
       "      <td>2017.0</td>\n",
       "      <td>1617.000000</td>\n",
       "      <td>420.000000</td>\n",
       "      <td>453.000000</td>\n",
       "      <td>75.000000</td>\n",
       "      <td>665.000000</td>\n",
       "      <td>378.000000</td>\n",
       "      <td>83.000000</td>\n",
       "    </tr>\n",
       "    <tr>\n",
       "      <th>75%</th>\n",
       "      <td>2017.0</td>\n",
       "      <td>2636.000000</td>\n",
       "      <td>717.000000</td>\n",
       "      <td>778.000000</td>\n",
       "      <td>133.000000</td>\n",
       "      <td>1163.000000</td>\n",
       "      <td>629.000000</td>\n",
       "      <td>154.000000</td>\n",
       "    </tr>\n",
       "    <tr>\n",
       "      <th>max</th>\n",
       "      <td>2017.0</td>\n",
       "      <td>9735.000000</td>\n",
       "      <td>2556.000000</td>\n",
       "      <td>3028.000000</td>\n",
       "      <td>703.000000</td>\n",
       "      <td>5026.000000</td>\n",
       "      <td>2208.000000</td>\n",
       "      <td>860.000000</td>\n",
       "    </tr>\n",
       "  </tbody>\n",
       "</table>\n",
       "</div>"
      ],
      "text/plain": [
       "         year  Antalpersoner  Antal personer med bil  Antal bilar i trafik  \\\n",
       "count  1085.0    1085.000000             1085.000000           1085.000000   \n",
       "mean   2017.0    2052.117051              514.623963            552.588018   \n",
       "std       0.0    1695.333916              374.486407            403.855819   \n",
       "min    2017.0      52.000000               10.000000              9.000000   \n",
       "25%    2017.0     832.000000              236.000000            251.000000   \n",
       "50%    2017.0    1617.000000              420.000000            453.000000   \n",
       "75%    2017.0    2636.000000              717.000000            778.000000   \n",
       "max    2017.0    9735.000000             2556.000000           3028.000000   \n",
       "\n",
       "       Antal avställda bilar  Antalhushåll  Antalhushållmed bil  \\\n",
       "count            1085.000000   1085.000000          1085.000000   \n",
       "mean               99.134562    895.339171           456.220276   \n",
       "std                86.451031    792.655051           335.185660   \n",
       "min                 0.000000     23.000000             8.000000   \n",
       "25%                40.000000    338.000000           201.000000   \n",
       "50%                75.000000    665.000000           378.000000   \n",
       "75%               133.000000   1163.000000           629.000000   \n",
       "max               703.000000   5026.000000          2208.000000   \n",
       "\n",
       "       Antal hushållmed fler änen bil  \n",
       "count                     1085.000000  \n",
       "mean                       113.713364  \n",
       "std                        101.243395  \n",
       "min                          0.000000  \n",
       "25%                         41.000000  \n",
       "50%                         83.000000  \n",
       "75%                        154.000000  \n",
       "max                        860.000000  "
      ]
     },
     "execution_count": 41,
     "metadata": {},
     "output_type": "execute_result"
    }
   ],
   "source": [
    "df[df.year == 2017].describe()"
   ]
  },
  {
   "cell_type": "markdown",
   "metadata": {},
   "source": [
    "# Antal bilar"
   ]
  },
  {
   "cell_type": "code",
   "execution_count": 42,
   "metadata": {},
   "outputs": [],
   "source": [
    "concept = 'cars_total'"
   ]
  },
  {
   "cell_type": "code",
   "execution_count": 43,
   "metadata": {},
   "outputs": [],
   "source": [
    "subset = df\n",
    "subset['value'] = subset['Antal bilar i trafik'] + subset['Antal avställda bilar']\n",
    "subset = subset[['value', 'year', 'basomrade']]"
   ]
  },
  {
   "cell_type": "code",
   "execution_count": 44,
   "metadata": {},
   "outputs": [],
   "source": [
    "output = appendNewDatapoints(concept, subset, new=True)"
   ]
  },
  {
   "cell_type": "code",
   "execution_count": 45,
   "metadata": {},
   "outputs": [
    {
     "data": {
      "image/png": "[encoded data removed]",
      "text/plain": [
       "<Figure size 432x288 with 1 Axes>"
      ]
     },
     "metadata": {},
     "output_type": "display_data"
    }
   ],
   "source": [
    "plotcombined(output, concept)"
   ]
  },
  {
   "cell_type": "markdown",
   "metadata": {},
   "source": [
    "# Antal hushåll med bil"
   ]
  },
  {
   "cell_type": "code",
   "execution_count": 46,
   "metadata": {},
   "outputs": [],
   "source": [
    "concept = 'cars_household_w_cars_total'"
   ]
  },
  {
   "cell_type": "code",
   "execution_count": 47,
   "metadata": {},
   "outputs": [],
   "source": [
    "column = 'Antalhushållmed bil'\n",
    "subset = df[[column, 'year', 'basomrade']]\n",
    "subset = subset.rename(columns={\n",
    "    column: 'value'\n",
    "})"
   ]
  },
  {
   "cell_type": "code",
   "execution_count": 48,
   "metadata": {},
   "outputs": [],
   "source": [
    "output = appendNewDatapoints(concept, subset, new=True)"
   ]
  },
  {
   "cell_type": "code",
   "execution_count": 49,
   "metadata": {},
   "outputs": [
    {
     "data": {
      "image/png": "[encoded data removed]",
      "text/plain": [
       "<Figure size 432x288 with 1 Axes>"
      ]
     },
     "metadata": {},
     "output_type": "display_data"
    }
   ],
   "source": [
    "plotcombined(output, concept)"
   ]
  },
  {
   "cell_type": "markdown",
   "metadata": {},
   "source": [
    "# Andel hushåll med bil"
   ]
  },
  {
   "cell_type": "code",
   "execution_count": 50,
   "metadata": {},
   "outputs": [],
   "source": [
    "concept = 'cars_household_w_cars_share'"
   ]
  },
  {
   "cell_type": "code",
   "execution_count": 51,
   "metadata": {},
   "outputs": [],
   "source": [
    "subset = df\n",
    "subset['value'] = subset['Antalhushållmed bil'] / subset['Antalhushåll']\n",
    "subset['value'] = subset['value'].round(3)\n",
    "\n",
    "subset = subset[['value', 'year', 'basomrade']]"
   ]
  },
  {
   "cell_type": "code",
   "execution_count": 52,
   "metadata": {},
   "outputs": [],
   "source": [
    "output = appendNewDatapoints(concept, subset, new=True)"
   ]
  },
  {
   "cell_type": "code",
   "execution_count": 53,
   "metadata": {},
   "outputs": [
    {
     "data": {
      "image/png": "[encoded data removed]",
      "text/plain": [
       "<Figure size 432x288 with 1 Axes>"
      ]
     },
     "metadata": {},
     "output_type": "display_data"
    }
   ],
   "source": [
    "plotcombined(output, concept)"
   ]
  },
  {
   "cell_type": "markdown",
   "metadata": {},
   "source": [
    "# Antal bilar per hushåll"
   ]
  },
  {
   "cell_type": "code",
   "execution_count": 54,
   "metadata": {},
   "outputs": [],
   "source": [
    "concept = 'cars_per_household'"
   ]
  },
  {
   "cell_type": "code",
   "execution_count": 55,
   "metadata": {},
   "outputs": [],
   "source": [
    "subset = df\n",
    "subset['n_bilar'] = subset['Antal bilar i trafik'] + subset['Antal avställda bilar']\n",
    "subset['value'] = subset['n_bilar'] / subset['Antalhushåll']\n",
    "subset['value'] = subset['value'].round(2)\n",
    "\n",
    "subset = subset[['value', 'year', 'basomrade']]"
   ]
  },
  {
   "cell_type": "code",
   "execution_count": 56,
   "metadata": {},
   "outputs": [],
   "source": [
    "output = appendNewDatapoints(concept, subset, new=True)"
   ]
  },
  {
   "cell_type": "code",
   "execution_count": 57,
   "metadata": {},
   "outputs": [
    {
     "data": {
      "image/png": "[encoded data removed]",
      "text/plain": [
       "<Figure size 432x288 with 1 Axes>"
      ]
     },
     "metadata": {},
     "output_type": "display_data"
    }
   ],
   "source": [
    "plotcombined(output, concept)"
   ]
  }
 ],
 "metadata": {
  "kernelspec": {
   "display_name": "Python 3",
   "language": "python",
   "name": "python3"
  },
  "language_info": {
   "codemirror_mode": {
    "name": "ipython",
    "version": 3
   },
   "file_extension": ".py",
   "mimetype": "text/x-python",
   "name": "python",
   "nbconvert_exporter": "python",
   "pygments_lexer": "ipython3",
   "version": "3.6.5"
  }
 },
 "nbformat": 4,
 "nbformat_minor": 2
}
