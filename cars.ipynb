{
 "cells": [
  {
   "cell_type": "markdown",
   "metadata": {},
   "source": [
    "# Bilar"
   ]
  },
  {
   "cell_type": "code",
   "execution_count": 1,
   "metadata": {},
   "outputs": [],
   "source": [
    "import os\n",
    "import glob\n",
    "\n",
    "import numpy as np\n",
    "import pandas as pd\n",
    "\n",
    "%matplotlib inline"
   ]
  },
  {
   "cell_type": "code",
   "execution_count": 2,
   "metadata": {},
   "outputs": [],
   "source": [
    "from helpers import *"
   ]
  },
  {
   "cell_type": "markdown",
   "metadata": {},
   "source": [
    "# Data prep"
   ]
  },
  {
   "cell_type": "markdown",
   "metadata": {},
   "source": [
    "Input CSV filerna har headers som sträcker sig över flera rader. Läser här in en av dem för att konkatenera dem till en lista. När filerna läses in skippas kolumnerna och ersätts med den här listan."
   ]
  },
  {
   "cell_type": "code",
   "execution_count": 3,
   "metadata": {},
   "outputs": [
    {
     "name": "stdout",
     "output_type": "stream",
     "text": [
      "14\n",
      "['Basområde', 'Antalpersoner', 'Antal personer med bil', 'Därav leasing', 'Antal bilar i trafik', 'Därav leasing', 'Antal avställda bilar', 'Därav leasing', 'Antal personersom skattatför förmånsbil', 'Antal personersom skattatmen ej skattatför förmånsbil', 'Antalhushåll', 'Antalhushållmed bil', 'Antal hushållmed fler änen bil', 'year']\n"
     ]
    }
   ],
   "source": [
    "col_df = pd.read_csv('../indata/supermappen/Tabell17AHH_Bilbas2016.csv', encoding='latin1' , sep=';', decimal=',', header=None, nrows=4)\n",
    "catcols = [col_df[col_df.columns[column]].str.strip().str.cat() for column in col_df.columns ]\n",
    "catcols.append('year')\n",
    "print(len(catcols))\n",
    "print(catcols)"
   ]
  },
  {
   "cell_type": "code",
   "execution_count": 4,
   "metadata": {},
   "outputs": [],
   "source": [
    "files = glob.glob('../indata/supermappen/*Bilbas*.csv')"
   ]
  },
  {
   "cell_type": "code",
   "execution_count": 5,
   "metadata": {},
   "outputs": [
    {
     "data": {
      "text/plain": [
       "['../indata/supermappen/Tabell17AHH_Bilbas2016.csv',\n",
       " '../indata/supermappen/Tabell17AHH_Bilbas2015.csv',\n",
       " '../indata/supermappen/Tabell17AHH_Bilbas2017.csv']"
      ]
     },
     "execution_count": 5,
     "metadata": {},
     "output_type": "execute_result"
    }
   ],
   "source": [
    "files"
   ]
  },
  {
   "cell_type": "code",
   "execution_count": 6,
   "metadata": {},
   "outputs": [],
   "source": [
    "def readBil(file):\n",
    "    df = pd.read_csv(file, encoding='latin1' , sep=';', decimal=',', header=None, skiprows=4)\n",
    "    df['year'] = pd.to_datetime(getYear(file))\n",
    "    df['year'] = df['year'].apply(lambda t: t.year)\n",
    "    df.columns = catcols\n",
    "    df = df.rename(columns={'Basområde': 'BASKOD2010'})\n",
    "\n",
    "    \n",
    "    return df"
   ]
  },
  {
   "cell_type": "markdown",
   "metadata": {},
   "source": [
    "Läs in alla filer och slå ihop till en DataFrame"
   ]
  },
  {
   "cell_type": "code",
   "execution_count": 7,
   "metadata": {},
   "outputs": [],
   "source": [
    "df = pd.concat(list(map(readBil, files)))"
   ]
  },
  {
   "cell_type": "code",
   "execution_count": 8,
   "metadata": {},
   "outputs": [],
   "source": [
    "df = baskod2010tobasomrade(df).drop(columns=['BASKOD2010', 'BASKOD2000'])"
   ]
  },
  {
   "cell_type": "markdown",
   "metadata": {},
   "source": [
    "Plocka ut relevanta kolumner"
   ]
  },
  {
   "cell_type": "code",
   "execution_count": 9,
   "metadata": {},
   "outputs": [],
   "source": [
    "df = df[['basomrade', 'year', 'Antalpersoner', 'Antal personer med bil', 'Antal bilar i trafik', 'Antal avställda bilar', 'Antalhushåll', 'Antalhushållmed bil', 'Antal hushållmed fler änen bil']]"
   ]
  },
  {
   "cell_type": "code",
   "execution_count": 10,
   "metadata": {},
   "outputs": [
    {
     "data": {
      "text/html": [
       "<div>\n",
       "<style scoped>\n",
       "    .dataframe tbody tr th:only-of-type {\n",
       "        vertical-align: middle;\n",
       "    }\n",
       "\n",
       "    .dataframe tbody tr th {\n",
       "        vertical-align: top;\n",
       "    }\n",
       "\n",
       "    .dataframe thead th {\n",
       "        text-align: right;\n",
       "    }\n",
       "</style>\n",
       "<table border=\"1\" class=\"dataframe\">\n",
       "  <thead>\n",
       "    <tr style=\"text-align: right;\">\n",
       "      <th></th>\n",
       "      <th>basomrade</th>\n",
       "      <th>year</th>\n",
       "      <th>Antalpersoner</th>\n",
       "      <th>Antal personer med bil</th>\n",
       "      <th>Antal bilar i trafik</th>\n",
       "      <th>Antal avställda bilar</th>\n",
       "      <th>Antalhushåll</th>\n",
       "      <th>Antalhushållmed bil</th>\n",
       "      <th>Antal hushållmed fler änen bil</th>\n",
       "    </tr>\n",
       "  </thead>\n",
       "  <tbody>\n",
       "    <tr>\n",
       "      <th>1</th>\n",
       "      <td>1010120_skeppsbron</td>\n",
       "      <td>2016</td>\n",
       "      <td>491</td>\n",
       "      <td>86</td>\n",
       "      <td>84</td>\n",
       "      <td>23</td>\n",
       "      <td>252.0</td>\n",
       "      <td>78.0</td>\n",
       "      <td>17.0</td>\n",
       "    </tr>\n",
       "    <tr>\n",
       "      <th>2</th>\n",
       "      <td>1010130_munkbron</td>\n",
       "      <td>2016</td>\n",
       "      <td>1197</td>\n",
       "      <td>176</td>\n",
       "      <td>163</td>\n",
       "      <td>46</td>\n",
       "      <td>588.0</td>\n",
       "      <td>170.0</td>\n",
       "      <td>24.0</td>\n",
       "    </tr>\n",
       "    <tr>\n",
       "      <th>3</th>\n",
       "      <td>1010140_stortorget</td>\n",
       "      <td>2016</td>\n",
       "      <td>1537</td>\n",
       "      <td>276</td>\n",
       "      <td>261</td>\n",
       "      <td>67</td>\n",
       "      <td>851.0</td>\n",
       "      <td>244.0</td>\n",
       "      <td>34.0</td>\n",
       "    </tr>\n",
       "    <tr>\n",
       "      <th>4</th>\n",
       "      <td>1010201_centralstationen_n</td>\n",
       "      <td>2016</td>\n",
       "      <td>243</td>\n",
       "      <td>52</td>\n",
       "      <td>47</td>\n",
       "      <td>12</td>\n",
       "      <td>145.0</td>\n",
       "      <td>45.0</td>\n",
       "      <td>5.0</td>\n",
       "    </tr>\n",
       "    <tr>\n",
       "      <th>7</th>\n",
       "      <td>1010220_klara_kyrka</td>\n",
       "      <td>2016</td>\n",
       "      <td>139</td>\n",
       "      <td>30</td>\n",
       "      <td>27</td>\n",
       "      <td>7</td>\n",
       "      <td>79.0</td>\n",
       "      <td>31.0</td>\n",
       "      <td>3.0</td>\n",
       "    </tr>\n",
       "  </tbody>\n",
       "</table>\n",
       "</div>"
      ],
      "text/plain": [
       "                    basomrade  year  Antalpersoner  Antal personer med bil  \\\n",
       "1          1010120_skeppsbron  2016            491                      86   \n",
       "2            1010130_munkbron  2016           1197                     176   \n",
       "3          1010140_stortorget  2016           1537                     276   \n",
       "4  1010201_centralstationen_n  2016            243                      52   \n",
       "7         1010220_klara_kyrka  2016            139                      30   \n",
       "\n",
       "   Antal bilar i trafik  Antal avställda bilar  Antalhushåll  \\\n",
       "1                    84                     23         252.0   \n",
       "2                   163                     46         588.0   \n",
       "3                   261                     67         851.0   \n",
       "4                    47                     12         145.0   \n",
       "7                    27                      7          79.0   \n",
       "\n",
       "   Antalhushållmed bil  Antal hushållmed fler änen bil  \n",
       "1                 78.0                            17.0  \n",
       "2                170.0                            24.0  \n",
       "3                244.0                            34.0  \n",
       "4                 45.0                             5.0  \n",
       "7                 31.0                             3.0  "
      ]
     },
     "execution_count": 10,
     "metadata": {},
     "output_type": "execute_result"
    }
   ],
   "source": [
    "df.head()"
   ]
  },
  {
   "cell_type": "code",
   "execution_count": 11,
   "metadata": {},
   "outputs": [
    {
     "data": {
      "text/html": [
       "<div>\n",
       "<style scoped>\n",
       "    .dataframe tbody tr th:only-of-type {\n",
       "        vertical-align: middle;\n",
       "    }\n",
       "\n",
       "    .dataframe tbody tr th {\n",
       "        vertical-align: top;\n",
       "    }\n",
       "\n",
       "    .dataframe thead th {\n",
       "        text-align: right;\n",
       "    }\n",
       "</style>\n",
       "<table border=\"1\" class=\"dataframe\">\n",
       "  <thead>\n",
       "    <tr style=\"text-align: right;\">\n",
       "      <th></th>\n",
       "      <th>year</th>\n",
       "      <th>Antalpersoner</th>\n",
       "      <th>Antal personer med bil</th>\n",
       "      <th>Antal bilar i trafik</th>\n",
       "      <th>Antal avställda bilar</th>\n",
       "      <th>Antalhushåll</th>\n",
       "      <th>Antalhushållmed bil</th>\n",
       "      <th>Antal hushållmed fler änen bil</th>\n",
       "    </tr>\n",
       "  </thead>\n",
       "  <tbody>\n",
       "    <tr>\n",
       "      <th>count</th>\n",
       "      <td>1136.0</td>\n",
       "      <td>1136.000000</td>\n",
       "      <td>1136.000000</td>\n",
       "      <td>1136.000000</td>\n",
       "      <td>1136.000000</td>\n",
       "      <td>1136.000000</td>\n",
       "      <td>1136.000000</td>\n",
       "      <td>1136.000000</td>\n",
       "    </tr>\n",
       "    <tr>\n",
       "      <th>mean</th>\n",
       "      <td>2017.0</td>\n",
       "      <td>1960.288732</td>\n",
       "      <td>491.529930</td>\n",
       "      <td>527.789613</td>\n",
       "      <td>94.683979</td>\n",
       "      <td>855.288732</td>\n",
       "      <td>435.748239</td>\n",
       "      <td>108.608275</td>\n",
       "    </tr>\n",
       "    <tr>\n",
       "      <th>std</th>\n",
       "      <td>0.0</td>\n",
       "      <td>1651.504874</td>\n",
       "      <td>368.465425</td>\n",
       "      <td>397.060038</td>\n",
       "      <td>84.364667</td>\n",
       "      <td>780.161201</td>\n",
       "      <td>329.857839</td>\n",
       "      <td>98.598973</td>\n",
       "    </tr>\n",
       "    <tr>\n",
       "      <th>min</th>\n",
       "      <td>2017.0</td>\n",
       "      <td>0.000000</td>\n",
       "      <td>0.000000</td>\n",
       "      <td>0.000000</td>\n",
       "      <td>0.000000</td>\n",
       "      <td>0.000000</td>\n",
       "      <td>0.000000</td>\n",
       "      <td>0.000000</td>\n",
       "    </tr>\n",
       "    <tr>\n",
       "      <th>25%</th>\n",
       "      <td>2017.0</td>\n",
       "      <td>768.000000</td>\n",
       "      <td>219.000000</td>\n",
       "      <td>235.000000</td>\n",
       "      <td>37.000000</td>\n",
       "      <td>314.000000</td>\n",
       "      <td>188.750000</td>\n",
       "      <td>38.750000</td>\n",
       "    </tr>\n",
       "    <tr>\n",
       "      <th>50%</th>\n",
       "      <td>2017.0</td>\n",
       "      <td>1523.500000</td>\n",
       "      <td>404.000000</td>\n",
       "      <td>430.000000</td>\n",
       "      <td>71.000000</td>\n",
       "      <td>630.500000</td>\n",
       "      <td>357.500000</td>\n",
       "      <td>80.000000</td>\n",
       "    </tr>\n",
       "    <tr>\n",
       "      <th>75%</th>\n",
       "      <td>2017.0</td>\n",
       "      <td>2613.250000</td>\n",
       "      <td>687.750000</td>\n",
       "      <td>741.500000</td>\n",
       "      <td>130.000000</td>\n",
       "      <td>1131.000000</td>\n",
       "      <td>605.000000</td>\n",
       "      <td>146.000000</td>\n",
       "    </tr>\n",
       "    <tr>\n",
       "      <th>max</th>\n",
       "      <td>2017.0</td>\n",
       "      <td>9684.000000</td>\n",
       "      <td>2556.000000</td>\n",
       "      <td>3028.000000</td>\n",
       "      <td>703.000000</td>\n",
       "      <td>5026.000000</td>\n",
       "      <td>2208.000000</td>\n",
       "      <td>860.000000</td>\n",
       "    </tr>\n",
       "  </tbody>\n",
       "</table>\n",
       "</div>"
      ],
      "text/plain": [
       "         year  Antalpersoner  Antal personer med bil  Antal bilar i trafik  \\\n",
       "count  1136.0    1136.000000             1136.000000           1136.000000   \n",
       "mean   2017.0    1960.288732              491.529930            527.789613   \n",
       "std       0.0    1651.504874              368.465425            397.060038   \n",
       "min    2017.0       0.000000                0.000000              0.000000   \n",
       "25%    2017.0     768.000000              219.000000            235.000000   \n",
       "50%    2017.0    1523.500000              404.000000            430.000000   \n",
       "75%    2017.0    2613.250000              687.750000            741.500000   \n",
       "max    2017.0    9684.000000             2556.000000           3028.000000   \n",
       "\n",
       "       Antal avställda bilar  Antalhushåll  Antalhushållmed bil  \\\n",
       "count            1136.000000   1136.000000          1136.000000   \n",
       "mean               94.683979    855.288732           435.748239   \n",
       "std                84.364667    780.161201           329.857839   \n",
       "min                 0.000000      0.000000             0.000000   \n",
       "25%                37.000000    314.000000           188.750000   \n",
       "50%                71.000000    630.500000           357.500000   \n",
       "75%               130.000000   1131.000000           605.000000   \n",
       "max               703.000000   5026.000000          2208.000000   \n",
       "\n",
       "       Antal hushållmed fler änen bil  \n",
       "count                     1136.000000  \n",
       "mean                       108.608275  \n",
       "std                         98.598973  \n",
       "min                          0.000000  \n",
       "25%                         38.750000  \n",
       "50%                         80.000000  \n",
       "75%                        146.000000  \n",
       "max                        860.000000  "
      ]
     },
     "execution_count": 11,
     "metadata": {},
     "output_type": "execute_result"
    }
   ],
   "source": [
    "df[df.year == 2017].describe()"
   ]
  },
  {
   "cell_type": "markdown",
   "metadata": {},
   "source": [
    "# Antal bilar"
   ]
  },
  {
   "cell_type": "code",
   "execution_count": 12,
   "metadata": {},
   "outputs": [],
   "source": [
    "concept = 'cars_total'"
   ]
  },
  {
   "cell_type": "code",
   "execution_count": 13,
   "metadata": {},
   "outputs": [],
   "source": [
    "subset = df\n",
    "subset['value'] = subset['Antal bilar i trafik'] + subset['Antal avställda bilar']\n",
    "subset = subset[['value', 'year', 'basomrade']]"
   ]
  },
  {
   "cell_type": "code",
   "execution_count": 14,
   "metadata": {},
   "outputs": [],
   "source": [
    "output = appendNewDatapoints(concept, subset, new=True)"
   ]
  },
  {
   "cell_type": "code",
   "execution_count": 15,
   "metadata": {},
   "outputs": [
    {
     "data": {
      "image/png": "[encoded data removed]",
      "text/plain": [
       "<Figure size 432x288 with 1 Axes>"
      ]
     },
     "metadata": {},
     "output_type": "display_data"
    }
   ],
   "source": [
    "plotcombined(output, concept)"
   ]
  },
  {
   "cell_type": "markdown",
   "metadata": {},
   "source": [
    "# Antal hushåll med bil"
   ]
  },
  {
   "cell_type": "code",
   "execution_count": 16,
   "metadata": {},
   "outputs": [],
   "source": [
    "concept = 'cars_household_w_cars_total'"
   ]
  },
  {
   "cell_type": "code",
   "execution_count": 17,
   "metadata": {},
   "outputs": [],
   "source": [
    "column = 'Antalhushållmed bil'\n",
    "subset = df[[column, 'year', 'basomrade']]\n",
    "subset = subset.rename(columns={\n",
    "    column: 'value'\n",
    "})"
   ]
  },
  {
   "cell_type": "code",
   "execution_count": 18,
   "metadata": {},
   "outputs": [],
   "source": [
    "output = appendNewDatapoints(concept, subset, new=True)"
   ]
  },
  {
   "cell_type": "code",
   "execution_count": 19,
   "metadata": {},
   "outputs": [
    {
     "data": {
      "image/png": "[encoded data removed]",
      "text/plain": [
       "<Figure size 432x288 with 1 Axes>"
      ]
     },
     "metadata": {},
     "output_type": "display_data"
    }
   ],
   "source": [
    "plotcombined(output, concept)"
   ]
  },
  {
   "cell_type": "markdown",
   "metadata": {},
   "source": [
    "# Andel hushåll med bil"
   ]
  },
  {
   "cell_type": "code",
   "execution_count": 20,
   "metadata": {},
   "outputs": [],
   "source": [
    "concept = 'cars_household_w_cars_share'"
   ]
  },
  {
   "cell_type": "code",
   "execution_count": 21,
   "metadata": {},
   "outputs": [],
   "source": [
    "subset = df\n",
    "subset['value'] = subset['Antalhushållmed bil'] / subset['Antalhushåll']\n",
    "subset['value'] = subset['value'].round(3)\n",
    "\n",
    "subset = subset[['value', 'year', 'basomrade']]"
   ]
  },
  {
   "cell_type": "code",
   "execution_count": 22,
   "metadata": {},
   "outputs": [],
   "source": [
    "output = appendNewDatapoints(concept, subset, new=True)"
   ]
  },
  {
   "cell_type": "code",
   "execution_count": 23,
   "metadata": {},
   "outputs": [
    {
     "data": {
      "image/png": "[encoded data removed]",
      "text/plain": [
       "<Figure size 432x288 with 1 Axes>"
      ]
     },
     "metadata": {},
     "output_type": "display_data"
    }
   ],
   "source": [
    "plotcombined(output, concept)"
   ]
  },
  {
   "cell_type": "markdown",
   "metadata": {},
   "source": [
    "# Antal bilar per hushåll"
   ]
  },
  {
   "cell_type": "code",
   "execution_count": 33,
   "metadata": {},
   "outputs": [],
   "source": [
    "concept = 'cars_per_household'"
   ]
  },
  {
   "cell_type": "code",
   "execution_count": 34,
   "metadata": {},
   "outputs": [],
   "source": [
    "subset = df\n",
    "subset['n_bilar'] = subset['Antal bilar i trafik'] + subset['Antal avställda bilar']\n",
    "subset['value'] = subset['n_bilar'] / subset['Antalhushåll']\n",
    "subset['value'] = subset['value'].round(2)\n",
    "\n",
    "subset = subset[['value', 'year', 'basomrade']]"
   ]
  },
  {
   "cell_type": "code",
   "execution_count": 35,
   "metadata": {},
   "outputs": [],
   "source": [
    "output = appendNewDatapoints(concept, subset, new=True)"
   ]
  },
  {
   "cell_type": "code",
   "execution_count": 36,
   "metadata": {},
   "outputs": [
    {
     "data": {
      "image/png": "[encoded data removed]",
      "text/plain": [
       "<Figure size 432x288 with 1 Axes>"
      ]
     },
     "metadata": {},
     "output_type": "display_data"
    }
   ],
   "source": [
    "plotcombined(output, concept)"
   ]
  }
 ],
 "metadata": {
  "kernelspec": {
   "display_name": "Python 3",
   "language": "python",
   "name": "python3"
  },
  "language_info": {
   "codemirror_mode": {
    "name": "ipython",
    "version": 3
   },
   "file_extension": ".py",
   "mimetype": "text/x-python",
   "name": "python",
   "nbconvert_exporter": "python",
   "pygments_lexer": "ipython3",
   "version": "3.6.5"
  }
 },
 "nbformat": 4,
 "nbformat_minor": 2
}
