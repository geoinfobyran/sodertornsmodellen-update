{
 "cells": [
  {
   "cell_type": "code",
   "execution_count": 1,
   "metadata": {},
   "outputs": [],
   "source": [
    "import pandas as pd\n",
    "import numpy as np\n",
    "import os\n",
    "import glob\n",
    "\n",
    "import matplotlib.pyplot as plt\n",
    "# plt.rcParams['figure.figsize'] = (15, 5)\n",
    "pd.set_option('display.max_columns', 500)\n",
    "pd.set_option('display.width', 1000)"
   ]
  },
  {
   "cell_type": "code",
   "execution_count": 2,
   "metadata": {},
   "outputs": [],
   "source": [
    "from helpers import *"
   ]
  },
  {
   "cell_type": "markdown",
   "metadata": {},
   "source": [
    "# Data prep"
   ]
  },
  {
   "cell_type": "markdown",
   "metadata": {},
   "source": [
    "## ODB TSV\n",
    "\n",
    "Data för 2011 - 2015"
   ]
  },
  {
   "cell_type": "markdown",
   "metadata": {},
   "source": [
    "Läs in fil"
   ]
  },
  {
   "cell_type": "code",
   "execution_count": 3,
   "metadata": {},
   "outputs": [],
   "source": [
    "df = pd.read_csv('../indata/ODB_TSV/ODB-Sysselsättning efter område, tid, ålder, sysselsättning och kön.txt', sep='\\t', header=1)"
   ]
  },
  {
   "cell_type": "markdown",
   "metadata": {},
   "source": [
    "Specificera indexering"
   ]
  },
  {
   "cell_type": "code",
   "execution_count": 4,
   "metadata": {},
   "outputs": [],
   "source": [
    "df = df.set_index(['område', 'tid'])"
   ]
  },
  {
   "cell_type": "markdown",
   "metadata": {},
   "source": [
    "Vänd ner samtliga kolumner i en kolumn"
   ]
  },
  {
   "cell_type": "code",
   "execution_count": 5,
   "metadata": {},
   "outputs": [],
   "source": [
    "df = pd.DataFrame(df.stack())"
   ]
  },
  {
   "cell_type": "markdown",
   "metadata": {},
   "source": [
    "Lyft ut index till kolumner igen"
   ]
  },
  {
   "cell_type": "code",
   "execution_count": 6,
   "metadata": {},
   "outputs": [],
   "source": [
    "df = df.reset_index()"
   ]
  },
  {
   "cell_type": "markdown",
   "metadata": {},
   "source": [
    "Sätt beskrivande kolumnnamn"
   ]
  },
  {
   "cell_type": "code",
   "execution_count": 7,
   "metadata": {},
   "outputs": [],
   "source": [
    "df = df.rename(columns={'level_2': 'age_group_gender', 0: 'value', 'tid':'year'})"
   ]
  },
  {
   "cell_type": "markdown",
   "metadata": {},
   "source": [
    "Splitta områdesnamn till endast baskod"
   ]
  },
  {
   "cell_type": "code",
   "execution_count": 8,
   "metadata": {
    "scrolled": true
   },
   "outputs": [],
   "source": [
    "df['område'] = df['område'].str.split(' ', 1, expand = True)\n",
    "df = df.rename(columns={'område': 'BASKOD2010'})\n",
    "df['BASKOD2010'] = df['BASKOD2010'].astype(str).astype(int)"
   ]
  },
  {
   "cell_type": "markdown",
   "metadata": {},
   "source": [
    "Byt om `BASKOD2010` till entity-namnet"
   ]
  },
  {
   "cell_type": "code",
   "execution_count": 9,
   "metadata": {},
   "outputs": [],
   "source": [
    "df = baskod2010tobasomrade(df)"
   ]
  },
  {
   "cell_type": "markdown",
   "metadata": {},
   "source": [
    "Splitta ut `ageyeargender` till fyra separata kolumner"
   ]
  },
  {
   "cell_type": "code",
   "execution_count": 10,
   "metadata": {},
   "outputs": [],
   "source": [
    "df['Kön'] = df['age_group_gender'].str.split().str[-1]\n",
    "\n",
    "df['agegroup'] = df['age_group_gender'].str.split().str[0]\n",
    "\n",
    "df['kategori'] = df['age_group_gender'].str.split().str[2:-1].str.join(' ')"
   ]
  },
  {
   "cell_type": "markdown",
   "metadata": {},
   "source": [
    "Specificera ordningen på kolumnerna"
   ]
  },
  {
   "cell_type": "code",
   "execution_count": 11,
   "metadata": {},
   "outputs": [],
   "source": [
    "df = df[['basomrade','year','kategori', 'Kön', 'agegroup', 'value']]"
   ]
  },
  {
   "cell_type": "markdown",
   "metadata": {},
   "source": [
    "Specificera indexering"
   ]
  },
  {
   "cell_type": "code",
   "execution_count": 12,
   "metadata": {
    "scrolled": true
   },
   "outputs": [],
   "source": [
    "df = df.set_index(['basomrade'])"
   ]
  },
  {
   "cell_type": "code",
   "execution_count": 13,
   "metadata": {
    "scrolled": true
   },
   "outputs": [],
   "source": [
    "df = df.groupby(['basomrade', 'year', 'kategori', 'Kön']).sum().reset_index()"
   ]
  },
  {
   "cell_type": "markdown",
   "metadata": {},
   "source": [
    "Sätt `Kön` till en pandas category"
   ]
  },
  {
   "cell_type": "code",
   "execution_count": 14,
   "metadata": {},
   "outputs": [],
   "source": [
    "df['Kön'] = df['Kön'].astype('category')\n",
    "df['Kön'].cat.categories = ['female', 'male']"
   ]
  },
  {
   "cell_type": "markdown",
   "metadata": {},
   "source": [
    "## SCB CSV\n",
    "\n",
    "Data för 2016"
   ]
  },
  {
   "cell_type": "code",
   "execution_count": 15,
   "metadata": {},
   "outputs": [],
   "source": [
    "path = '../indata/supermappen/Tabell7A_ForvKonBas.csv'\n",
    "df_csv = pd.read_csv(path,  encoding='latin1' , sep=';', decimal=',')"
   ]
  },
  {
   "cell_type": "code",
   "execution_count": 16,
   "metadata": {},
   "outputs": [],
   "source": [
    "df_csv['year'] = 2016\n",
    "df_csv = df_csv.rename(columns={\n",
    "    'basomrade': 'BASKOD2010',\n",
    "    'Forvkvinna': 'forv female',\n",
    "    'ForvMan': 'forv male',\n",
    "    'EjForvkvinna': 'ejforv female',\n",
    "    'EjForvMan': 'ejforv male'\n",
    "})\n",
    "\n",
    "# from baskod to basomrade\n",
    "df_csv = baskod2010tobasomrade(df_csv)\n",
    "\n",
    "# drop irrelevant columns\n",
    "df_csv = df_csv.drop(columns=['Totalt', 'BASKOD2010', 'BASKOD2000'])\n",
    "\n",
    "# set index\n",
    "df_csv = df_csv.set_index(['basomrade', 'year'])\n",
    "\n",
    "# pivot columns into a single column\n",
    "df_csv = pd.DataFrame(df_csv.stack()).reset_index()\n",
    "\n",
    "# set column names\n",
    "df_csv = df_csv.rename(columns={'level_2': 'group_gender', 0: 'value'})\n",
    "\n",
    "# split group_gender into gender\n",
    "df_csv['Kön'] = df_csv['group_gender'].str.split().str[-1]\n",
    "\n",
    "# spllit group_gender into group\n",
    "df_csv['kategori'] = df_csv['group_gender'].str.split().str[0]\n",
    "\n",
    "# drop group_gender\n",
    "df_csv = df_csv.drop(columns=['group_gender'])\n",
    "\n",
    "# set gender column to type category\n",
    "df_csv['Kön'] = df_csv['Kön'].astype('category')"
   ]
  },
  {
   "cell_type": "code",
   "execution_count": 17,
   "metadata": {},
   "outputs": [],
   "source": [
    "# rename categories to match ODB TSV datasource\n",
    "df_csv.loc[df_csv['kategori'] == 'forv', 'kategori'] = 'Förvärvsarbetande län 01'\n",
    "df_csv.loc[df_csv['kategori'] == 'ejforv', 'kategori'] = 'Ej Förvärvsarbetande'"
   ]
  },
  {
   "cell_type": "markdown",
   "metadata": {},
   "source": [
    "## Merge data sources"
   ]
  },
  {
   "cell_type": "code",
   "execution_count": 18,
   "metadata": {},
   "outputs": [],
   "source": [
    "concat = pd.concat([df, df_csv], sort=False)"
   ]
  },
  {
   "cell_type": "code",
   "execution_count": 19,
   "metadata": {},
   "outputs": [],
   "source": [
    "# df = concat"
   ]
  },
  {
   "cell_type": "markdown",
   "metadata": {},
   "source": [
    "# Befolkning 20-64"
   ]
  },
  {
   "cell_type": "code",
   "execution_count": 20,
   "metadata": {},
   "outputs": [],
   "source": [
    "concept = 'population_aged_20_64'"
   ]
  },
  {
   "cell_type": "code",
   "execution_count": 21,
   "metadata": {},
   "outputs": [],
   "source": [
    "popgender = df.groupby(['basomrade', 'year', 'Kön']).sum().reset_index()\n",
    "total = df.groupby(['basomrade', 'year']).sum().reset_index()"
   ]
  },
  {
   "cell_type": "code",
   "execution_count": 22,
   "metadata": {},
   "outputs": [],
   "source": [
    "total = appendNewDatapoints(concept, total)\n",
    "female, male = byGender(concept, popgender)"
   ]
  },
  {
   "cell_type": "code",
   "execution_count": 23,
   "metadata": {},
   "outputs": [
    {
     "data": {
      "image/png": "[encoded data removed]",
      "text/plain": [
       "<Figure size 432x288 with 1 Axes>"
      ]
     },
     "metadata": {},
     "output_type": "display_data"
    }
   ],
   "source": [
    "plotcombined(total, 'total')"
   ]
  },
  {
   "cell_type": "code",
   "execution_count": 24,
   "metadata": {},
   "outputs": [
    {
     "data": {
      "image/png": "[encoded data removed]",
      "text/plain": [
       "<Figure size 432x288 with 1 Axes>"
      ]
     },
     "metadata": {},
     "output_type": "display_data"
    }
   ],
   "source": [
    "plotcombined(female, 'female')\n",
    "plotcombined(male, 'male')"
   ]
  }
 ],
 "metadata": {
  "kernelspec": {
   "display_name": "Python 3",
   "language": "python",
   "name": "python3"
  },
  "language_info": {
   "codemirror_mode": {
    "name": "ipython",
    "version": 3
   },
   "file_extension": ".py",
   "mimetype": "text/x-python",
   "name": "python",
   "nbconvert_exporter": "python",
   "pygments_lexer": "ipython3",
   "version": "3.6.5"
  }
 },
 "nbformat": 4,
 "nbformat_minor": 2
}
