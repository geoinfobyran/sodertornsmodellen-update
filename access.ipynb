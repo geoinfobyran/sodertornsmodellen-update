{
 "cells": [
  {
   "cell_type": "code",
   "execution_count": 125,
   "metadata": {},
   "outputs": [],
   "source": [
    "import pandas as pd\n",
    "import numpy as np\n",
    "\n",
    "import matplotlib.pyplot as plt\n",
    "\n",
    "%matplotlib inline"
   ]
  },
  {
   "cell_type": "code",
   "execution_count": 135,
   "metadata": {},
   "outputs": [],
   "source": [
    "from helpers import (baskod2000tobasomrade)"
   ]
  },
  {
   "cell_type": "code",
   "execution_count": 141,
   "metadata": {},
   "outputs": [],
   "source": [
    "df = pd.read_excel(\n",
    "    '../indata/excel_20190311/SDG-GIS results 190308.xlsx',\n",
    "    'Data till verktyg'\n",
    ")"
   ]
  },
  {
   "cell_type": "code",
   "execution_count": 142,
   "metadata": {},
   "outputs": [],
   "source": [
    "df = df.dropna()"
   ]
  },
  {
   "cell_type": "code",
   "execution_count": 143,
   "metadata": {},
   "outputs": [],
   "source": [
    "df = df.rename(columns={\n",
    "    'År': 'year',\n",
    "    'Baskod2000': 'BASKOD2000'\n",
    "})\n",
    "\n",
    "df = df.astype({\n",
    "    'year': int,\n",
    "    'BASKOD2000': int\n",
    "})"
   ]
  },
  {
   "cell_type": "code",
   "execution_count": 146,
   "metadata": {},
   "outputs": [
    {
     "data": {
      "text/plain": [
       "(1269, 63)"
      ]
     },
     "execution_count": 146,
     "metadata": {},
     "output_type": "execute_result"
    }
   ],
   "source": [
    "df.shape"
   ]
  },
  {
   "cell_type": "code",
   "execution_count": 147,
   "metadata": {},
   "outputs": [],
   "source": [
    "df = baskod2000tobasomrade(df).drop(columns=['BASKOD2000'])"
   ]
  },
  {
   "cell_type": "markdown",
   "metadata": {},
   "source": [
    "Notis: `ddf--entitites--basomrade.csv` innehåller 1086 basområden. Här tappar vi två av dem. Ett av dem är för att sista raden i SDG-GIS excelen saknas baskod. Vilket är det andra, och varför?"
   ]
  },
  {
   "cell_type": "code",
   "execution_count": 148,
   "metadata": {},
   "outputs": [
    {
     "data": {
      "text/plain": [
       "(1084, 63)"
      ]
     },
     "execution_count": 148,
     "metadata": {},
     "output_type": "execute_result"
    }
   ],
   "source": [
    "df.shape"
   ]
  },
  {
   "cell_type": "markdown",
   "metadata": {},
   "source": [
    " \n",
    "\n",
    "%accessgreenC_under300\n",
    "\n",
    " \n",
    "\n",
    "%accesstoSL_under300"
   ]
  },
  {
   "cell_type": "code",
   "execution_count": 179,
   "metadata": {},
   "outputs": [
    {
     "data": {
      "text/html": [
       "<div>\n",
       "<style scoped>\n",
       "    .dataframe tbody tr th:only-of-type {\n",
       "        vertical-align: middle;\n",
       "    }\n",
       "\n",
       "    .dataframe tbody tr th {\n",
       "        vertical-align: top;\n",
       "    }\n",
       "\n",
       "    .dataframe thead th {\n",
       "        text-align: right;\n",
       "    }\n",
       "</style>\n",
       "<table border=\"1\" class=\"dataframe\">\n",
       "  <thead>\n",
       "    <tr style=\"text-align: right;\">\n",
       "      <th></th>\n",
       "      <th>year</th>\n",
       "      <th>Baskod+År</th>\n",
       "      <th>%accessgreenT_under50</th>\n",
       "      <th>%accessgreenT_under100</th>\n",
       "      <th>%accessgreenT_under150</th>\n",
       "      <th>%accessgreenT_under200</th>\n",
       "      <th>%accessgreenT_under250</th>\n",
       "      <th>%accessgreenT_under300</th>\n",
       "      <th>%accessgreenT_under350</th>\n",
       "      <th>%accessgreenT_under400</th>\n",
       "      <th>...</th>\n",
       "      <th>%accesstoSL_under100</th>\n",
       "      <th>%accesstoSL_under150</th>\n",
       "      <th>%accesstoSL_under200</th>\n",
       "      <th>%accesstoSL_under250</th>\n",
       "      <th>%accesstoSL_under300</th>\n",
       "      <th>%accesstoSL_under350</th>\n",
       "      <th>%accesstoSL_under400</th>\n",
       "      <th>%accesstoSL_under450</th>\n",
       "      <th>%accesstoSL_under500</th>\n",
       "      <th>basomrade</th>\n",
       "    </tr>\n",
       "  </thead>\n",
       "  <tbody>\n",
       "    <tr>\n",
       "      <th>1</th>\n",
       "      <td>2015</td>\n",
       "      <td>1010120 2015</td>\n",
       "      <td>0.0</td>\n",
       "      <td>0.0</td>\n",
       "      <td>0.0</td>\n",
       "      <td>0.0</td>\n",
       "      <td>0.0</td>\n",
       "      <td>0.0</td>\n",
       "      <td>0.0</td>\n",
       "      <td>0.0</td>\n",
       "      <td>...</td>\n",
       "      <td>40.241449</td>\n",
       "      <td>64.185111</td>\n",
       "      <td>96.177062</td>\n",
       "      <td>100.000000</td>\n",
       "      <td>100.0</td>\n",
       "      <td>100.0</td>\n",
       "      <td>100.0</td>\n",
       "      <td>100.0</td>\n",
       "      <td>100.0</td>\n",
       "      <td>1010120_skeppsbron</td>\n",
       "    </tr>\n",
       "    <tr>\n",
       "      <th>2</th>\n",
       "      <td>2015</td>\n",
       "      <td>1010130 2015</td>\n",
       "      <td>0.0</td>\n",
       "      <td>0.0</td>\n",
       "      <td>0.0</td>\n",
       "      <td>0.0</td>\n",
       "      <td>0.0</td>\n",
       "      <td>0.0</td>\n",
       "      <td>0.0</td>\n",
       "      <td>0.0</td>\n",
       "      <td>...</td>\n",
       "      <td>48.965517</td>\n",
       "      <td>86.637931</td>\n",
       "      <td>100.000000</td>\n",
       "      <td>100.000000</td>\n",
       "      <td>100.0</td>\n",
       "      <td>100.0</td>\n",
       "      <td>100.0</td>\n",
       "      <td>100.0</td>\n",
       "      <td>100.0</td>\n",
       "      <td>1010130_munkbron</td>\n",
       "    </tr>\n",
       "    <tr>\n",
       "      <th>3</th>\n",
       "      <td>2015</td>\n",
       "      <td>1010140 2015</td>\n",
       "      <td>0.0</td>\n",
       "      <td>0.0</td>\n",
       "      <td>0.0</td>\n",
       "      <td>0.0</td>\n",
       "      <td>0.0</td>\n",
       "      <td>0.0</td>\n",
       "      <td>0.0</td>\n",
       "      <td>0.0</td>\n",
       "      <td>...</td>\n",
       "      <td>3.575910</td>\n",
       "      <td>19.196989</td>\n",
       "      <td>58.281054</td>\n",
       "      <td>99.498118</td>\n",
       "      <td>100.0</td>\n",
       "      <td>100.0</td>\n",
       "      <td>100.0</td>\n",
       "      <td>100.0</td>\n",
       "      <td>100.0</td>\n",
       "      <td>1010140_stortorget</td>\n",
       "    </tr>\n",
       "    <tr>\n",
       "      <th>4</th>\n",
       "      <td>2015</td>\n",
       "      <td>1010201 2015</td>\n",
       "      <td>0.0</td>\n",
       "      <td>0.0</td>\n",
       "      <td>0.0</td>\n",
       "      <td>0.0</td>\n",
       "      <td>0.0</td>\n",
       "      <td>0.0</td>\n",
       "      <td>0.0</td>\n",
       "      <td>0.0</td>\n",
       "      <td>...</td>\n",
       "      <td>100.000000</td>\n",
       "      <td>100.000000</td>\n",
       "      <td>100.000000</td>\n",
       "      <td>100.000000</td>\n",
       "      <td>100.0</td>\n",
       "      <td>100.0</td>\n",
       "      <td>100.0</td>\n",
       "      <td>100.0</td>\n",
       "      <td>100.0</td>\n",
       "      <td>1010201_centralstationen_n</td>\n",
       "    </tr>\n",
       "    <tr>\n",
       "      <th>7</th>\n",
       "      <td>2015</td>\n",
       "      <td>1010220 2015</td>\n",
       "      <td>0.0</td>\n",
       "      <td>0.0</td>\n",
       "      <td>0.0</td>\n",
       "      <td>0.0</td>\n",
       "      <td>0.0</td>\n",
       "      <td>0.0</td>\n",
       "      <td>0.0</td>\n",
       "      <td>0.0</td>\n",
       "      <td>...</td>\n",
       "      <td>55.147059</td>\n",
       "      <td>100.000000</td>\n",
       "      <td>100.000000</td>\n",
       "      <td>100.000000</td>\n",
       "      <td>100.0</td>\n",
       "      <td>100.0</td>\n",
       "      <td>100.0</td>\n",
       "      <td>100.0</td>\n",
       "      <td>100.0</td>\n",
       "      <td>1010220_klara_kyrka</td>\n",
       "    </tr>\n",
       "  </tbody>\n",
       "</table>\n",
       "<p>5 rows × 63 columns</p>\n",
       "</div>"
      ],
      "text/plain": [
       "   year     Baskod+År  %accessgreenT_under50  %accessgreenT_under100  \\\n",
       "1  2015  1010120 2015                    0.0                     0.0   \n",
       "2  2015  1010130 2015                    0.0                     0.0   \n",
       "3  2015  1010140 2015                    0.0                     0.0   \n",
       "4  2015  1010201 2015                    0.0                     0.0   \n",
       "7  2015  1010220 2015                    0.0                     0.0   \n",
       "\n",
       "   %accessgreenT_under150  %accessgreenT_under200  %accessgreenT_under250  \\\n",
       "1                     0.0                     0.0                     0.0   \n",
       "2                     0.0                     0.0                     0.0   \n",
       "3                     0.0                     0.0                     0.0   \n",
       "4                     0.0                     0.0                     0.0   \n",
       "7                     0.0                     0.0                     0.0   \n",
       "\n",
       "   %accessgreenT_under300  %accessgreenT_under350  %accessgreenT_under400  \\\n",
       "1                     0.0                     0.0                     0.0   \n",
       "2                     0.0                     0.0                     0.0   \n",
       "3                     0.0                     0.0                     0.0   \n",
       "4                     0.0                     0.0                     0.0   \n",
       "7                     0.0                     0.0                     0.0   \n",
       "\n",
       "              ...              %accesstoSL_under100  %accesstoSL_under150  \\\n",
       "1             ...                         40.241449             64.185111   \n",
       "2             ...                         48.965517             86.637931   \n",
       "3             ...                          3.575910             19.196989   \n",
       "4             ...                        100.000000            100.000000   \n",
       "7             ...                         55.147059            100.000000   \n",
       "\n",
       "   %accesstoSL_under200  %accesstoSL_under250  %accesstoSL_under300  \\\n",
       "1             96.177062            100.000000                 100.0   \n",
       "2            100.000000            100.000000                 100.0   \n",
       "3             58.281054             99.498118                 100.0   \n",
       "4            100.000000            100.000000                 100.0   \n",
       "7            100.000000            100.000000                 100.0   \n",
       "\n",
       "   %accesstoSL_under350  %accesstoSL_under400  %accesstoSL_under450  \\\n",
       "1                 100.0                 100.0                 100.0   \n",
       "2                 100.0                 100.0                 100.0   \n",
       "3                 100.0                 100.0                 100.0   \n",
       "4                 100.0                 100.0                 100.0   \n",
       "7                 100.0                 100.0                 100.0   \n",
       "\n",
       "   %accesstoSL_under500                   basomrade  \n",
       "1                 100.0          1010120_skeppsbron  \n",
       "2                 100.0            1010130_munkbron  \n",
       "3                 100.0          1010140_stortorget  \n",
       "4                 100.0  1010201_centralstationen_n  \n",
       "7                 100.0         1010220_klara_kyrka  \n",
       "\n",
       "[5 rows x 63 columns]"
      ]
     },
     "execution_count": 179,
     "metadata": {},
     "output_type": "execute_result"
    }
   ],
   "source": [
    "df.head()"
   ]
  },
  {
   "cell_type": "markdown",
   "metadata": {},
   "source": [
    "# Grönområden"
   ]
  },
  {
   "cell_type": "code",
   "execution_count": 171,
   "metadata": {},
   "outputs": [],
   "source": [
    "concept = 'access_green_c_lt_300'"
   ]
  },
  {
   "cell_type": "code",
   "execution_count": 172,
   "metadata": {},
   "outputs": [],
   "source": [
    "green = df.copy()[['basomrade', 'year', '%accessgreenC_under300']]"
   ]
  },
  {
   "cell_type": "code",
   "execution_count": 173,
   "metadata": {},
   "outputs": [],
   "source": [
    "green = green.rename(columns={\"%accessgreenC_under300\": 'value'})"
   ]
  },
  {
   "cell_type": "code",
   "execution_count": 174,
   "metadata": {},
   "outputs": [],
   "source": [
    "out = appendNewDatapoints(concept, green, new=True)"
   ]
  },
  {
   "cell_type": "markdown",
   "metadata": {},
   "source": [
    "# SL"
   ]
  },
  {
   "cell_type": "code",
   "execution_count": 175,
   "metadata": {},
   "outputs": [],
   "source": [
    "concept = 'access_sl_lt_300'"
   ]
  },
  {
   "cell_type": "code",
   "execution_count": 176,
   "metadata": {},
   "outputs": [],
   "source": [
    "sl = df.copy()[['basomrade', 'year', '%accesstoSL_under300']]"
   ]
  },
  {
   "cell_type": "code",
   "execution_count": 177,
   "metadata": {},
   "outputs": [],
   "source": [
    "sl = sl.rename(columns={\"%accesstoSL_under300\": 'value'})"
   ]
  },
  {
   "cell_type": "code",
   "execution_count": 178,
   "metadata": {},
   "outputs": [],
   "source": [
    "out = appendNewDatapoints(concept, sl, new=True)"
   ]
  }
 ],
 "metadata": {
  "kernelspec": {
   "display_name": "Python 3",
   "language": "python",
   "name": "python3"
  },
  "language_info": {
   "codemirror_mode": {
    "name": "ipython",
    "version": 3
   },
   "file_extension": ".py",
   "mimetype": "text/x-python",
   "name": "python",
   "nbconvert_exporter": "python",
   "pygments_lexer": "ipython3",
   "version": "3.6.5"
  }
 },
 "nbformat": 4,
 "nbformat_minor": 2
}
