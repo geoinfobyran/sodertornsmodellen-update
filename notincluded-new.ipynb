{
 "cells": [
  {
   "cell_type": "code",
   "execution_count": 34,
   "metadata": {},
   "outputs": [],
   "source": [
    "import pandas as pd"
   ]
  },
  {
   "cell_type": "code",
   "execution_count": 45,
   "metadata": {},
   "outputs": [],
   "source": [
    "ent_bas = pd.read_csv('../indata/ddf--sodertornsmodellen/ddf--sodertornsmodellen--src/ddf--entities--basomrade.csv')\n",
    "ent_bas = ent_bas.rename(columns={\n",
    "    'baskod2010': 'BASKOD2010'\n",
    "})\n",
    "ent_bas['BASKOD2010'] = ent_bas['BASKOD2010'].astype(str)"
   ]
  },
  {
   "cell_type": "code",
   "execution_count": 46,
   "metadata": {},
   "outputs": [],
   "source": [
    "bas_key = pd.read_excel('../indata/ddf--sodertornsmodellen/etl/source/161115 A7 utan formler.xlsx', skiprows=[0,1,2,3,4,5,6], converters={2010: lambda x: str(x)})\n",
    "bas_key = bas_key.rename(columns={\n",
    "    2010: 'BASKOD2010'\n",
    "})"
   ]
  },
  {
   "cell_type": "code",
   "execution_count": 56,
   "metadata": {},
   "outputs": [
    {
     "data": {
      "text/plain": [
       "(1086, 6)"
      ]
     },
     "execution_count": 56,
     "metadata": {},
     "output_type": "execute_result"
    }
   ],
   "source": [
    "ent_bas.shape"
   ]
  },
  {
   "cell_type": "code",
   "execution_count": 57,
   "metadata": {},
   "outputs": [
    {
     "data": {
      "text/plain": [
       "(1364, 3)"
      ]
     },
     "execution_count": 57,
     "metadata": {},
     "output_type": "execute_result"
    }
   ],
   "source": [
    "bas_key.shape"
   ]
  },
  {
   "cell_type": "code",
   "execution_count": 67,
   "metadata": {},
   "outputs": [],
   "source": [
    "merged = pd.merge(ent_bas, bas_key, on='BASKOD2010', how='right')"
   ]
  },
  {
   "cell_type": "code",
   "execution_count": 76,
   "metadata": {
    "scrolled": false
   },
   "outputs": [],
   "source": [
    "missing = merged[merged['basomrade'].isnull()]\n",
    "missing = missing[['BASKOD2000', 'BASKOD2010', 'namn']]"
   ]
  },
  {
   "cell_type": "code",
   "execution_count": 79,
   "metadata": {},
   "outputs": [],
   "source": [
    "missing.to_excel('ej_med_i_entities_basomraden.xlsx', index=False)"
   ]
  }
 ],
 "metadata": {
  "kernelspec": {
   "display_name": "Python 3",
   "language": "python",
   "name": "python3"
  },
  "language_info": {
   "codemirror_mode": {
    "name": "ipython",
    "version": 3
   },
   "file_extension": ".py",
   "mimetype": "text/x-python",
   "name": "python",
   "nbconvert_exporter": "python",
   "pygments_lexer": "ipython3",
   "version": "3.6.5"
  }
 },
 "nbformat": 4,
 "nbformat_minor": 2
}
