{
 "cells": [
  {
   "cell_type": "code",
   "execution_count": 33,
   "metadata": {},
   "outputs": [],
   "source": [
    "import os\n",
    "import glob\n",
    "\n",
    "import pandas as pd\n",
    "import numpy as np\n",
    "\n",
    "%matplotlib inline"
   ]
  },
  {
   "cell_type": "code",
   "execution_count": 34,
   "metadata": {},
   "outputs": [],
   "source": [
    "from helpers import *"
   ]
  },
  {
   "cell_type": "markdown",
   "metadata": {},
   "source": [
    "Tillfällig ändring:\n",
    "\n",
    "Indata är medelvärden på baskod2010. Det gör att det inte går att summera ihop till baskod2000 för områden som splittrats. Därför rensar vi bort splittrade basområden så länge."
   ]
  },
  {
   "cell_type": "markdown",
   "metadata": {},
   "source": [
    "Läs in baskodkey som i [helpers.py](helpers.py)"
   ]
  },
  {
   "cell_type": "code",
   "execution_count": 48,
   "metadata": {},
   "outputs": [],
   "source": [
    "indataPath = os.path.join(os.pardir, \"indata\")\n",
    "ddfRootPath = os.path.join(indataPath, \"ddf--sodertornsmodellen\")\n",
    "\n",
    "baskodkey = pd.read_excel(os.path.join(ddfRootPath, 'etl', 'source', '161115 A7 utan formler.xlsx'), skiprows=[0,1,2,3,4,5,6], converters={2010: lambda x: str(x)})\n",
    "baskodkey = baskodkey[[2010, 'BASKOD2000']]\n",
    "baskodkey = baskodkey.rename(columns={2010: 'BASKOD2010'})\n",
    "baskodkey['BASKOD2010'] = baskodkey['BASKOD2010'].astype(str).astype(int)"
   ]
  },
  {
   "cell_type": "markdown",
   "metadata": {},
   "source": [
    "Lägg till dummykolumn för att kunna räkna förekomster av BASKOD2000"
   ]
  },
  {
   "cell_type": "code",
   "execution_count": 49,
   "metadata": {},
   "outputs": [],
   "source": [
    "baskodkey['value'] = 1\n",
    "baskodkey = baskodkey[['BASKOD2010', 'value']]\n",
    "basomr = baskod2010tobasomrade(baskodkey, n_numeric=1)"
   ]
  },
  {
   "cell_type": "markdown",
   "metadata": {},
   "source": [
    "Få fram lista på de som det bara finns en förekomst av"
   ]
  },
  {
   "cell_type": "code",
   "execution_count": 60,
   "metadata": {},
   "outputs": [],
   "source": [
    "tokeep = basomr[basomr['value'] == 1][['basomrade']]"
   ]
  },
  {
   "cell_type": "markdown",
   "metadata": {},
   "source": [
    "Lista borttagna"
   ]
  },
  {
   "cell_type": "code",
   "execution_count": 51,
   "metadata": {},
   "outputs": [
    {
     "name": "stdout",
     "output_type": "stream",
     "text": [
      "39\n"
     ]
    }
   ],
   "source": [
    "removed = basomr[basomr['value'] > 1]\n",
    "print(len(removed))"
   ]
  },
  {
   "cell_type": "markdown",
   "metadata": {},
   "source": [
    "Slut förberedelser tillfällig ändring."
   ]
  },
  {
   "cell_type": "markdown",
   "metadata": {},
   "source": [
    "### Per kön"
   ]
  },
  {
   "cell_type": "code",
   "execution_count": 52,
   "metadata": {},
   "outputs": [],
   "source": [
    "concept = 'mean_income_aged_gt_20'"
   ]
  },
  {
   "cell_type": "code",
   "execution_count": 53,
   "metadata": {},
   "outputs": [],
   "source": [
    "medelkon = glob.glob('../indata/supermappen/*MedelkonBas*.csv')"
   ]
  },
  {
   "cell_type": "code",
   "execution_count": 54,
   "metadata": {},
   "outputs": [],
   "source": [
    "def readMedelkonBas(file):\n",
    "    df = pd.read_csv(file, encoding='latin1' , sep=';', decimal=',', header=1)\n",
    "    df['year'] = pd.to_datetime(getYear(file))\n",
    "    df = df.rename(columns={\n",
    "        \"M=1 Kv = 2\":'Kön',\n",
    "        'Basområde': 'BASKOD2010',\n",
    "        'inkl 0': 'value',\n",
    "#         'exkl 0': 'value'\n",
    "    })\n",
    "    df['Kön'] = df['Kön'].astype('category')\n",
    "    df['Kön'].cat.categories = ['male', 'female']\n",
    "    df['year'] = df['year'].apply(lambda t: t.year)\n",
    "    return df"
   ]
  },
  {
   "cell_type": "code",
   "execution_count": 55,
   "metadata": {},
   "outputs": [],
   "source": [
    "df = pd.concat(list(map(readMedelkonBas, medelkon)))"
   ]
  },
  {
   "cell_type": "code",
   "execution_count": 56,
   "metadata": {},
   "outputs": [],
   "source": [
    "df = df[['BASKOD2010', 'year','Kön', 'value']]"
   ]
  },
  {
   "cell_type": "code",
   "execution_count": 57,
   "metadata": {},
   "outputs": [],
   "source": [
    "df = baskod2010tobasomrade(df, n_numeric=1)"
   ]
  },
  {
   "cell_type": "markdown",
   "metadata": {},
   "source": [
    "Tillf ändring:"
   ]
  },
  {
   "cell_type": "code",
   "execution_count": 79,
   "metadata": {},
   "outputs": [
    {
     "name": "stdout",
     "output_type": "stream",
     "text": [
      "4344\n",
      "4188\n",
      "156\n",
      "52.0\n"
     ]
    }
   ],
   "source": [
    "print(len(df))\n",
    "merge = pd.merge(df, tokeep, on='basomrade', how='inner')\n",
    "print(len(merge))\n",
    "print(len(df) - len(merge))\n",
    "print(156 / 3)\n",
    "\n",
    "filt = df.isin({'basomrade': tokeep['basomrade'].tolist()})\n",
    "filt = df[filt['basomrade']]\n",
    "len(filt)\n",
    "\n",
    "df = filt"
   ]
  },
  {
   "cell_type": "markdown",
   "metadata": {},
   "source": [
    "Slut tillf ändring."
   ]
  },
  {
   "cell_type": "code",
   "execution_count": 80,
   "metadata": {},
   "outputs": [],
   "source": [
    "male, female = byGender(concept, df)"
   ]
  },
  {
   "cell_type": "code",
   "execution_count": 81,
   "metadata": {},
   "outputs": [
    {
     "data": {
      "image/png": "[encoded data removed]",
      "text/plain": [
       "<Figure size 432x288 with 1 Axes>"
      ]
     },
     "metadata": {},
     "output_type": "display_data"
    }
   ],
   "source": [
    "plotcombined(female, 'female')\n",
    "plotcombined(male, 'male')"
   ]
  },
  {
   "cell_type": "markdown",
   "metadata": {},
   "source": [
    "### Total"
   ]
  },
  {
   "cell_type": "code",
   "execution_count": 89,
   "metadata": {},
   "outputs": [],
   "source": [
    "medel = glob.glob('../indata/supermappen/*MedelBas*.csv')"
   ]
  },
  {
   "cell_type": "code",
   "execution_count": 90,
   "metadata": {},
   "outputs": [],
   "source": [
    "concept = 'mean_income_aged_gt_20'"
   ]
  },
  {
   "cell_type": "code",
   "execution_count": 91,
   "metadata": {},
   "outputs": [],
   "source": [
    "def readMedel(file):\n",
    "    df = pd.read_csv(file, encoding='latin1' , sep=';', decimal=',')\n",
    "    df['year'] = pd.to_datetime(getYear(file))\n",
    "    df = df.rename(columns={\n",
    "        'basomrade': 'BASKOD2010',\n",
    "        'Medel': 'value'\n",
    "    })\n",
    "    df['year'] = df['year'].apply(lambda t: t.year)\n",
    "    return df"
   ]
  },
  {
   "cell_type": "code",
   "execution_count": 92,
   "metadata": {},
   "outputs": [],
   "source": [
    "df = pd.concat(list(map(readMedel, medel)))"
   ]
  },
  {
   "cell_type": "code",
   "execution_count": 93,
   "metadata": {},
   "outputs": [],
   "source": [
    "df = df[['BASKOD2010', 'year', 'value']]"
   ]
  },
  {
   "cell_type": "code",
   "execution_count": 94,
   "metadata": {},
   "outputs": [],
   "source": [
    "df = baskod2010tobasomrade(df)"
   ]
  },
  {
   "cell_type": "markdown",
   "metadata": {},
   "source": [
    "Tillf ändring:"
   ]
  },
  {
   "cell_type": "code",
   "execution_count": 95,
   "metadata": {},
   "outputs": [
    {
     "name": "stdout",
     "output_type": "stream",
     "text": [
      "2172\n",
      "2094\n",
      "78\n",
      "52.0\n"
     ]
    }
   ],
   "source": [
    "print(len(df))\n",
    "merge = pd.merge(df, tokeep, on='basomrade', how='inner')\n",
    "print(len(merge))\n",
    "print(len(df) - len(merge))\n",
    "print(156 / 3)\n",
    "\n",
    "filt = df.isin({'basomrade': tokeep['basomrade'].tolist()})\n",
    "filt = df[filt['basomrade']]\n",
    "len(filt)\n",
    "\n",
    "df = filt"
   ]
  },
  {
   "cell_type": "markdown",
   "metadata": {},
   "source": [
    "Slut tillf ändring."
   ]
  },
  {
   "cell_type": "code",
   "execution_count": 96,
   "metadata": {
    "scrolled": false
   },
   "outputs": [
    {
     "data": {
      "image/png": "[encoded data removed]",
      "text/plain": [
       "<Figure size 432x288 with 1 Axes>"
      ]
     },
     "metadata": {},
     "output_type": "display_data"
    }
   ],
   "source": [
    "combined = appendNewDatapoints(concept, df)\n",
    "plotcombined(combined, 'total')"
   ]
  }
 ],
 "metadata": {
  "kernelspec": {
   "display_name": "Python 3",
   "language": "python",
   "name": "python3"
  },
  "language_info": {
   "codemirror_mode": {
    "name": "ipython",
    "version": 3
   },
   "file_extension": ".py",
   "mimetype": "text/x-python",
   "name": "python",
   "nbconvert_exporter": "python",
   "pygments_lexer": "ipython3",
   "version": "3.6.5"
  }
 },
 "nbformat": 4,
 "nbformat_minor": 2
}
