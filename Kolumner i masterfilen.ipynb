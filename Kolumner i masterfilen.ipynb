{
 "cells": [
  {
   "cell_type": "code",
   "execution_count": 1,
   "metadata": {},
   "outputs": [],
   "source": [
    "import pandas as pd\n",
    "\n",
    "from helpers import (readMaster, baskod2010tobasomrade)"
   ]
  },
  {
   "cell_type": "markdown",
   "metadata": {},
   "source": [
    "## Läs in MASTER excel filen"
   ]
  },
  {
   "cell_type": "code",
   "execution_count": 2,
   "metadata": {},
   "outputs": [],
   "source": [
    "master = readMaster()"
   ]
  },
  {
   "cell_type": "markdown",
   "metadata": {},
   "source": [
    "# Lista kolumner i masterfilen"
   ]
  },
  {
   "cell_type": "code",
   "execution_count": 3,
   "metadata": {},
   "outputs": [],
   "source": [
    "mas2014 = master[master['year'] >= pd.to_datetime('2014')]\n",
    "mas2014 = mas2014.rename(columns = {\n",
    "    'BASKODER': 'BASKOD2010'\n",
    "})"
   ]
  },
  {
   "cell_type": "code",
   "execution_count": 4,
   "metadata": {},
   "outputs": [
    {
     "data": {
      "text/plain": [
       "['Befolkning Män',\n",
       " 'Befolkning Kvinnor',\n",
       " 'Befolkning Total',\n",
       " 'Befolkning män18-64',\n",
       " 'Befolkning kvinnor 18-64',\n",
       " 'Befolkning totalt 18-64',\n",
       " 'Befolkning män 16-',\n",
       " 'Befolkning kvinnor 16-',\n",
       " 'Befolkning tot 16-',\n",
       " 'Lght_Hyresrätt',\n",
       " 'Lght_Bostadsrätt',\n",
       " 'Lght_Äganderätt',\n",
       " 'Lght_Uppgift saknas',\n",
       " 'Lght total',\n",
       " 'Lght_Andel_Hyresrätter',\n",
       " 'Lght_Andel_Bostadsrätter',\n",
       " 'Lght_Andel_Äganderätter',\n",
       " 'Lght_Andel_Uppgift Sanas',\n",
       " 'Fst_Lantbruksfastighet',\n",
       " 'Fst_Småhus inklusive Fritidshus',\n",
       " 'Fst_Hyreshus',\n",
       " 'Fst_Övriga',\n",
       " 'Fst_Totalt',\n",
       " 'Fst_Andel_Lantbruksfastighet',\n",
       " 'Fst_Andel_Småhus inklusive Fritidshus',\n",
       " 'Fst_Andel_Hyreshus',\n",
       " 'Fst_Andel_Övriga',\n",
       " 'Antal hushåll med barn',\n",
       " 'Antal hushåll utan barn',\n",
       " 'Hsh_Gifta/sambo med barn',\n",
       " 'Hsh_Gifta/sambo utan barn',\n",
       " 'Hsh_Ensamstående med barn',\n",
       " 'Hsh_Ensamstående utan barn',\n",
       " 'Hsh_Övriga',\n",
       " 'Hsh_Total',\n",
       " 'Hsh_Andel_Gifta/sambo med barn',\n",
       " 'Hsh_Andel_Gifta/sambo utan barn',\n",
       " 'Hsh_Andel_Ensamstående med barn',\n",
       " 'Hsh_Andel_Ensamstående utan barn',\n",
       " 'Hsh_Andel_Övriga',\n",
       " 'Ekbist 18-64 män',\n",
       " 'Ekbist 18-64 kvinnor',\n",
       " 'Ekbist 18-64 tot',\n",
       " 'Ekbist_Andel_18-64_män',\n",
       " 'Ekbist_Andel_18-64_kvinnor',\n",
       " 'Ekbist_Andel_18-64_tot',\n",
       " 'Dagbef män 16-',\n",
       " 'Dagbef kvinnor 16-',\n",
       " 'Dagbef tot 16-']"
      ]
     },
     "execution_count": 4,
     "metadata": {},
     "output_type": "execute_result"
    }
   ],
   "source": [
    "masterCols = mas2014.columns.values[5:-2]#.tolist()\n",
    "len(masterCols)\n",
    "masterCols.tolist()"
   ]
  },
  {
   "cell_type": "code",
   "execution_count": 5,
   "metadata": {},
   "outputs": [],
   "source": [
    "for col in  masterCols:\n",
    "    coldf = mas2014[['BASKOD2010', 'year', col]]\n",
    "    coldf = baskod2010tobasomrade(coldf)\n",
    "#     coldf = pd.merge(coldf, baskodkey, on='BASKOD2010', how='left')\n",
    "#     coldf = pd.merge(coldf, entityKey[['BASKOD2000', 'basomrade']], on='BASKOD2000', how='left')\n",
    "    coldf = coldf.dropna(how='any')\n",
    "#     print(coldf)\n",
    "#     print(master[['BASKODER', col]])"
   ]
  }
 ],
 "metadata": {
  "kernelspec": {
   "display_name": "Python 3",
   "language": "python",
   "name": "python3"
  },
  "language_info": {
   "codemirror_mode": {
    "name": "ipython",
    "version": 3
   },
   "file_extension": ".py",
   "mimetype": "text/x-python",
   "name": "python",
   "nbconvert_exporter": "python",
   "pygments_lexer": "ipython3",
   "version": "3.6.5"
  }
 },
 "nbformat": 4,
 "nbformat_minor": 2
}
