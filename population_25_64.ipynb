{
 "cells": [
  {
   "cell_type": "code",
   "execution_count": 1,
   "metadata": {},
   "outputs": [],
   "source": [
    "import pandas as pd\n",
    "import numpy as np\n",
    "import os\n",
    "import glob\n",
    "\n",
    "import matplotlib.pyplot as plt\n",
    "# plt.rcParams['figure.figsize'] = (15, 5)\n",
    "pd.set_option('display.max_columns', 500)\n",
    "pd.set_option('display.width', 1000)"
   ]
  },
  {
   "cell_type": "code",
   "execution_count": 2,
   "metadata": {},
   "outputs": [],
   "source": [
    "from helpers import *"
   ]
  },
  {
   "cell_type": "markdown",
   "metadata": {},
   "source": [
    "# Data prep"
   ]
  },
  {
   "cell_type": "markdown",
   "metadata": {},
   "source": [
    "Läs in fil"
   ]
  },
  {
   "cell_type": "code",
   "execution_count": 3,
   "metadata": {},
   "outputs": [],
   "source": [
    "df = pd.read_csv('../indata/ODB_TSV/ODB-utbildningsnivå, ålder, tid och kön 2015-2017.txt', sep='\\t', header=1)"
   ]
  },
  {
   "cell_type": "markdown",
   "metadata": {},
   "source": [
    "Specificera indexering"
   ]
  },
  {
   "cell_type": "code",
   "execution_count": 4,
   "metadata": {},
   "outputs": [],
   "source": [
    "df = df.set_index(['område', 'utbildningsnivå'])"
   ]
  },
  {
   "cell_type": "markdown",
   "metadata": {},
   "source": [
    "Vänd ner samtliga kolumner i en kolumn"
   ]
  },
  {
   "cell_type": "code",
   "execution_count": 5,
   "metadata": {},
   "outputs": [],
   "source": [
    "df = pd.DataFrame(df.stack())"
   ]
  },
  {
   "cell_type": "markdown",
   "metadata": {},
   "source": [
    "Lyft ut index till kolumner igen"
   ]
  },
  {
   "cell_type": "code",
   "execution_count": 6,
   "metadata": {},
   "outputs": [],
   "source": [
    "df = df.reset_index()"
   ]
  },
  {
   "cell_type": "markdown",
   "metadata": {},
   "source": [
    "Sätt beskrivande kolumnnamn"
   ]
  },
  {
   "cell_type": "code",
   "execution_count": 7,
   "metadata": {},
   "outputs": [],
   "source": [
    "df = df.rename(columns={'level_2': 'ageyeargender', 0: 'value'})"
   ]
  },
  {
   "cell_type": "markdown",
   "metadata": {},
   "source": [
    "Splitta områdesnamn till endast baskod"
   ]
  },
  {
   "cell_type": "code",
   "execution_count": 8,
   "metadata": {
    "scrolled": true
   },
   "outputs": [],
   "source": [
    "df['område'] = df['område'].str.split(' ', 1, expand = True)\n",
    "df = df.rename(columns={'område': 'BASKOD2010'})\n",
    "df['BASKOD2010'] = df['BASKOD2010'].astype(str).astype(int)"
   ]
  },
  {
   "cell_type": "markdown",
   "metadata": {},
   "source": [
    "Splitta ut `ageyeargender` till fyra separata kolumner"
   ]
  },
  {
   "cell_type": "code",
   "execution_count": 9,
   "metadata": {},
   "outputs": [],
   "source": [
    "df['agegroup'], df['kasta'], df['year'], df['gender'] = df['ageyeargender'].str.split(' ').str"
   ]
  },
  {
   "cell_type": "markdown",
   "metadata": {},
   "source": [
    "Kasta kolumner som inte längre är relevanta"
   ]
  },
  {
   "cell_type": "code",
   "execution_count": 10,
   "metadata": {},
   "outputs": [],
   "source": [
    "df = df.drop('kasta', 1)\n",
    "df = df.drop('ageyeargender', 1)"
   ]
  },
  {
   "cell_type": "markdown",
   "metadata": {},
   "source": [
    "Specificera ordningen på kolumnerna"
   ]
  },
  {
   "cell_type": "code",
   "execution_count": 11,
   "metadata": {},
   "outputs": [],
   "source": [
    "df = df[['BASKOD2010','year','utbildningsnivå', 'gender', 'agegroup', 'value']]"
   ]
  },
  {
   "cell_type": "code",
   "execution_count": 12,
   "metadata": {},
   "outputs": [],
   "source": [
    "# df.groupby(list(df.columns[:-1])).sum().reset_index()"
   ]
  },
  {
   "cell_type": "markdown",
   "metadata": {},
   "source": [
    "Byt om `BASKOD2010` till entity-namnet"
   ]
  },
  {
   "cell_type": "code",
   "execution_count": 13,
   "metadata": {},
   "outputs": [],
   "source": [
    "df = baskod2010tobasomrade(df)"
   ]
  },
  {
   "cell_type": "code",
   "execution_count": 14,
   "metadata": {},
   "outputs": [
    {
     "data": {
      "text/html": [
       "<div>\n",
       "<style scoped>\n",
       "    .dataframe tbody tr th:only-of-type {\n",
       "        vertical-align: middle;\n",
       "    }\n",
       "\n",
       "    .dataframe tbody tr th {\n",
       "        vertical-align: top;\n",
       "    }\n",
       "\n",
       "    .dataframe thead th {\n",
       "        text-align: right;\n",
       "    }\n",
       "</style>\n",
       "<table border=\"1\" class=\"dataframe\">\n",
       "  <thead>\n",
       "    <tr style=\"text-align: right;\">\n",
       "      <th></th>\n",
       "      <th>BASKOD2010</th>\n",
       "      <th>year</th>\n",
       "      <th>utbildningsnivå</th>\n",
       "      <th>gender</th>\n",
       "      <th>agegroup</th>\n",
       "      <th>value</th>\n",
       "      <th>BASKOD2000</th>\n",
       "      <th>basomrade</th>\n",
       "    </tr>\n",
       "  </thead>\n",
       "  <tbody>\n",
       "    <tr>\n",
       "      <th>150</th>\n",
       "      <td>1010120</td>\n",
       "      <td>2015</td>\n",
       "      <td>Eftergymnasial 3- år</td>\n",
       "      <td>Kvinnor</td>\n",
       "      <td>20-24</td>\n",
       "      <td>0</td>\n",
       "      <td>1010120.0</td>\n",
       "      <td>1010120_skeppsbron</td>\n",
       "    </tr>\n",
       "    <tr>\n",
       "      <th>151</th>\n",
       "      <td>1010120</td>\n",
       "      <td>2015</td>\n",
       "      <td>Eftergymnasial 3- år</td>\n",
       "      <td>Kvinnor</td>\n",
       "      <td>25-34</td>\n",
       "      <td>23</td>\n",
       "      <td>1010120.0</td>\n",
       "      <td>1010120_skeppsbron</td>\n",
       "    </tr>\n",
       "    <tr>\n",
       "      <th>152</th>\n",
       "      <td>1010120</td>\n",
       "      <td>2015</td>\n",
       "      <td>Eftergymnasial 3- år</td>\n",
       "      <td>Kvinnor</td>\n",
       "      <td>35-44</td>\n",
       "      <td>15</td>\n",
       "      <td>1010120.0</td>\n",
       "      <td>1010120_skeppsbron</td>\n",
       "    </tr>\n",
       "    <tr>\n",
       "      <th>153</th>\n",
       "      <td>1010120</td>\n",
       "      <td>2015</td>\n",
       "      <td>Eftergymnasial 3- år</td>\n",
       "      <td>Kvinnor</td>\n",
       "      <td>45-54</td>\n",
       "      <td>13</td>\n",
       "      <td>1010120.0</td>\n",
       "      <td>1010120_skeppsbron</td>\n",
       "    </tr>\n",
       "    <tr>\n",
       "      <th>154</th>\n",
       "      <td>1010120</td>\n",
       "      <td>2015</td>\n",
       "      <td>Eftergymnasial 3- år</td>\n",
       "      <td>Kvinnor</td>\n",
       "      <td>55-64</td>\n",
       "      <td>19</td>\n",
       "      <td>1010120.0</td>\n",
       "      <td>1010120_skeppsbron</td>\n",
       "    </tr>\n",
       "    <tr>\n",
       "      <th>155</th>\n",
       "      <td>1010120</td>\n",
       "      <td>2015</td>\n",
       "      <td>Eftergymnasial 3- år</td>\n",
       "      <td>Män</td>\n",
       "      <td>20-24</td>\n",
       "      <td>0</td>\n",
       "      <td>1010120.0</td>\n",
       "      <td>1010120_skeppsbron</td>\n",
       "    </tr>\n",
       "    <tr>\n",
       "      <th>156</th>\n",
       "      <td>1010120</td>\n",
       "      <td>2015</td>\n",
       "      <td>Eftergymnasial 3- år</td>\n",
       "      <td>Män</td>\n",
       "      <td>25-34</td>\n",
       "      <td>19</td>\n",
       "      <td>1010120.0</td>\n",
       "      <td>1010120_skeppsbron</td>\n",
       "    </tr>\n",
       "    <tr>\n",
       "      <th>157</th>\n",
       "      <td>1010120</td>\n",
       "      <td>2015</td>\n",
       "      <td>Eftergymnasial 3- år</td>\n",
       "      <td>Män</td>\n",
       "      <td>35-44</td>\n",
       "      <td>11</td>\n",
       "      <td>1010120.0</td>\n",
       "      <td>1010120_skeppsbron</td>\n",
       "    </tr>\n",
       "    <tr>\n",
       "      <th>158</th>\n",
       "      <td>1010120</td>\n",
       "      <td>2015</td>\n",
       "      <td>Eftergymnasial 3- år</td>\n",
       "      <td>Män</td>\n",
       "      <td>45-54</td>\n",
       "      <td>13</td>\n",
       "      <td>1010120.0</td>\n",
       "      <td>1010120_skeppsbron</td>\n",
       "    </tr>\n",
       "    <tr>\n",
       "      <th>159</th>\n",
       "      <td>1010120</td>\n",
       "      <td>2015</td>\n",
       "      <td>Eftergymnasial 3- år</td>\n",
       "      <td>Män</td>\n",
       "      <td>55-64</td>\n",
       "      <td>18</td>\n",
       "      <td>1010120.0</td>\n",
       "      <td>1010120_skeppsbron</td>\n",
       "    </tr>\n",
       "  </tbody>\n",
       "</table>\n",
       "</div>"
      ],
      "text/plain": [
       "     BASKOD2010  year       utbildningsnivå   gender agegroup  value  BASKOD2000           basomrade\n",
       "150     1010120  2015  Eftergymnasial 3- år  Kvinnor    20-24      0   1010120.0  1010120_skeppsbron\n",
       "151     1010120  2015  Eftergymnasial 3- år  Kvinnor    25-34     23   1010120.0  1010120_skeppsbron\n",
       "152     1010120  2015  Eftergymnasial 3- år  Kvinnor    35-44     15   1010120.0  1010120_skeppsbron\n",
       "153     1010120  2015  Eftergymnasial 3- år  Kvinnor    45-54     13   1010120.0  1010120_skeppsbron\n",
       "154     1010120  2015  Eftergymnasial 3- år  Kvinnor    55-64     19   1010120.0  1010120_skeppsbron\n",
       "155     1010120  2015  Eftergymnasial 3- år      Män    20-24      0   1010120.0  1010120_skeppsbron\n",
       "156     1010120  2015  Eftergymnasial 3- år      Män    25-34     19   1010120.0  1010120_skeppsbron\n",
       "157     1010120  2015  Eftergymnasial 3- år      Män    35-44     11   1010120.0  1010120_skeppsbron\n",
       "158     1010120  2015  Eftergymnasial 3- år      Män    45-54     13   1010120.0  1010120_skeppsbron\n",
       "159     1010120  2015  Eftergymnasial 3- år      Män    55-64     18   1010120.0  1010120_skeppsbron"
      ]
     },
     "execution_count": 14,
     "metadata": {},
     "output_type": "execute_result"
    }
   ],
   "source": [
    "df.head(10)"
   ]
  },
  {
   "cell_type": "markdown",
   "metadata": {},
   "source": [
    "Specificera indexering"
   ]
  },
  {
   "cell_type": "code",
   "execution_count": 15,
   "metadata": {
    "scrolled": true
   },
   "outputs": [],
   "source": [
    "df = df.set_index(['basomrade'])"
   ]
  },
  {
   "cell_type": "markdown",
   "metadata": {},
   "source": [
    "Slå samman åldersgrupper till en `25-64` grupp."
   ]
  },
  {
   "cell_type": "code",
   "execution_count": 16,
   "metadata": {},
   "outputs": [],
   "source": [
    "df = df[df['agegroup'] != '20-24']"
   ]
  },
  {
   "cell_type": "code",
   "execution_count": 17,
   "metadata": {
    "scrolled": true
   },
   "outputs": [],
   "source": [
    "df = df.groupby(['basomrade', 'year', 'utbildningsnivå', 'gender']).sum().reset_index()"
   ]
  },
  {
   "cell_type": "markdown",
   "metadata": {},
   "source": [
    "Byt namn på `gender` kolumnen för att följa konventionen i övriga notebooks."
   ]
  },
  {
   "cell_type": "code",
   "execution_count": 18,
   "metadata": {},
   "outputs": [],
   "source": [
    "df = df.rename(columns={'gender':'Kön'})"
   ]
  },
  {
   "cell_type": "markdown",
   "metadata": {},
   "source": [
    "Sätt `Kön` till en pandas category"
   ]
  },
  {
   "cell_type": "code",
   "execution_count": 19,
   "metadata": {},
   "outputs": [],
   "source": [
    "df['Kön'] = df['Kön'].astype('category')\n",
    "df['Kön'].cat.categories = ['female', 'male']"
   ]
  },
  {
   "cell_type": "markdown",
   "metadata": {},
   "source": [
    "# Befolkning 25-64"
   ]
  },
  {
   "cell_type": "markdown",
   "metadata": {},
   "source": [
    "Beräkna summan av antalet för varje basområde"
   ]
  },
  {
   "cell_type": "code",
   "execution_count": 20,
   "metadata": {},
   "outputs": [],
   "source": [
    "popgender = df.groupby(['basomrade', 'year', 'Kön']).sum().reset_index()\n",
    "total = df.groupby(['basomrade', 'year']).sum().reset_index()"
   ]
  },
  {
   "cell_type": "markdown",
   "metadata": {},
   "source": [
    "Exportera"
   ]
  },
  {
   "cell_type": "code",
   "execution_count": 21,
   "metadata": {},
   "outputs": [],
   "source": [
    "concept = 'population_aged_25_64'"
   ]
  },
  {
   "cell_type": "code",
   "execution_count": 22,
   "metadata": {},
   "outputs": [],
   "source": [
    "total = appendNewDatapoints(concept, total)\n",
    "female, male = byGender(concept, popgender)"
   ]
  },
  {
   "cell_type": "code",
   "execution_count": 23,
   "metadata": {},
   "outputs": [
    {
     "data": {
      "image/png": "[encoded data removed]",
      "text/plain": [
       "<Figure size 432x288 with 1 Axes>"
      ]
     },
     "metadata": {},
     "output_type": "display_data"
    }
   ],
   "source": [
    "plotcombined(total, 'total')"
   ]
  },
  {
   "cell_type": "code",
   "execution_count": 24,
   "metadata": {},
   "outputs": [
    {
     "data": {
      "image/png": "[encoded data removed]",
      "text/plain": [
       "<Figure size 432x288 with 1 Axes>"
      ]
     },
     "metadata": {},
     "output_type": "display_data"
    }
   ],
   "source": [
    "plotcombined(female, 'female')\n",
    "plotcombined(male, 'male')"
   ]
  }
 ],
 "metadata": {
  "kernelspec": {
   "display_name": "Python 3",
   "language": "python",
   "name": "python3"
  },
  "language_info": {
   "codemirror_mode": {
    "name": "ipython",
    "version": 3
   },
   "file_extension": ".py",
   "mimetype": "text/x-python",
   "name": "python",
   "nbconvert_exporter": "python",
   "pygments_lexer": "ipython3",
   "version": "3.6.5"
  }
 },
 "nbformat": 4,
 "nbformat_minor": 2
}
